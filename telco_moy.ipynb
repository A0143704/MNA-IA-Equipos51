{
  "cells": [
    {
      "cell_type": "markdown",
      "metadata": {
        "id": "view-in-github",
        "colab_type": "text"
      },
      "source": [
        "<a href=\"https://colab.research.google.com/github/A0143704/MNA-IA-Equipos51/blob/main/telco_moy.ipynb\" target=\"_parent\"><img src=\"https://colab.research.google.com/assets/colab-badge.svg\" alt=\"Open In Colab\"/></a>"
      ]
    },
    {
      "cell_type": "markdown",
      "metadata": {
        "id": "_z1D1c9ik13i"
      },
      "source": [
        "# <center> Base de datos de la rotación de clientes de telecomunicaciones </center>"
      ]
    },
    {
      "cell_type": "markdown",
      "metadata": {
        "id": "3rGCeKnvk13p"
      },
      "source": [
        "Una compañía de telecomunicaciones ficticia que brindó servicios telefónicos residenciales y de Internet a 7043 clientes en California en el tercer trimestre.\n",
        "\n",
        "Datos de Kaggle: https://www.kaggle.com/datasets/yeanzc/telco-customer-churn-ibm-dataset"
      ]
    },
    {
      "cell_type": "code",
      "execution_count": null,
      "metadata": {
        "id": "4Nx4mtXAk13r"
      },
      "outputs": [],
      "source": [
        "#Importación de librerías\n",
        "import pandas as pd"
      ]
    },
    {
      "cell_type": "code",
      "execution_count": null,
      "metadata": {
        "id": "cQZT4pZ2k13v",
        "outputId": "aefdc9ad-3e1e-4327-8a86-8054841708b9"
      },
      "outputs": [
        {
          "data": {
            "text/html": [
              "<div>\n",
              "<style scoped>\n",
              "    .dataframe tbody tr th:only-of-type {\n",
              "        vertical-align: middle;\n",
              "    }\n",
              "\n",
              "    .dataframe tbody tr th {\n",
              "        vertical-align: top;\n",
              "    }\n",
              "\n",
              "    .dataframe thead th {\n",
              "        text-align: right;\n",
              "    }\n",
              "</style>\n",
              "<table border=\"1\" class=\"dataframe\">\n",
              "  <thead>\n",
              "    <tr style=\"text-align: right;\">\n",
              "      <th></th>\n",
              "      <th>CustomerID</th>\n",
              "      <th>Count</th>\n",
              "      <th>Country</th>\n",
              "      <th>State</th>\n",
              "      <th>City</th>\n",
              "      <th>Zip Code</th>\n",
              "      <th>Lat Long</th>\n",
              "      <th>Latitude</th>\n",
              "      <th>Longitude</th>\n",
              "      <th>Gender</th>\n",
              "      <th>...</th>\n",
              "      <th>Contract</th>\n",
              "      <th>Paperless Billing</th>\n",
              "      <th>Payment Method</th>\n",
              "      <th>Monthly Charges</th>\n",
              "      <th>Total Charges</th>\n",
              "      <th>Churn Label</th>\n",
              "      <th>Churn Value</th>\n",
              "      <th>Churn Score</th>\n",
              "      <th>CLTV</th>\n",
              "      <th>Churn Reason</th>\n",
              "    </tr>\n",
              "  </thead>\n",
              "  <tbody>\n",
              "    <tr>\n",
              "      <th>0</th>\n",
              "      <td>3668-QPYBK</td>\n",
              "      <td>1</td>\n",
              "      <td>United States</td>\n",
              "      <td>California</td>\n",
              "      <td>Los Angeles</td>\n",
              "      <td>90003</td>\n",
              "      <td>33.964131, -118.272783</td>\n",
              "      <td>33.964131</td>\n",
              "      <td>-118.272783</td>\n",
              "      <td>Male</td>\n",
              "      <td>...</td>\n",
              "      <td>Month-to-month</td>\n",
              "      <td>Yes</td>\n",
              "      <td>Mailed check</td>\n",
              "      <td>53.85</td>\n",
              "      <td>108.15</td>\n",
              "      <td>Yes</td>\n",
              "      <td>1</td>\n",
              "      <td>86</td>\n",
              "      <td>3239</td>\n",
              "      <td>Competitor made better offer</td>\n",
              "    </tr>\n",
              "    <tr>\n",
              "      <th>1</th>\n",
              "      <td>9237-HQITU</td>\n",
              "      <td>1</td>\n",
              "      <td>United States</td>\n",
              "      <td>California</td>\n",
              "      <td>Los Angeles</td>\n",
              "      <td>90005</td>\n",
              "      <td>34.059281, -118.30742</td>\n",
              "      <td>34.059281</td>\n",
              "      <td>-118.307420</td>\n",
              "      <td>Female</td>\n",
              "      <td>...</td>\n",
              "      <td>Month-to-month</td>\n",
              "      <td>Yes</td>\n",
              "      <td>Electronic check</td>\n",
              "      <td>70.70</td>\n",
              "      <td>151.65</td>\n",
              "      <td>Yes</td>\n",
              "      <td>1</td>\n",
              "      <td>67</td>\n",
              "      <td>2701</td>\n",
              "      <td>Moved</td>\n",
              "    </tr>\n",
              "    <tr>\n",
              "      <th>2</th>\n",
              "      <td>9305-CDSKC</td>\n",
              "      <td>1</td>\n",
              "      <td>United States</td>\n",
              "      <td>California</td>\n",
              "      <td>Los Angeles</td>\n",
              "      <td>90006</td>\n",
              "      <td>34.048013, -118.293953</td>\n",
              "      <td>34.048013</td>\n",
              "      <td>-118.293953</td>\n",
              "      <td>Female</td>\n",
              "      <td>...</td>\n",
              "      <td>Month-to-month</td>\n",
              "      <td>Yes</td>\n",
              "      <td>Electronic check</td>\n",
              "      <td>99.65</td>\n",
              "      <td>820.5</td>\n",
              "      <td>Yes</td>\n",
              "      <td>1</td>\n",
              "      <td>86</td>\n",
              "      <td>5372</td>\n",
              "      <td>Moved</td>\n",
              "    </tr>\n",
              "    <tr>\n",
              "      <th>3</th>\n",
              "      <td>7892-POOKP</td>\n",
              "      <td>1</td>\n",
              "      <td>United States</td>\n",
              "      <td>California</td>\n",
              "      <td>Los Angeles</td>\n",
              "      <td>90010</td>\n",
              "      <td>34.062125, -118.315709</td>\n",
              "      <td>34.062125</td>\n",
              "      <td>-118.315709</td>\n",
              "      <td>Female</td>\n",
              "      <td>...</td>\n",
              "      <td>Month-to-month</td>\n",
              "      <td>Yes</td>\n",
              "      <td>Electronic check</td>\n",
              "      <td>104.80</td>\n",
              "      <td>3046.05</td>\n",
              "      <td>Yes</td>\n",
              "      <td>1</td>\n",
              "      <td>84</td>\n",
              "      <td>5003</td>\n",
              "      <td>Moved</td>\n",
              "    </tr>\n",
              "    <tr>\n",
              "      <th>4</th>\n",
              "      <td>0280-XJGEX</td>\n",
              "      <td>1</td>\n",
              "      <td>United States</td>\n",
              "      <td>California</td>\n",
              "      <td>Los Angeles</td>\n",
              "      <td>90015</td>\n",
              "      <td>34.039224, -118.266293</td>\n",
              "      <td>34.039224</td>\n",
              "      <td>-118.266293</td>\n",
              "      <td>Male</td>\n",
              "      <td>...</td>\n",
              "      <td>Month-to-month</td>\n",
              "      <td>Yes</td>\n",
              "      <td>Bank transfer (automatic)</td>\n",
              "      <td>103.70</td>\n",
              "      <td>5036.3</td>\n",
              "      <td>Yes</td>\n",
              "      <td>1</td>\n",
              "      <td>89</td>\n",
              "      <td>5340</td>\n",
              "      <td>Competitor had better devices</td>\n",
              "    </tr>\n",
              "  </tbody>\n",
              "</table>\n",
              "<p>5 rows × 33 columns</p>\n",
              "</div>"
            ],
            "text/plain": [
              "   CustomerID  Count        Country       State         City  Zip Code  \\\n",
              "0  3668-QPYBK      1  United States  California  Los Angeles     90003   \n",
              "1  9237-HQITU      1  United States  California  Los Angeles     90005   \n",
              "2  9305-CDSKC      1  United States  California  Los Angeles     90006   \n",
              "3  7892-POOKP      1  United States  California  Los Angeles     90010   \n",
              "4  0280-XJGEX      1  United States  California  Los Angeles     90015   \n",
              "\n",
              "                 Lat Long   Latitude   Longitude  Gender  ...        Contract  \\\n",
              "0  33.964131, -118.272783  33.964131 -118.272783    Male  ...  Month-to-month   \n",
              "1   34.059281, -118.30742  34.059281 -118.307420  Female  ...  Month-to-month   \n",
              "2  34.048013, -118.293953  34.048013 -118.293953  Female  ...  Month-to-month   \n",
              "3  34.062125, -118.315709  34.062125 -118.315709  Female  ...  Month-to-month   \n",
              "4  34.039224, -118.266293  34.039224 -118.266293    Male  ...  Month-to-month   \n",
              "\n",
              "  Paperless Billing             Payment Method  Monthly Charges Total Charges  \\\n",
              "0               Yes               Mailed check            53.85        108.15   \n",
              "1               Yes           Electronic check            70.70        151.65   \n",
              "2               Yes           Electronic check            99.65         820.5   \n",
              "3               Yes           Electronic check           104.80       3046.05   \n",
              "4               Yes  Bank transfer (automatic)           103.70        5036.3   \n",
              "\n",
              "  Churn Label Churn Value Churn Score  CLTV                   Churn Reason  \n",
              "0         Yes           1          86  3239   Competitor made better offer  \n",
              "1         Yes           1          67  2701                          Moved  \n",
              "2         Yes           1          86  5372                          Moved  \n",
              "3         Yes           1          84  5003                          Moved  \n",
              "4         Yes           1          89  5340  Competitor had better devices  \n",
              "\n",
              "[5 rows x 33 columns]"
            ]
          },
          "execution_count": 6,
          "metadata": {},
          "output_type": "execute_result"
        }
      ],
      "source": [
        "#Importación de archivo a DataFrame\n",
        "path = \"dataset/Telco_customer_churn.xlsx\"\n",
        "df = pd.read_excel(path)\n",
        "df.head()"
      ]
    },
    {
      "cell_type": "code",
      "execution_count": null,
      "metadata": {
        "id": "YiunK0eJk13y",
        "outputId": "dd99389e-c139-44e4-8b4f-b784d39421c5"
      },
      "outputs": [
        {
          "name": "stdout",
          "output_type": "stream",
          "text": [
            "<class 'pandas.core.frame.DataFrame'>\n",
            "RangeIndex: 7043 entries, 0 to 7042\n",
            "Data columns (total 33 columns):\n",
            " #   Column             Non-Null Count  Dtype  \n",
            "---  ------             --------------  -----  \n",
            " 0   CustomerID         7043 non-null   object \n",
            " 1   Count              7043 non-null   int64  \n",
            " 2   Country            7043 non-null   object \n",
            " 3   State              7043 non-null   object \n",
            " 4   City               7043 non-null   object \n",
            " 5   Zip Code           7043 non-null   int64  \n",
            " 6   Lat Long           7043 non-null   object \n",
            " 7   Latitude           7043 non-null   float64\n",
            " 8   Longitude          7043 non-null   float64\n",
            " 9   Gender             7043 non-null   object \n",
            " 10  Senior Citizen     7043 non-null   object \n",
            " 11  Partner            7043 non-null   object \n",
            " 12  Dependents         7043 non-null   object \n",
            " 13  Tenure Months      7043 non-null   int64  \n",
            " 14  Phone Service      7043 non-null   object \n",
            " 15  Multiple Lines     7043 non-null   object \n",
            " 16  Internet Service   7043 non-null   object \n",
            " 17  Online Security    7043 non-null   object \n",
            " 18  Online Backup      7043 non-null   object \n",
            " 19  Device Protection  7043 non-null   object \n",
            " 20  Tech Support       7043 non-null   object \n",
            " 21  Streaming TV       7043 non-null   object \n",
            " 22  Streaming Movies   7043 non-null   object \n",
            " 23  Contract           7043 non-null   object \n",
            " 24  Paperless Billing  7043 non-null   object \n",
            " 25  Payment Method     7043 non-null   object \n",
            " 26  Monthly Charges    7043 non-null   float64\n",
            " 27  Total Charges      7043 non-null   object \n",
            " 28  Churn Label        7043 non-null   object \n",
            " 29  Churn Value        7043 non-null   int64  \n",
            " 30  Churn Score        7043 non-null   int64  \n",
            " 31  CLTV               7043 non-null   int64  \n",
            " 32  Churn Reason       1869 non-null   object \n",
            "dtypes: float64(3), int64(6), object(24)\n",
            "memory usage: 1.8+ MB\n"
          ]
        }
      ],
      "source": [
        "#Información de los datos\n",
        "df.info()"
      ]
    },
    {
      "cell_type": "code",
      "execution_count": null,
      "metadata": {
        "id": "9tAt0P1mk131",
        "outputId": "3c2a3e5a-49be-49c5-8550-961a709cf9df"
      },
      "outputs": [
        {
          "name": "stdout",
          "output_type": "stream",
          "text": [
            "Tamaño de los datos X:  (7043, 32)\n",
            "Tamaño de los datos y:  (7043,)\n"
          ]
        }
      ],
      "source": [
        "#Determinamos las columnas que tenga el eje x e y\n",
        "X, y  = df.iloc[: , :-1], df[\"Churn Value\"]\n",
        "print(\"Tamaño de los datos X: \", X.shape)\n",
        "print(\"Tamaño de los datos y: \", y.shape)"
      ]
    },
    {
      "cell_type": "code",
      "execution_count": null,
      "metadata": {
        "id": "yc1-J-ssk133",
        "outputId": "d7623436-c284-462c-e6a8-d5a6e8689c9f"
      },
      "outputs": [
        {
          "name": "stdout",
          "output_type": "stream",
          "text": [
            "Clase 1:\t5174 - 73.46%\n",
            "Clase 2:\t1869 - 26.54%\n"
          ]
        }
      ],
      "source": [
        "class1, class2 = y.value_counts()\n",
        "print('Clase 1:\\t{} - {:.2f}%'.format(class1, class1/(class1+class2)*100))\n",
        "print('Clase 2:\\t{} - {:.2f}%'.format(class2, (class2/(class1+class2)*100)))"
      ]
    },
    {
      "cell_type": "code",
      "execution_count": null,
      "metadata": {
        "id": "6tXDt6tPk136",
        "outputId": "691ac110-e718-41f9-d294-cacfaed85312"
      },
      "outputs": [
        {
          "data": {
            "text/html": [
              "<div>\n",
              "<style scoped>\n",
              "    .dataframe tbody tr th:only-of-type {\n",
              "        vertical-align: middle;\n",
              "    }\n",
              "\n",
              "    .dataframe tbody tr th {\n",
              "        vertical-align: top;\n",
              "    }\n",
              "\n",
              "    .dataframe thead th {\n",
              "        text-align: right;\n",
              "    }\n",
              "</style>\n",
              "<table border=\"1\" class=\"dataframe\">\n",
              "  <thead>\n",
              "    <tr style=\"text-align: right;\">\n",
              "      <th></th>\n",
              "      <th>customer_id</th>\n",
              "      <th>count</th>\n",
              "      <th>country</th>\n",
              "      <th>state</th>\n",
              "      <th>city</th>\n",
              "      <th>zip_code</th>\n",
              "      <th>lat_long</th>\n",
              "      <th>latitude</th>\n",
              "      <th>longitude</th>\n",
              "      <th>gender</th>\n",
              "      <th>...</th>\n",
              "      <th>streaming_movies</th>\n",
              "      <th>contract</th>\n",
              "      <th>paperless_billing</th>\n",
              "      <th>payment_method</th>\n",
              "      <th>monthly_charges</th>\n",
              "      <th>total_charges</th>\n",
              "      <th>churn_label</th>\n",
              "      <th>churn_value</th>\n",
              "      <th>churn_score</th>\n",
              "      <th>cltv</th>\n",
              "    </tr>\n",
              "  </thead>\n",
              "  <tbody>\n",
              "    <tr>\n",
              "      <th>count</th>\n",
              "      <td>7044</td>\n",
              "      <td>7044</td>\n",
              "      <td>7044</td>\n",
              "      <td>7044</td>\n",
              "      <td>7044</td>\n",
              "      <td>7044</td>\n",
              "      <td>7044</td>\n",
              "      <td>7044.000000</td>\n",
              "      <td>7044.000000</td>\n",
              "      <td>7044</td>\n",
              "      <td>...</td>\n",
              "      <td>7044</td>\n",
              "      <td>7044</td>\n",
              "      <td>7044</td>\n",
              "      <td>7044</td>\n",
              "      <td>7044.00</td>\n",
              "      <td>7044</td>\n",
              "      <td>7044</td>\n",
              "      <td>7044</td>\n",
              "      <td>7044</td>\n",
              "      <td>7044</td>\n",
              "    </tr>\n",
              "    <tr>\n",
              "      <th>unique</th>\n",
              "      <td>7044</td>\n",
              "      <td>2</td>\n",
              "      <td>2</td>\n",
              "      <td>2</td>\n",
              "      <td>1130</td>\n",
              "      <td>1653</td>\n",
              "      <td>1653</td>\n",
              "      <td>1653.000000</td>\n",
              "      <td>1652.000000</td>\n",
              "      <td>3</td>\n",
              "      <td>...</td>\n",
              "      <td>4</td>\n",
              "      <td>4</td>\n",
              "      <td>3</td>\n",
              "      <td>5</td>\n",
              "      <td>1586.00</td>\n",
              "      <td>6532</td>\n",
              "      <td>3</td>\n",
              "      <td>3</td>\n",
              "      <td>86</td>\n",
              "      <td>3439</td>\n",
              "    </tr>\n",
              "    <tr>\n",
              "      <th>top</th>\n",
              "      <td>CustomerID</td>\n",
              "      <td>1</td>\n",
              "      <td>United States</td>\n",
              "      <td>California</td>\n",
              "      <td>Los Angeles</td>\n",
              "      <td>91344</td>\n",
              "      <td>34.291273, -118.505104</td>\n",
              "      <td>34.291273</td>\n",
              "      <td>-121.994813</td>\n",
              "      <td>Male</td>\n",
              "      <td>...</td>\n",
              "      <td>No</td>\n",
              "      <td>Month-to-month</td>\n",
              "      <td>Yes</td>\n",
              "      <td>Electronic check</td>\n",
              "      <td>20.05</td>\n",
              "      <td></td>\n",
              "      <td>No</td>\n",
              "      <td>0</td>\n",
              "      <td>80</td>\n",
              "      <td>5546</td>\n",
              "    </tr>\n",
              "    <tr>\n",
              "      <th>freq</th>\n",
              "      <td>1</td>\n",
              "      <td>7043</td>\n",
              "      <td>7043</td>\n",
              "      <td>7043</td>\n",
              "      <td>305</td>\n",
              "      <td>5</td>\n",
              "      <td>5</td>\n",
              "      <td>5.000000</td>\n",
              "      <td>8.000000</td>\n",
              "      <td>3555</td>\n",
              "      <td>...</td>\n",
              "      <td>2785</td>\n",
              "      <td>3875</td>\n",
              "      <td>4171</td>\n",
              "      <td>2365</td>\n",
              "      <td>61.00</td>\n",
              "      <td>11</td>\n",
              "      <td>5174</td>\n",
              "      <td>5174</td>\n",
              "      <td>151</td>\n",
              "      <td>8</td>\n",
              "    </tr>\n",
              "  </tbody>\n",
              "</table>\n",
              "<p>4 rows × 32 columns</p>\n",
              "</div>"
            ],
            "text/plain": [
              "       customer_id  count        country       state         city  zip_code  \\\n",
              "count         7044   7044           7044        7044         7044      7044   \n",
              "unique        7044      2              2           2         1130      1653   \n",
              "top     CustomerID      1  United States  California  Los Angeles     91344   \n",
              "freq             1   7043           7043        7043          305         5   \n",
              "\n",
              "                      lat_long     latitude    longitude gender  ...  \\\n",
              "count                     7044  7044.000000  7044.000000   7044  ...   \n",
              "unique                    1653  1653.000000  1652.000000      3  ...   \n",
              "top     34.291273, -118.505104    34.291273  -121.994813   Male  ...   \n",
              "freq                         5     5.000000     8.000000   3555  ...   \n",
              "\n",
              "       streaming_movies        contract paperless_billing    payment_method  \\\n",
              "count              7044            7044              7044              7044   \n",
              "unique                4               4                 3                 5   \n",
              "top                  No  Month-to-month               Yes  Electronic check   \n",
              "freq               2785            3875              4171              2365   \n",
              "\n",
              "       monthly_charges total_charges churn_label churn_value churn_score  cltv  \n",
              "count          7044.00          7044        7044        7044        7044  7044  \n",
              "unique         1586.00          6532           3           3          86  3439  \n",
              "top              20.05                        No           0          80  5546  \n",
              "freq             61.00            11        5174        5174         151     8  \n",
              "\n",
              "[4 rows x 32 columns]"
            ]
          },
          "execution_count": 26,
          "metadata": {},
          "output_type": "execute_result"
        }
      ],
      "source": [
        "#Descipción de los datos\n",
        "X.describe()"
      ]
    },
    {
      "cell_type": "code",
      "execution_count": null,
      "metadata": {
        "id": "9s1R-lYxk139",
        "outputId": "768abab1-518e-4c84-c561-9a297ab2e0e4"
      },
      "outputs": [
        {
          "data": {
            "text/plain": [
              "customer_id          0\n",
              "count                0\n",
              "country              0\n",
              "state                0\n",
              "city                 0\n",
              "zip_code             0\n",
              "lat_long             0\n",
              "latitude             0\n",
              "longitude            0\n",
              "gender               0\n",
              "senior_citizen       0\n",
              "partner              0\n",
              "dependents           0\n",
              "tenure_months        0\n",
              "phone_service        0\n",
              "multiple_lines       0\n",
              "internet_service     0\n",
              "online_security      0\n",
              "online_backup        0\n",
              "device_protection    0\n",
              "tech_support         0\n",
              "streaming_tv         0\n",
              "streaming_movies     0\n",
              "contract             0\n",
              "paperless_billing    0\n",
              "payment_method       0\n",
              "monthly_charges      0\n",
              "total_charges        0\n",
              "churn_label          0\n",
              "churn_value          0\n",
              "churn_score          0\n",
              "cltv                 0\n",
              "dtype: int64"
            ]
          },
          "execution_count": 27,
          "metadata": {},
          "output_type": "execute_result"
        }
      ],
      "source": [
        "# Búsqueda de los datos nulos en los datos de entrada\n",
        "X.isnull().sum()"
      ]
    },
    {
      "cell_type": "code",
      "execution_count": null,
      "metadata": {
        "id": "FwicR4aQk13_",
        "outputId": "fa5b738a-22e3-4371-964a-8782a324983b"
      },
      "outputs": [
        {
          "name": "stdout",
          "output_type": "stream",
          "text": [
            "'nulos' en los datos de salida:   5174\n"
          ]
        }
      ],
      "source": [
        "#Búsqueda de los datos nulos en los datos de salida\n",
        "print(\"'nulos' en los datos de salida:  \", y.isnull().sum())"
      ]
    },
    {
      "cell_type": "markdown",
      "metadata": {
        "id": "2MGPeZg3k14D"
      },
      "source": [
        "# Verificar que la Variable Objetivo si sea la ultima columna"
      ]
    },
    {
      "cell_type": "markdown",
      "metadata": {
        "id": "zH78-AbEk14F"
      },
      "source": [
        "### Ejercicio 3-a: Describe el problema y el objetivo que se busca."
      ]
    },
    {
      "cell_type": "markdown",
      "metadata": {
        "id": "M5vS_YP9k14G"
      },
      "source": [
        "--Llenar"
      ]
    },
    {
      "cell_type": "markdown",
      "metadata": {
        "id": "eBXDSYmAk14G"
      },
      "source": [
        "### Ejercicio 3-b: ¿Es un problema desbalanceado? ¿Cómo se podría enfrentar?"
      ]
    },
    {
      "cell_type": "markdown",
      "metadata": {
        "id": "M7VU8mnOk14J"
      },
      "source": [
        "--Llenar"
      ]
    },
    {
      "cell_type": "markdown",
      "metadata": {
        "id": "3Mh71ifCk14K"
      },
      "source": [
        "### Ejercicio 3-c: ¿Qué implicaciones a que conllevan un FP o un FN?"
      ]
    },
    {
      "cell_type": "markdown",
      "metadata": {
        "id": "EdynYA6Mk14K"
      },
      "source": [
        "--Llenar"
      ]
    },
    {
      "cell_type": "markdown",
      "metadata": {
        "id": "f60ZiV8mk14L"
      },
      "source": [
        "### Ejercicio 3-d: Determinar el tipo de métrica de acuerdo con la Taxonomía de los autores."
      ]
    },
    {
      "cell_type": "markdown",
      "metadata": {
        "id": "mohMD5m9k14N"
      },
      "source": [
        "--Llenar"
      ]
    }
  ],
  "metadata": {
    "kernelspec": {
      "display_name": "Python 3.10.7 64-bit",
      "language": "python",
      "name": "python3"
    },
    "language_info": {
      "codemirror_mode": {
        "name": "ipython",
        "version": 3
      },
      "file_extension": ".py",
      "mimetype": "text/x-python",
      "name": "python",
      "nbconvert_exporter": "python",
      "pygments_lexer": "ipython3",
      "version": "3.10.7"
    },
    "orig_nbformat": 4,
    "vscode": {
      "interpreter": {
        "hash": "4435b413409b7307cd356ee89e19765aec4b40a42c29a345f39f43dd56cea7e2"
      }
    },
    "colab": {
      "provenance": [],
      "include_colab_link": true
    }
  },
  "nbformat": 4,
  "nbformat_minor": 0
}