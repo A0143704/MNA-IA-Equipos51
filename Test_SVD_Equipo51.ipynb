{
  "cells": [
    {
      "cell_type": "markdown",
      "metadata": {
        "id": "view-in-github",
        "colab_type": "text"
      },
      "source": [
        "<a href=\"https://colab.research.google.com/github/A0143704/MNA-IA-Equipos51/blob/main/Test_SVD_Equipo51.ipynb\" target=\"_parent\"><img src=\"https://colab.research.google.com/assets/colab-badge.svg\" alt=\"Open In Colab\"/></a>"
      ]
    },
    {
      "cell_type": "markdown",
      "metadata": {
        "id": "VFj0sSM06dYa"
      },
      "source": [
        "![tec-de-monterrey-logo.png](data:image/png;base64,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)\n",
        "\n",
        "# **Maestría en Inteligencia Artificial Aplicada**\n",
        "## **Curso: Inteligencia Artificial y Aprendizaje Automático**\n",
        "### Tecnológico de Monterrey\n",
        "### Prof Luis Eduardo Falcón Morales\n",
        "\n",
        "## **Adtividad de la Semana 10**\n",
        "### **Reducción de Dimensionalidad - Descomposición en Valores Singulares (SVD) y Sistemas de Recomendación**\n"
      ]
    },
    {
      "cell_type": "markdown",
      "metadata": {
        "id": "Qgrvy0RGB9XI"
      },
      "source": [
        "**Nombres y matrículas de los integrantes del equipo:**\n",
        "\n",
        "*  Moisés Rangel Silva A00143704\n",
        "*  Jessica Lechuga Ramos A01793512\n",
        "*  Fernando Ramírez Gómez A01298109\n",
        "*  Francisco Javier Ramírez Arias A01316379\n",
        "*  Carlos Enríquez Gorgonio A01793102\n"
      ]
    },
    {
      "cell_type": "markdown",
      "metadata": {
        "id": "FrJ2ahMODVj1"
      },
      "source": [
        "En cada sección deberás incluir todas las líneas de código necesarias para responder a cada uno de los ejercicios."
      ]
    },
    {
      "cell_type": "markdown",
      "metadata": {
        "id": "TzTmPAOgqxbY"
      },
      "source": [
        "Se trabajará con el conjunto de datos llamado \"Restaurant & consumer\", para la generación de un \n",
        "sistema de recomendación. Estos sistemas están dentro de los llamados métodos no supervisados y que \n",
        "se basan en técnicas de reducción de dimensionalidad. \n",
        "El archivo a descargar se llama RCdata.zip y se encuentra en la siguiente liga del repositorio de la UCI: \n",
        "https://archive.ics.uci.edu/ml/datasets/Restaurant+%26+consumer+data  \n",
        "En particular se trabajará con los siguientes archvios, los cuales contienen la información mínima que \n",
        "requerimos para esta actividad: rating_final.csv y geoplaces2.csv. "
      ]
    },
    {
      "cell_type": "code",
      "execution_count": null,
      "metadata": {
        "id": "exXsscs-Dh-2",
        "vscode": {
          "languageId": "python"
        }
      },
      "outputs": [],
      "source": [
        "# Incluye aquí todos módulos, librerías y paquetes que requieras.\n",
        "import numpy as np\n",
        "import pandas as pd\n",
        "import requests, zipfile\n",
        "\n",
        "from io import BytesIO\n",
        "from sklearn.decomposition import TruncatedSVD"
      ]
    },
    {
      "cell_type": "markdown",
      "metadata": {
        "id": "X25brD-gQdZM"
      },
      "source": [
        "# **Ejercicio-1.** "
      ]
    },
    {
      "cell_type": "markdown",
      "metadata": {
        "id": "vl7uF3tkq3zs"
      },
      "source": [
        "Descarga los archivos y genera la matriz de utilidad en la cual los renglones son los usuarios \n",
        "(user_ID), las columnas los nombres de los restaurantes (name) y las entradas la evaluaciones \n",
        "generales dadas por los usuarios (rating). En particular indica el tamaño de dicha matriz y despliega \n",
        "sus primeros 10 renglones. "
      ]
    },
    {
      "cell_type": "code",
      "execution_count": null,
      "metadata": {
        "colab": {
          "base_uri": "https://localhost:8080/"
        },
        "id": "3nU2GuWYCy6C",
        "outputId": "68a01877-0ea9-4244-cc6e-2ff80f70a4a7",
        "vscode": {
          "languageId": "python"
        }
      },
      "outputs": [
        {
          "output_type": "execute_result",
          "data": {
            "text/plain": [
              "((1161, 5), (130, 21))"
            ]
          },
          "metadata": {},
          "execution_count": 192
        }
      ],
      "source": [
        "url = 'https://archive.ics.uci.edu/ml/machine-learning-databases/00232/RCdata.zip'\n",
        "req = requests.get(url)\n",
        "zipfile.ZipFile(BytesIO(req.content)).extractall('Data/')\n",
        "df_data_rating=pd.read_csv('Data/rating_final.csv', encoding = 'latin1')\n",
        "df_data_geo=pd.read_csv('Data/geoplaces2.csv', encoding = 'latin1')\n",
        "df_data_rating.shape,df_data_geo.shape"
      ]
    },
    {
      "cell_type": "code",
      "execution_count": null,
      "metadata": {
        "colab": {
          "base_uri": "https://localhost:8080/",
          "height": 419
        },
        "id": "O2NkuJEgp-0I",
        "outputId": "09a886ee-625c-4aef-d981-3e5ee0b2dc1f",
        "vscode": {
          "languageId": "python"
        }
      },
      "outputs": [
        {
          "output_type": "execute_result",
          "data": {
            "text/plain": [
              "     userID  placeID  rating  food_rating  service_rating\n",
              "0     U1077   135085       2            2               2\n",
              "1     U1077   135038       2            2               1\n",
              "2     U1077   132825       2            2               2\n",
              "3     U1077   135060       1            2               2\n",
              "4     U1068   135104       1            1               2\n",
              "...     ...      ...     ...          ...             ...\n",
              "1156  U1043   132630       1            1               1\n",
              "1157  U1011   132715       1            1               0\n",
              "1158  U1068   132733       1            1               0\n",
              "1159  U1068   132594       1            1               1\n",
              "1160  U1068   132660       0            0               0\n",
              "\n",
              "[1161 rows x 5 columns]"
            ],
            "text/html": [
              "\n",
              "  <div id=\"df-039e5c41-7fe9-4a2f-b1e7-f820d02b0ba7\">\n",
              "    <div class=\"colab-df-container\">\n",
              "      <div>\n",
              "<style scoped>\n",
              "    .dataframe tbody tr th:only-of-type {\n",
              "        vertical-align: middle;\n",
              "    }\n",
              "\n",
              "    .dataframe tbody tr th {\n",
              "        vertical-align: top;\n",
              "    }\n",
              "\n",
              "    .dataframe thead th {\n",
              "        text-align: right;\n",
              "    }\n",
              "</style>\n",
              "<table border=\"1\" class=\"dataframe\">\n",
              "  <thead>\n",
              "    <tr style=\"text-align: right;\">\n",
              "      <th></th>\n",
              "      <th>userID</th>\n",
              "      <th>placeID</th>\n",
              "      <th>rating</th>\n",
              "      <th>food_rating</th>\n",
              "      <th>service_rating</th>\n",
              "    </tr>\n",
              "  </thead>\n",
              "  <tbody>\n",
              "    <tr>\n",
              "      <th>0</th>\n",
              "      <td>U1077</td>\n",
              "      <td>135085</td>\n",
              "      <td>2</td>\n",
              "      <td>2</td>\n",
              "      <td>2</td>\n",
              "    </tr>\n",
              "    <tr>\n",
              "      <th>1</th>\n",
              "      <td>U1077</td>\n",
              "      <td>135038</td>\n",
              "      <td>2</td>\n",
              "      <td>2</td>\n",
              "      <td>1</td>\n",
              "    </tr>\n",
              "    <tr>\n",
              "      <th>2</th>\n",
              "      <td>U1077</td>\n",
              "      <td>132825</td>\n",
              "      <td>2</td>\n",
              "      <td>2</td>\n",
              "      <td>2</td>\n",
              "    </tr>\n",
              "    <tr>\n",
              "      <th>3</th>\n",
              "      <td>U1077</td>\n",
              "      <td>135060</td>\n",
              "      <td>1</td>\n",
              "      <td>2</td>\n",
              "      <td>2</td>\n",
              "    </tr>\n",
              "    <tr>\n",
              "      <th>4</th>\n",
              "      <td>U1068</td>\n",
              "      <td>135104</td>\n",
              "      <td>1</td>\n",
              "      <td>1</td>\n",
              "      <td>2</td>\n",
              "    </tr>\n",
              "    <tr>\n",
              "      <th>...</th>\n",
              "      <td>...</td>\n",
              "      <td>...</td>\n",
              "      <td>...</td>\n",
              "      <td>...</td>\n",
              "      <td>...</td>\n",
              "    </tr>\n",
              "    <tr>\n",
              "      <th>1156</th>\n",
              "      <td>U1043</td>\n",
              "      <td>132630</td>\n",
              "      <td>1</td>\n",
              "      <td>1</td>\n",
              "      <td>1</td>\n",
              "    </tr>\n",
              "    <tr>\n",
              "      <th>1157</th>\n",
              "      <td>U1011</td>\n",
              "      <td>132715</td>\n",
              "      <td>1</td>\n",
              "      <td>1</td>\n",
              "      <td>0</td>\n",
              "    </tr>\n",
              "    <tr>\n",
              "      <th>1158</th>\n",
              "      <td>U1068</td>\n",
              "      <td>132733</td>\n",
              "      <td>1</td>\n",
              "      <td>1</td>\n",
              "      <td>0</td>\n",
              "    </tr>\n",
              "    <tr>\n",
              "      <th>1159</th>\n",
              "      <td>U1068</td>\n",
              "      <td>132594</td>\n",
              "      <td>1</td>\n",
              "      <td>1</td>\n",
              "      <td>1</td>\n",
              "    </tr>\n",
              "    <tr>\n",
              "      <th>1160</th>\n",
              "      <td>U1068</td>\n",
              "      <td>132660</td>\n",
              "      <td>0</td>\n",
              "      <td>0</td>\n",
              "      <td>0</td>\n",
              "    </tr>\n",
              "  </tbody>\n",
              "</table>\n",
              "<p>1161 rows × 5 columns</p>\n",
              "</div>\n",
              "      <button class=\"colab-df-convert\" onclick=\"convertToInteractive('df-039e5c41-7fe9-4a2f-b1e7-f820d02b0ba7')\"\n",
              "              title=\"Convert this dataframe to an interactive table.\"\n",
              "              style=\"display:none;\">\n",
              "        \n",
              "  <svg xmlns=\"http://www.w3.org/2000/svg\" height=\"24px\"viewBox=\"0 0 24 24\"\n",
              "       width=\"24px\">\n",
              "    <path d=\"M0 0h24v24H0V0z\" fill=\"none\"/>\n",
              "    <path d=\"M18.56 5.44l.94 2.06.94-2.06 2.06-.94-2.06-.94-.94-2.06-.94 2.06-2.06.94zm-11 1L8.5 8.5l.94-2.06 2.06-.94-2.06-.94L8.5 2.5l-.94 2.06-2.06.94zm10 10l.94 2.06.94-2.06 2.06-.94-2.06-.94-.94-2.06-.94 2.06-2.06.94z\"/><path d=\"M17.41 7.96l-1.37-1.37c-.4-.4-.92-.59-1.43-.59-.52 0-1.04.2-1.43.59L10.3 9.45l-7.72 7.72c-.78.78-.78 2.05 0 2.83L4 21.41c.39.39.9.59 1.41.59.51 0 1.02-.2 1.41-.59l7.78-7.78 2.81-2.81c.8-.78.8-2.07 0-2.86zM5.41 20L4 18.59l7.72-7.72 1.47 1.35L5.41 20z\"/>\n",
              "  </svg>\n",
              "      </button>\n",
              "      \n",
              "  <style>\n",
              "    .colab-df-container {\n",
              "      display:flex;\n",
              "      flex-wrap:wrap;\n",
              "      gap: 12px;\n",
              "    }\n",
              "\n",
              "    .colab-df-convert {\n",
              "      background-color: #E8F0FE;\n",
              "      border: none;\n",
              "      border-radius: 50%;\n",
              "      cursor: pointer;\n",
              "      display: none;\n",
              "      fill: #1967D2;\n",
              "      height: 32px;\n",
              "      padding: 0 0 0 0;\n",
              "      width: 32px;\n",
              "    }\n",
              "\n",
              "    .colab-df-convert:hover {\n",
              "      background-color: #E2EBFA;\n",
              "      box-shadow: 0px 1px 2px rgba(60, 64, 67, 0.3), 0px 1px 3px 1px rgba(60, 64, 67, 0.15);\n",
              "      fill: #174EA6;\n",
              "    }\n",
              "\n",
              "    [theme=dark] .colab-df-convert {\n",
              "      background-color: #3B4455;\n",
              "      fill: #D2E3FC;\n",
              "    }\n",
              "\n",
              "    [theme=dark] .colab-df-convert:hover {\n",
              "      background-color: #434B5C;\n",
              "      box-shadow: 0px 1px 3px 1px rgba(0, 0, 0, 0.15);\n",
              "      filter: drop-shadow(0px 1px 2px rgba(0, 0, 0, 0.3));\n",
              "      fill: #FFFFFF;\n",
              "    }\n",
              "  </style>\n",
              "\n",
              "      <script>\n",
              "        const buttonEl =\n",
              "          document.querySelector('#df-039e5c41-7fe9-4a2f-b1e7-f820d02b0ba7 button.colab-df-convert');\n",
              "        buttonEl.style.display =\n",
              "          google.colab.kernel.accessAllowed ? 'block' : 'none';\n",
              "\n",
              "        async function convertToInteractive(key) {\n",
              "          const element = document.querySelector('#df-039e5c41-7fe9-4a2f-b1e7-f820d02b0ba7');\n",
              "          const dataTable =\n",
              "            await google.colab.kernel.invokeFunction('convertToInteractive',\n",
              "                                                     [key], {});\n",
              "          if (!dataTable) return;\n",
              "\n",
              "          const docLinkHtml = 'Like what you see? Visit the ' +\n",
              "            '<a target=\"_blank\" href=https://colab.research.google.com/notebooks/data_table.ipynb>data table notebook</a>'\n",
              "            + ' to learn more about interactive tables.';\n",
              "          element.innerHTML = '';\n",
              "          dataTable['output_type'] = 'display_data';\n",
              "          await google.colab.output.renderOutput(dataTable, element);\n",
              "          const docLink = document.createElement('div');\n",
              "          docLink.innerHTML = docLinkHtml;\n",
              "          element.appendChild(docLink);\n",
              "        }\n",
              "      </script>\n",
              "    </div>\n",
              "  </div>\n",
              "  "
            ]
          },
          "metadata": {},
          "execution_count": 193
        }
      ],
      "source": [
        "df_data_rating"
      ]
    },
    {
      "cell_type": "code",
      "execution_count": null,
      "metadata": {
        "colab": {
          "base_uri": "https://localhost:8080/",
          "height": 823
        },
        "id": "9McTdZEdqBHw",
        "outputId": "42ec5a8b-f461-46b9-cc75-202f919341e3",
        "vscode": {
          "languageId": "python"
        }
      },
      "outputs": [
        {
          "output_type": "execute_result",
          "data": {
            "text/plain": [
              "     placeID   latitude   longitude  \\\n",
              "0     134999  18.915421  -99.184871   \n",
              "1     132825  22.147392 -100.983092   \n",
              "2     135106  22.149709 -100.976093   \n",
              "3     132667  23.752697  -99.163359   \n",
              "4     132613  23.752903  -99.165076   \n",
              "..       ...        ...         ...   \n",
              "125   132866  22.141220 -100.931311   \n",
              "126   135072  22.149192 -101.002936   \n",
              "127   135109  18.921785  -99.235350   \n",
              "128   135019  18.875011  -99.159422   \n",
              "129   132877  22.135364 -100.934948   \n",
              "\n",
              "                                        the_geom_meter  \\\n",
              "0    0101000020957F000088568DE356715AC138C0A525FC46...   \n",
              "1    0101000020957F00001AD016568C4858C1243261274BA5...   \n",
              "2    0101000020957F0000649D6F21634858C119AE9BF528A3...   \n",
              "3    0101000020957F00005D67BCDDED8157C1222A2DC8D84D...   \n",
              "4    0101000020957F00008EBA2D06DC8157C194E03B7B504E...   \n",
              "..                                                 ...   \n",
              "125  0101000020957F000013871838EC4A58C1B5DF74F8E396...   \n",
              "126  0101000020957F0000E7B79B1DB94758C1D29BC363D8AA...   \n",
              "127  0101000020957F0000A6BF695F136F5AC1DADF87B20556...   \n",
              "128  0101000020957F0000B49B2E5C6E785AC12F9D58435241...   \n",
              "129  0101000020957F000090735015B84B58C1AF0DC0414698...   \n",
              "\n",
              "                               name  \\\n",
              "0                   Kiku Cuernavaca   \n",
              "1                   puesto de tacos   \n",
              "2        El Rincón de San Francisco   \n",
              "3    little pizza Emilio Portes Gil   \n",
              "4                     carnitas_mata   \n",
              "..                              ...   \n",
              "125                         Chaires   \n",
              "126                      Sushi Itto   \n",
              "127                       Paniroles   \n",
              "128     Restaurant Bar Coty y Pablo   \n",
              "129                sirloin stockade   \n",
              "\n",
              "                                             address             city  \\\n",
              "0                                         Revolucion       Cuernavaca   \n",
              "1             esquina santos degollado y leon guzman           s.l.p.   \n",
              "2                                    Universidad 169  San Luis Potosi   \n",
              "3                            calle emilio portes gil        victoria    \n",
              "4                             lic. Emilio portes gil         victoria   \n",
              "..                                               ...              ...   \n",
              "125                                 Ricardo B. Anaya  San Luis Potosi   \n",
              "126               Venustiano Carranza 1809 C Polanco  San Luis Potosi   \n",
              "127                                                ?                ?   \n",
              "128  Paseo de Las Fuentes 24 Pedregal de Las Fuentes         Jiutepec   \n",
              "129                                                ?                ?   \n",
              "\n",
              "               state country fax  ...            alcohol   smoking_area  \\\n",
              "0            Morelos  Mexico   ?  ...  No_Alcohol_Served           none   \n",
              "1             s.l.p.  mexico   ?  ...  No_Alcohol_Served           none   \n",
              "2    San Luis Potosi  Mexico   ?  ...          Wine-Beer    only at bar   \n",
              "3         tamaulipas       ?   ?  ...  No_Alcohol_Served           none   \n",
              "4         Tamaulipas  Mexico   ?  ...  No_Alcohol_Served      permitted   \n",
              "..               ...     ...  ..  ...                ...            ...   \n",
              "125  San Luis Potosi  Mexico   ?  ...  No_Alcohol_Served  not permitted   \n",
              "126              SLP  Mexico   ?  ...  No_Alcohol_Served           none   \n",
              "127                ?       ?   ?  ...          Wine-Beer  not permitted   \n",
              "128          Morelos  Mexico   ?  ...  No_Alcohol_Served           none   \n",
              "129                ?       ?   ?  ...  No_Alcohol_Served           none   \n",
              "\n",
              "    dress_code     accessibility   price                    url Rambience  \\\n",
              "0     informal  no_accessibility  medium  kikucuernavaca.com.mx  familiar   \n",
              "1     informal        completely     low                      ?  familiar   \n",
              "2     informal         partially  medium                      ?  familiar   \n",
              "3     informal        completely     low                      ?  familiar   \n",
              "4     informal        completely  medium                      ?  familiar   \n",
              "..         ...               ...     ...                    ...       ...   \n",
              "125   informal        completely  medium                      ?  familiar   \n",
              "126   informal  no_accessibility  medium      sushi-itto.com.mx  familiar   \n",
              "127   informal  no_accessibility  medium                      ?     quiet   \n",
              "128   informal        completely     low                      ?  familiar   \n",
              "129   informal        completely     low                      ?  familiar   \n",
              "\n",
              "    franchise    area other_services  \n",
              "0           f  closed           none  \n",
              "1           f    open           none  \n",
              "2           f    open           none  \n",
              "3           t  closed           none  \n",
              "4           t  closed           none  \n",
              "..        ...     ...            ...  \n",
              "125         f  closed           none  \n",
              "126         f  closed           none  \n",
              "127         f  closed       Internet  \n",
              "128         f  closed           none  \n",
              "129         f  closed           none  \n",
              "\n",
              "[130 rows x 21 columns]"
            ],
            "text/html": [
              "\n",
              "  <div id=\"df-db699615-4cf6-4c33-801e-1f1d4c54bfcc\">\n",
              "    <div class=\"colab-df-container\">\n",
              "      <div>\n",
              "<style scoped>\n",
              "    .dataframe tbody tr th:only-of-type {\n",
              "        vertical-align: middle;\n",
              "    }\n",
              "\n",
              "    .dataframe tbody tr th {\n",
              "        vertical-align: top;\n",
              "    }\n",
              "\n",
              "    .dataframe thead th {\n",
              "        text-align: right;\n",
              "    }\n",
              "</style>\n",
              "<table border=\"1\" class=\"dataframe\">\n",
              "  <thead>\n",
              "    <tr style=\"text-align: right;\">\n",
              "      <th></th>\n",
              "      <th>placeID</th>\n",
              "      <th>latitude</th>\n",
              "      <th>longitude</th>\n",
              "      <th>the_geom_meter</th>\n",
              "      <th>name</th>\n",
              "      <th>address</th>\n",
              "      <th>city</th>\n",
              "      <th>state</th>\n",
              "      <th>country</th>\n",
              "      <th>fax</th>\n",
              "      <th>...</th>\n",
              "      <th>alcohol</th>\n",
              "      <th>smoking_area</th>\n",
              "      <th>dress_code</th>\n",
              "      <th>accessibility</th>\n",
              "      <th>price</th>\n",
              "      <th>url</th>\n",
              "      <th>Rambience</th>\n",
              "      <th>franchise</th>\n",
              "      <th>area</th>\n",
              "      <th>other_services</th>\n",
              "    </tr>\n",
              "  </thead>\n",
              "  <tbody>\n",
              "    <tr>\n",
              "      <th>0</th>\n",
              "      <td>134999</td>\n",
              "      <td>18.915421</td>\n",
              "      <td>-99.184871</td>\n",
              "      <td>0101000020957F000088568DE356715AC138C0A525FC46...</td>\n",
              "      <td>Kiku Cuernavaca</td>\n",
              "      <td>Revolucion</td>\n",
              "      <td>Cuernavaca</td>\n",
              "      <td>Morelos</td>\n",
              "      <td>Mexico</td>\n",
              "      <td>?</td>\n",
              "      <td>...</td>\n",
              "      <td>No_Alcohol_Served</td>\n",
              "      <td>none</td>\n",
              "      <td>informal</td>\n",
              "      <td>no_accessibility</td>\n",
              "      <td>medium</td>\n",
              "      <td>kikucuernavaca.com.mx</td>\n",
              "      <td>familiar</td>\n",
              "      <td>f</td>\n",
              "      <td>closed</td>\n",
              "      <td>none</td>\n",
              "    </tr>\n",
              "    <tr>\n",
              "      <th>1</th>\n",
              "      <td>132825</td>\n",
              "      <td>22.147392</td>\n",
              "      <td>-100.983092</td>\n",
              "      <td>0101000020957F00001AD016568C4858C1243261274BA5...</td>\n",
              "      <td>puesto de tacos</td>\n",
              "      <td>esquina santos degollado y leon guzman</td>\n",
              "      <td>s.l.p.</td>\n",
              "      <td>s.l.p.</td>\n",
              "      <td>mexico</td>\n",
              "      <td>?</td>\n",
              "      <td>...</td>\n",
              "      <td>No_Alcohol_Served</td>\n",
              "      <td>none</td>\n",
              "      <td>informal</td>\n",
              "      <td>completely</td>\n",
              "      <td>low</td>\n",
              "      <td>?</td>\n",
              "      <td>familiar</td>\n",
              "      <td>f</td>\n",
              "      <td>open</td>\n",
              "      <td>none</td>\n",
              "    </tr>\n",
              "    <tr>\n",
              "      <th>2</th>\n",
              "      <td>135106</td>\n",
              "      <td>22.149709</td>\n",
              "      <td>-100.976093</td>\n",
              "      <td>0101000020957F0000649D6F21634858C119AE9BF528A3...</td>\n",
              "      <td>El Rincón de San Francisco</td>\n",
              "      <td>Universidad 169</td>\n",
              "      <td>San Luis Potosi</td>\n",
              "      <td>San Luis Potosi</td>\n",
              "      <td>Mexico</td>\n",
              "      <td>?</td>\n",
              "      <td>...</td>\n",
              "      <td>Wine-Beer</td>\n",
              "      <td>only at bar</td>\n",
              "      <td>informal</td>\n",
              "      <td>partially</td>\n",
              "      <td>medium</td>\n",
              "      <td>?</td>\n",
              "      <td>familiar</td>\n",
              "      <td>f</td>\n",
              "      <td>open</td>\n",
              "      <td>none</td>\n",
              "    </tr>\n",
              "    <tr>\n",
              "      <th>3</th>\n",
              "      <td>132667</td>\n",
              "      <td>23.752697</td>\n",
              "      <td>-99.163359</td>\n",
              "      <td>0101000020957F00005D67BCDDED8157C1222A2DC8D84D...</td>\n",
              "      <td>little pizza Emilio Portes Gil</td>\n",
              "      <td>calle emilio portes gil</td>\n",
              "      <td>victoria</td>\n",
              "      <td>tamaulipas</td>\n",
              "      <td>?</td>\n",
              "      <td>?</td>\n",
              "      <td>...</td>\n",
              "      <td>No_Alcohol_Served</td>\n",
              "      <td>none</td>\n",
              "      <td>informal</td>\n",
              "      <td>completely</td>\n",
              "      <td>low</td>\n",
              "      <td>?</td>\n",
              "      <td>familiar</td>\n",
              "      <td>t</td>\n",
              "      <td>closed</td>\n",
              "      <td>none</td>\n",
              "    </tr>\n",
              "    <tr>\n",
              "      <th>4</th>\n",
              "      <td>132613</td>\n",
              "      <td>23.752903</td>\n",
              "      <td>-99.165076</td>\n",
              "      <td>0101000020957F00008EBA2D06DC8157C194E03B7B504E...</td>\n",
              "      <td>carnitas_mata</td>\n",
              "      <td>lic. Emilio portes gil</td>\n",
              "      <td>victoria</td>\n",
              "      <td>Tamaulipas</td>\n",
              "      <td>Mexico</td>\n",
              "      <td>?</td>\n",
              "      <td>...</td>\n",
              "      <td>No_Alcohol_Served</td>\n",
              "      <td>permitted</td>\n",
              "      <td>informal</td>\n",
              "      <td>completely</td>\n",
              "      <td>medium</td>\n",
              "      <td>?</td>\n",
              "      <td>familiar</td>\n",
              "      <td>t</td>\n",
              "      <td>closed</td>\n",
              "      <td>none</td>\n",
              "    </tr>\n",
              "    <tr>\n",
              "      <th>...</th>\n",
              "      <td>...</td>\n",
              "      <td>...</td>\n",
              "      <td>...</td>\n",
              "      <td>...</td>\n",
              "      <td>...</td>\n",
              "      <td>...</td>\n",
              "      <td>...</td>\n",
              "      <td>...</td>\n",
              "      <td>...</td>\n",
              "      <td>...</td>\n",
              "      <td>...</td>\n",
              "      <td>...</td>\n",
              "      <td>...</td>\n",
              "      <td>...</td>\n",
              "      <td>...</td>\n",
              "      <td>...</td>\n",
              "      <td>...</td>\n",
              "      <td>...</td>\n",
              "      <td>...</td>\n",
              "      <td>...</td>\n",
              "      <td>...</td>\n",
              "    </tr>\n",
              "    <tr>\n",
              "      <th>125</th>\n",
              "      <td>132866</td>\n",
              "      <td>22.141220</td>\n",
              "      <td>-100.931311</td>\n",
              "      <td>0101000020957F000013871838EC4A58C1B5DF74F8E396...</td>\n",
              "      <td>Chaires</td>\n",
              "      <td>Ricardo B. Anaya</td>\n",
              "      <td>San Luis Potosi</td>\n",
              "      <td>San Luis Potosi</td>\n",
              "      <td>Mexico</td>\n",
              "      <td>?</td>\n",
              "      <td>...</td>\n",
              "      <td>No_Alcohol_Served</td>\n",
              "      <td>not permitted</td>\n",
              "      <td>informal</td>\n",
              "      <td>completely</td>\n",
              "      <td>medium</td>\n",
              "      <td>?</td>\n",
              "      <td>familiar</td>\n",
              "      <td>f</td>\n",
              "      <td>closed</td>\n",
              "      <td>none</td>\n",
              "    </tr>\n",
              "    <tr>\n",
              "      <th>126</th>\n",
              "      <td>135072</td>\n",
              "      <td>22.149192</td>\n",
              "      <td>-101.002936</td>\n",
              "      <td>0101000020957F0000E7B79B1DB94758C1D29BC363D8AA...</td>\n",
              "      <td>Sushi Itto</td>\n",
              "      <td>Venustiano Carranza 1809 C Polanco</td>\n",
              "      <td>San Luis Potosi</td>\n",
              "      <td>SLP</td>\n",
              "      <td>Mexico</td>\n",
              "      <td>?</td>\n",
              "      <td>...</td>\n",
              "      <td>No_Alcohol_Served</td>\n",
              "      <td>none</td>\n",
              "      <td>informal</td>\n",
              "      <td>no_accessibility</td>\n",
              "      <td>medium</td>\n",
              "      <td>sushi-itto.com.mx</td>\n",
              "      <td>familiar</td>\n",
              "      <td>f</td>\n",
              "      <td>closed</td>\n",
              "      <td>none</td>\n",
              "    </tr>\n",
              "    <tr>\n",
              "      <th>127</th>\n",
              "      <td>135109</td>\n",
              "      <td>18.921785</td>\n",
              "      <td>-99.235350</td>\n",
              "      <td>0101000020957F0000A6BF695F136F5AC1DADF87B20556...</td>\n",
              "      <td>Paniroles</td>\n",
              "      <td>?</td>\n",
              "      <td>?</td>\n",
              "      <td>?</td>\n",
              "      <td>?</td>\n",
              "      <td>?</td>\n",
              "      <td>...</td>\n",
              "      <td>Wine-Beer</td>\n",
              "      <td>not permitted</td>\n",
              "      <td>informal</td>\n",
              "      <td>no_accessibility</td>\n",
              "      <td>medium</td>\n",
              "      <td>?</td>\n",
              "      <td>quiet</td>\n",
              "      <td>f</td>\n",
              "      <td>closed</td>\n",
              "      <td>Internet</td>\n",
              "    </tr>\n",
              "    <tr>\n",
              "      <th>128</th>\n",
              "      <td>135019</td>\n",
              "      <td>18.875011</td>\n",
              "      <td>-99.159422</td>\n",
              "      <td>0101000020957F0000B49B2E5C6E785AC12F9D58435241...</td>\n",
              "      <td>Restaurant Bar Coty y Pablo</td>\n",
              "      <td>Paseo de Las Fuentes 24 Pedregal de Las Fuentes</td>\n",
              "      <td>Jiutepec</td>\n",
              "      <td>Morelos</td>\n",
              "      <td>Mexico</td>\n",
              "      <td>?</td>\n",
              "      <td>...</td>\n",
              "      <td>No_Alcohol_Served</td>\n",
              "      <td>none</td>\n",
              "      <td>informal</td>\n",
              "      <td>completely</td>\n",
              "      <td>low</td>\n",
              "      <td>?</td>\n",
              "      <td>familiar</td>\n",
              "      <td>f</td>\n",
              "      <td>closed</td>\n",
              "      <td>none</td>\n",
              "    </tr>\n",
              "    <tr>\n",
              "      <th>129</th>\n",
              "      <td>132877</td>\n",
              "      <td>22.135364</td>\n",
              "      <td>-100.934948</td>\n",
              "      <td>0101000020957F000090735015B84B58C1AF0DC0414698...</td>\n",
              "      <td>sirloin stockade</td>\n",
              "      <td>?</td>\n",
              "      <td>?</td>\n",
              "      <td>?</td>\n",
              "      <td>?</td>\n",
              "      <td>?</td>\n",
              "      <td>...</td>\n",
              "      <td>No_Alcohol_Served</td>\n",
              "      <td>none</td>\n",
              "      <td>informal</td>\n",
              "      <td>completely</td>\n",
              "      <td>low</td>\n",
              "      <td>?</td>\n",
              "      <td>familiar</td>\n",
              "      <td>f</td>\n",
              "      <td>closed</td>\n",
              "      <td>none</td>\n",
              "    </tr>\n",
              "  </tbody>\n",
              "</table>\n",
              "<p>130 rows × 21 columns</p>\n",
              "</div>\n",
              "      <button class=\"colab-df-convert\" onclick=\"convertToInteractive('df-db699615-4cf6-4c33-801e-1f1d4c54bfcc')\"\n",
              "              title=\"Convert this dataframe to an interactive table.\"\n",
              "              style=\"display:none;\">\n",
              "        \n",
              "  <svg xmlns=\"http://www.w3.org/2000/svg\" height=\"24px\"viewBox=\"0 0 24 24\"\n",
              "       width=\"24px\">\n",
              "    <path d=\"M0 0h24v24H0V0z\" fill=\"none\"/>\n",
              "    <path d=\"M18.56 5.44l.94 2.06.94-2.06 2.06-.94-2.06-.94-.94-2.06-.94 2.06-2.06.94zm-11 1L8.5 8.5l.94-2.06 2.06-.94-2.06-.94L8.5 2.5l-.94 2.06-2.06.94zm10 10l.94 2.06.94-2.06 2.06-.94-2.06-.94-.94-2.06-.94 2.06-2.06.94z\"/><path d=\"M17.41 7.96l-1.37-1.37c-.4-.4-.92-.59-1.43-.59-.52 0-1.04.2-1.43.59L10.3 9.45l-7.72 7.72c-.78.78-.78 2.05 0 2.83L4 21.41c.39.39.9.59 1.41.59.51 0 1.02-.2 1.41-.59l7.78-7.78 2.81-2.81c.8-.78.8-2.07 0-2.86zM5.41 20L4 18.59l7.72-7.72 1.47 1.35L5.41 20z\"/>\n",
              "  </svg>\n",
              "      </button>\n",
              "      \n",
              "  <style>\n",
              "    .colab-df-container {\n",
              "      display:flex;\n",
              "      flex-wrap:wrap;\n",
              "      gap: 12px;\n",
              "    }\n",
              "\n",
              "    .colab-df-convert {\n",
              "      background-color: #E8F0FE;\n",
              "      border: none;\n",
              "      border-radius: 50%;\n",
              "      cursor: pointer;\n",
              "      display: none;\n",
              "      fill: #1967D2;\n",
              "      height: 32px;\n",
              "      padding: 0 0 0 0;\n",
              "      width: 32px;\n",
              "    }\n",
              "\n",
              "    .colab-df-convert:hover {\n",
              "      background-color: #E2EBFA;\n",
              "      box-shadow: 0px 1px 2px rgba(60, 64, 67, 0.3), 0px 1px 3px 1px rgba(60, 64, 67, 0.15);\n",
              "      fill: #174EA6;\n",
              "    }\n",
              "\n",
              "    [theme=dark] .colab-df-convert {\n",
              "      background-color: #3B4455;\n",
              "      fill: #D2E3FC;\n",
              "    }\n",
              "\n",
              "    [theme=dark] .colab-df-convert:hover {\n",
              "      background-color: #434B5C;\n",
              "      box-shadow: 0px 1px 3px 1px rgba(0, 0, 0, 0.15);\n",
              "      filter: drop-shadow(0px 1px 2px rgba(0, 0, 0, 0.3));\n",
              "      fill: #FFFFFF;\n",
              "    }\n",
              "  </style>\n",
              "\n",
              "      <script>\n",
              "        const buttonEl =\n",
              "          document.querySelector('#df-db699615-4cf6-4c33-801e-1f1d4c54bfcc button.colab-df-convert');\n",
              "        buttonEl.style.display =\n",
              "          google.colab.kernel.accessAllowed ? 'block' : 'none';\n",
              "\n",
              "        async function convertToInteractive(key) {\n",
              "          const element = document.querySelector('#df-db699615-4cf6-4c33-801e-1f1d4c54bfcc');\n",
              "          const dataTable =\n",
              "            await google.colab.kernel.invokeFunction('convertToInteractive',\n",
              "                                                     [key], {});\n",
              "          if (!dataTable) return;\n",
              "\n",
              "          const docLinkHtml = 'Like what you see? Visit the ' +\n",
              "            '<a target=\"_blank\" href=https://colab.research.google.com/notebooks/data_table.ipynb>data table notebook</a>'\n",
              "            + ' to learn more about interactive tables.';\n",
              "          element.innerHTML = '';\n",
              "          dataTable['output_type'] = 'display_data';\n",
              "          await google.colab.output.renderOutput(dataTable, element);\n",
              "          const docLink = document.createElement('div');\n",
              "          docLink.innerHTML = docLinkHtml;\n",
              "          element.appendChild(docLink);\n",
              "        }\n",
              "      </script>\n",
              "    </div>\n",
              "  </div>\n",
              "  "
            ]
          },
          "metadata": {},
          "execution_count": 194
        }
      ],
      "source": [
        "df_data_geo"
      ]
    },
    {
      "cell_type": "markdown",
      "metadata": {
        "id": "dUt7jbL6qbm8"
      },
      "source": [
        "Integrando una sola matriz donde se incluya tanto el \"rating\" (calificación) dada por los usarios y la localizacón geográfica de cada restaurante"
      ]
    },
    {
      "cell_type": "code",
      "execution_count": null,
      "metadata": {
        "colab": {
          "base_uri": "https://localhost:8080/"
        },
        "id": "0ulkqXVGCy97",
        "outputId": "f9b5eb0e-5b1b-45aa-f93e-a39980870b7d",
        "vscode": {
          "languageId": "python"
        }
      },
      "outputs": [
        {
          "output_type": "execute_result",
          "data": {
            "text/plain": [
              "(1161, 25)"
            ]
          },
          "metadata": {},
          "execution_count": 195
        }
      ],
      "source": [
        "df_Data = pd.merge(df_data_rating, df_data_geo, on='placeID')\n",
        "df_Data.shape"
      ]
    },
    {
      "cell_type": "code",
      "execution_count": null,
      "metadata": {
        "colab": {
          "base_uri": "https://localhost:8080/"
        },
        "id": "-4xXhwI6uesu",
        "outputId": "f8fb46f9-3dd2-48ac-d762-54b19d7c79c3",
        "vscode": {
          "languageId": "python"
        }
      },
      "outputs": [
        {
          "output_type": "execute_result",
          "data": {
            "text/plain": [
              "Index(['userID', 'placeID', 'rating', 'food_rating', 'service_rating',\n",
              "       'latitude', 'longitude', 'the_geom_meter', 'name', 'address', 'city',\n",
              "       'state', 'country', 'fax', 'zip', 'alcohol', 'smoking_area',\n",
              "       'dress_code', 'accessibility', 'price', 'url', 'Rambience', 'franchise',\n",
              "       'area', 'other_services'],\n",
              "      dtype='object')"
            ]
          },
          "metadata": {},
          "execution_count": 196
        }
      ],
      "source": [
        "df_Data.columns"
      ]
    },
    {
      "cell_type": "code",
      "execution_count": null,
      "metadata": {
        "colab": {
          "base_uri": "https://localhost:8080/",
          "height": 792
        },
        "id": "KNfKJ_7Os5LJ",
        "outputId": "c8925e39-0c68-433f-af32-0b8667813762",
        "vscode": {
          "languageId": "python"
        }
      },
      "outputs": [
        {
          "output_type": "execute_result",
          "data": {
            "text/plain": [
              "  userID  placeID  rating  food_rating  service_rating   latitude  longitude  \\\n",
              "0  U1077   135085       2            2               2  22.150802 -100.98268   \n",
              "1  U1108   135085       1            2               1  22.150802 -100.98268   \n",
              "2  U1081   135085       1            2               1  22.150802 -100.98268   \n",
              "3  U1056   135085       2            2               2  22.150802 -100.98268   \n",
              "4  U1134   135085       2            1               2  22.150802 -100.98268   \n",
              "5  U1116   135085       2            2               2  22.150802 -100.98268   \n",
              "6  U1132   135085       2            2               2  22.150802 -100.98268   \n",
              "7  U1120   135085       0            0               0  22.150802 -100.98268   \n",
              "8  U1036   135085       2            2               2  22.150802 -100.98268   \n",
              "9  U1084   135085       2            2               2  22.150802 -100.98268   \n",
              "\n",
              "                                      the_geom_meter                    name  \\\n",
              "0  0101000020957F00009F823DA6094858C18A2D4D37F9A4...  Tortas Locas Hipocampo   \n",
              "1  0101000020957F00009F823DA6094858C18A2D4D37F9A4...  Tortas Locas Hipocampo   \n",
              "2  0101000020957F00009F823DA6094858C18A2D4D37F9A4...  Tortas Locas Hipocampo   \n",
              "3  0101000020957F00009F823DA6094858C18A2D4D37F9A4...  Tortas Locas Hipocampo   \n",
              "4  0101000020957F00009F823DA6094858C18A2D4D37F9A4...  Tortas Locas Hipocampo   \n",
              "5  0101000020957F00009F823DA6094858C18A2D4D37F9A4...  Tortas Locas Hipocampo   \n",
              "6  0101000020957F00009F823DA6094858C18A2D4D37F9A4...  Tortas Locas Hipocampo   \n",
              "7  0101000020957F00009F823DA6094858C18A2D4D37F9A4...  Tortas Locas Hipocampo   \n",
              "8  0101000020957F00009F823DA6094858C18A2D4D37F9A4...  Tortas Locas Hipocampo   \n",
              "9  0101000020957F00009F823DA6094858C18A2D4D37F9A4...  Tortas Locas Hipocampo   \n",
              "\n",
              "                          address  ...            alcohol   smoking_area  \\\n",
              "0  Venustiano Carranza 719 Centro  ...  No_Alcohol_Served  not permitted   \n",
              "1  Venustiano Carranza 719 Centro  ...  No_Alcohol_Served  not permitted   \n",
              "2  Venustiano Carranza 719 Centro  ...  No_Alcohol_Served  not permitted   \n",
              "3  Venustiano Carranza 719 Centro  ...  No_Alcohol_Served  not permitted   \n",
              "4  Venustiano Carranza 719 Centro  ...  No_Alcohol_Served  not permitted   \n",
              "5  Venustiano Carranza 719 Centro  ...  No_Alcohol_Served  not permitted   \n",
              "6  Venustiano Carranza 719 Centro  ...  No_Alcohol_Served  not permitted   \n",
              "7  Venustiano Carranza 719 Centro  ...  No_Alcohol_Served  not permitted   \n",
              "8  Venustiano Carranza 719 Centro  ...  No_Alcohol_Served  not permitted   \n",
              "9  Venustiano Carranza 719 Centro  ...  No_Alcohol_Served  not permitted   \n",
              "\n",
              "  dress_code     accessibility   price url Rambience franchise    area  \\\n",
              "0   informal  no_accessibility  medium   ?  familiar         f  closed   \n",
              "1   informal  no_accessibility  medium   ?  familiar         f  closed   \n",
              "2   informal  no_accessibility  medium   ?  familiar         f  closed   \n",
              "3   informal  no_accessibility  medium   ?  familiar         f  closed   \n",
              "4   informal  no_accessibility  medium   ?  familiar         f  closed   \n",
              "5   informal  no_accessibility  medium   ?  familiar         f  closed   \n",
              "6   informal  no_accessibility  medium   ?  familiar         f  closed   \n",
              "7   informal  no_accessibility  medium   ?  familiar         f  closed   \n",
              "8   informal  no_accessibility  medium   ?  familiar         f  closed   \n",
              "9   informal  no_accessibility  medium   ?  familiar         f  closed   \n",
              "\n",
              "  other_services  \n",
              "0           none  \n",
              "1           none  \n",
              "2           none  \n",
              "3           none  \n",
              "4           none  \n",
              "5           none  \n",
              "6           none  \n",
              "7           none  \n",
              "8           none  \n",
              "9           none  \n",
              "\n",
              "[10 rows x 25 columns]"
            ],
            "text/html": [
              "\n",
              "  <div id=\"df-f50d1a9e-4ad6-447b-967c-74a696038615\">\n",
              "    <div class=\"colab-df-container\">\n",
              "      <div>\n",
              "<style scoped>\n",
              "    .dataframe tbody tr th:only-of-type {\n",
              "        vertical-align: middle;\n",
              "    }\n",
              "\n",
              "    .dataframe tbody tr th {\n",
              "        vertical-align: top;\n",
              "    }\n",
              "\n",
              "    .dataframe thead th {\n",
              "        text-align: right;\n",
              "    }\n",
              "</style>\n",
              "<table border=\"1\" class=\"dataframe\">\n",
              "  <thead>\n",
              "    <tr style=\"text-align: right;\">\n",
              "      <th></th>\n",
              "      <th>userID</th>\n",
              "      <th>placeID</th>\n",
              "      <th>rating</th>\n",
              "      <th>food_rating</th>\n",
              "      <th>service_rating</th>\n",
              "      <th>latitude</th>\n",
              "      <th>longitude</th>\n",
              "      <th>the_geom_meter</th>\n",
              "      <th>name</th>\n",
              "      <th>address</th>\n",
              "      <th>...</th>\n",
              "      <th>alcohol</th>\n",
              "      <th>smoking_area</th>\n",
              "      <th>dress_code</th>\n",
              "      <th>accessibility</th>\n",
              "      <th>price</th>\n",
              "      <th>url</th>\n",
              "      <th>Rambience</th>\n",
              "      <th>franchise</th>\n",
              "      <th>area</th>\n",
              "      <th>other_services</th>\n",
              "    </tr>\n",
              "  </thead>\n",
              "  <tbody>\n",
              "    <tr>\n",
              "      <th>0</th>\n",
              "      <td>U1077</td>\n",
              "      <td>135085</td>\n",
              "      <td>2</td>\n",
              "      <td>2</td>\n",
              "      <td>2</td>\n",
              "      <td>22.150802</td>\n",
              "      <td>-100.98268</td>\n",
              "      <td>0101000020957F00009F823DA6094858C18A2D4D37F9A4...</td>\n",
              "      <td>Tortas Locas Hipocampo</td>\n",
              "      <td>Venustiano Carranza 719 Centro</td>\n",
              "      <td>...</td>\n",
              "      <td>No_Alcohol_Served</td>\n",
              "      <td>not permitted</td>\n",
              "      <td>informal</td>\n",
              "      <td>no_accessibility</td>\n",
              "      <td>medium</td>\n",
              "      <td>?</td>\n",
              "      <td>familiar</td>\n",
              "      <td>f</td>\n",
              "      <td>closed</td>\n",
              "      <td>none</td>\n",
              "    </tr>\n",
              "    <tr>\n",
              "      <th>1</th>\n",
              "      <td>U1108</td>\n",
              "      <td>135085</td>\n",
              "      <td>1</td>\n",
              "      <td>2</td>\n",
              "      <td>1</td>\n",
              "      <td>22.150802</td>\n",
              "      <td>-100.98268</td>\n",
              "      <td>0101000020957F00009F823DA6094858C18A2D4D37F9A4...</td>\n",
              "      <td>Tortas Locas Hipocampo</td>\n",
              "      <td>Venustiano Carranza 719 Centro</td>\n",
              "      <td>...</td>\n",
              "      <td>No_Alcohol_Served</td>\n",
              "      <td>not permitted</td>\n",
              "      <td>informal</td>\n",
              "      <td>no_accessibility</td>\n",
              "      <td>medium</td>\n",
              "      <td>?</td>\n",
              "      <td>familiar</td>\n",
              "      <td>f</td>\n",
              "      <td>closed</td>\n",
              "      <td>none</td>\n",
              "    </tr>\n",
              "    <tr>\n",
              "      <th>2</th>\n",
              "      <td>U1081</td>\n",
              "      <td>135085</td>\n",
              "      <td>1</td>\n",
              "      <td>2</td>\n",
              "      <td>1</td>\n",
              "      <td>22.150802</td>\n",
              "      <td>-100.98268</td>\n",
              "      <td>0101000020957F00009F823DA6094858C18A2D4D37F9A4...</td>\n",
              "      <td>Tortas Locas Hipocampo</td>\n",
              "      <td>Venustiano Carranza 719 Centro</td>\n",
              "      <td>...</td>\n",
              "      <td>No_Alcohol_Served</td>\n",
              "      <td>not permitted</td>\n",
              "      <td>informal</td>\n",
              "      <td>no_accessibility</td>\n",
              "      <td>medium</td>\n",
              "      <td>?</td>\n",
              "      <td>familiar</td>\n",
              "      <td>f</td>\n",
              "      <td>closed</td>\n",
              "      <td>none</td>\n",
              "    </tr>\n",
              "    <tr>\n",
              "      <th>3</th>\n",
              "      <td>U1056</td>\n",
              "      <td>135085</td>\n",
              "      <td>2</td>\n",
              "      <td>2</td>\n",
              "      <td>2</td>\n",
              "      <td>22.150802</td>\n",
              "      <td>-100.98268</td>\n",
              "      <td>0101000020957F00009F823DA6094858C18A2D4D37F9A4...</td>\n",
              "      <td>Tortas Locas Hipocampo</td>\n",
              "      <td>Venustiano Carranza 719 Centro</td>\n",
              "      <td>...</td>\n",
              "      <td>No_Alcohol_Served</td>\n",
              "      <td>not permitted</td>\n",
              "      <td>informal</td>\n",
              "      <td>no_accessibility</td>\n",
              "      <td>medium</td>\n",
              "      <td>?</td>\n",
              "      <td>familiar</td>\n",
              "      <td>f</td>\n",
              "      <td>closed</td>\n",
              "      <td>none</td>\n",
              "    </tr>\n",
              "    <tr>\n",
              "      <th>4</th>\n",
              "      <td>U1134</td>\n",
              "      <td>135085</td>\n",
              "      <td>2</td>\n",
              "      <td>1</td>\n",
              "      <td>2</td>\n",
              "      <td>22.150802</td>\n",
              "      <td>-100.98268</td>\n",
              "      <td>0101000020957F00009F823DA6094858C18A2D4D37F9A4...</td>\n",
              "      <td>Tortas Locas Hipocampo</td>\n",
              "      <td>Venustiano Carranza 719 Centro</td>\n",
              "      <td>...</td>\n",
              "      <td>No_Alcohol_Served</td>\n",
              "      <td>not permitted</td>\n",
              "      <td>informal</td>\n",
              "      <td>no_accessibility</td>\n",
              "      <td>medium</td>\n",
              "      <td>?</td>\n",
              "      <td>familiar</td>\n",
              "      <td>f</td>\n",
              "      <td>closed</td>\n",
              "      <td>none</td>\n",
              "    </tr>\n",
              "    <tr>\n",
              "      <th>5</th>\n",
              "      <td>U1116</td>\n",
              "      <td>135085</td>\n",
              "      <td>2</td>\n",
              "      <td>2</td>\n",
              "      <td>2</td>\n",
              "      <td>22.150802</td>\n",
              "      <td>-100.98268</td>\n",
              "      <td>0101000020957F00009F823DA6094858C18A2D4D37F9A4...</td>\n",
              "      <td>Tortas Locas Hipocampo</td>\n",
              "      <td>Venustiano Carranza 719 Centro</td>\n",
              "      <td>...</td>\n",
              "      <td>No_Alcohol_Served</td>\n",
              "      <td>not permitted</td>\n",
              "      <td>informal</td>\n",
              "      <td>no_accessibility</td>\n",
              "      <td>medium</td>\n",
              "      <td>?</td>\n",
              "      <td>familiar</td>\n",
              "      <td>f</td>\n",
              "      <td>closed</td>\n",
              "      <td>none</td>\n",
              "    </tr>\n",
              "    <tr>\n",
              "      <th>6</th>\n",
              "      <td>U1132</td>\n",
              "      <td>135085</td>\n",
              "      <td>2</td>\n",
              "      <td>2</td>\n",
              "      <td>2</td>\n",
              "      <td>22.150802</td>\n",
              "      <td>-100.98268</td>\n",
              "      <td>0101000020957F00009F823DA6094858C18A2D4D37F9A4...</td>\n",
              "      <td>Tortas Locas Hipocampo</td>\n",
              "      <td>Venustiano Carranza 719 Centro</td>\n",
              "      <td>...</td>\n",
              "      <td>No_Alcohol_Served</td>\n",
              "      <td>not permitted</td>\n",
              "      <td>informal</td>\n",
              "      <td>no_accessibility</td>\n",
              "      <td>medium</td>\n",
              "      <td>?</td>\n",
              "      <td>familiar</td>\n",
              "      <td>f</td>\n",
              "      <td>closed</td>\n",
              "      <td>none</td>\n",
              "    </tr>\n",
              "    <tr>\n",
              "      <th>7</th>\n",
              "      <td>U1120</td>\n",
              "      <td>135085</td>\n",
              "      <td>0</td>\n",
              "      <td>0</td>\n",
              "      <td>0</td>\n",
              "      <td>22.150802</td>\n",
              "      <td>-100.98268</td>\n",
              "      <td>0101000020957F00009F823DA6094858C18A2D4D37F9A4...</td>\n",
              "      <td>Tortas Locas Hipocampo</td>\n",
              "      <td>Venustiano Carranza 719 Centro</td>\n",
              "      <td>...</td>\n",
              "      <td>No_Alcohol_Served</td>\n",
              "      <td>not permitted</td>\n",
              "      <td>informal</td>\n",
              "      <td>no_accessibility</td>\n",
              "      <td>medium</td>\n",
              "      <td>?</td>\n",
              "      <td>familiar</td>\n",
              "      <td>f</td>\n",
              "      <td>closed</td>\n",
              "      <td>none</td>\n",
              "    </tr>\n",
              "    <tr>\n",
              "      <th>8</th>\n",
              "      <td>U1036</td>\n",
              "      <td>135085</td>\n",
              "      <td>2</td>\n",
              "      <td>2</td>\n",
              "      <td>2</td>\n",
              "      <td>22.150802</td>\n",
              "      <td>-100.98268</td>\n",
              "      <td>0101000020957F00009F823DA6094858C18A2D4D37F9A4...</td>\n",
              "      <td>Tortas Locas Hipocampo</td>\n",
              "      <td>Venustiano Carranza 719 Centro</td>\n",
              "      <td>...</td>\n",
              "      <td>No_Alcohol_Served</td>\n",
              "      <td>not permitted</td>\n",
              "      <td>informal</td>\n",
              "      <td>no_accessibility</td>\n",
              "      <td>medium</td>\n",
              "      <td>?</td>\n",
              "      <td>familiar</td>\n",
              "      <td>f</td>\n",
              "      <td>closed</td>\n",
              "      <td>none</td>\n",
              "    </tr>\n",
              "    <tr>\n",
              "      <th>9</th>\n",
              "      <td>U1084</td>\n",
              "      <td>135085</td>\n",
              "      <td>2</td>\n",
              "      <td>2</td>\n",
              "      <td>2</td>\n",
              "      <td>22.150802</td>\n",
              "      <td>-100.98268</td>\n",
              "      <td>0101000020957F00009F823DA6094858C18A2D4D37F9A4...</td>\n",
              "      <td>Tortas Locas Hipocampo</td>\n",
              "      <td>Venustiano Carranza 719 Centro</td>\n",
              "      <td>...</td>\n",
              "      <td>No_Alcohol_Served</td>\n",
              "      <td>not permitted</td>\n",
              "      <td>informal</td>\n",
              "      <td>no_accessibility</td>\n",
              "      <td>medium</td>\n",
              "      <td>?</td>\n",
              "      <td>familiar</td>\n",
              "      <td>f</td>\n",
              "      <td>closed</td>\n",
              "      <td>none</td>\n",
              "    </tr>\n",
              "  </tbody>\n",
              "</table>\n",
              "<p>10 rows × 25 columns</p>\n",
              "</div>\n",
              "      <button class=\"colab-df-convert\" onclick=\"convertToInteractive('df-f50d1a9e-4ad6-447b-967c-74a696038615')\"\n",
              "              title=\"Convert this dataframe to an interactive table.\"\n",
              "              style=\"display:none;\">\n",
              "        \n",
              "  <svg xmlns=\"http://www.w3.org/2000/svg\" height=\"24px\"viewBox=\"0 0 24 24\"\n",
              "       width=\"24px\">\n",
              "    <path d=\"M0 0h24v24H0V0z\" fill=\"none\"/>\n",
              "    <path d=\"M18.56 5.44l.94 2.06.94-2.06 2.06-.94-2.06-.94-.94-2.06-.94 2.06-2.06.94zm-11 1L8.5 8.5l.94-2.06 2.06-.94-2.06-.94L8.5 2.5l-.94 2.06-2.06.94zm10 10l.94 2.06.94-2.06 2.06-.94-2.06-.94-.94-2.06-.94 2.06-2.06.94z\"/><path d=\"M17.41 7.96l-1.37-1.37c-.4-.4-.92-.59-1.43-.59-.52 0-1.04.2-1.43.59L10.3 9.45l-7.72 7.72c-.78.78-.78 2.05 0 2.83L4 21.41c.39.39.9.59 1.41.59.51 0 1.02-.2 1.41-.59l7.78-7.78 2.81-2.81c.8-.78.8-2.07 0-2.86zM5.41 20L4 18.59l7.72-7.72 1.47 1.35L5.41 20z\"/>\n",
              "  </svg>\n",
              "      </button>\n",
              "      \n",
              "  <style>\n",
              "    .colab-df-container {\n",
              "      display:flex;\n",
              "      flex-wrap:wrap;\n",
              "      gap: 12px;\n",
              "    }\n",
              "\n",
              "    .colab-df-convert {\n",
              "      background-color: #E8F0FE;\n",
              "      border: none;\n",
              "      border-radius: 50%;\n",
              "      cursor: pointer;\n",
              "      display: none;\n",
              "      fill: #1967D2;\n",
              "      height: 32px;\n",
              "      padding: 0 0 0 0;\n",
              "      width: 32px;\n",
              "    }\n",
              "\n",
              "    .colab-df-convert:hover {\n",
              "      background-color: #E2EBFA;\n",
              "      box-shadow: 0px 1px 2px rgba(60, 64, 67, 0.3), 0px 1px 3px 1px rgba(60, 64, 67, 0.15);\n",
              "      fill: #174EA6;\n",
              "    }\n",
              "\n",
              "    [theme=dark] .colab-df-convert {\n",
              "      background-color: #3B4455;\n",
              "      fill: #D2E3FC;\n",
              "    }\n",
              "\n",
              "    [theme=dark] .colab-df-convert:hover {\n",
              "      background-color: #434B5C;\n",
              "      box-shadow: 0px 1px 3px 1px rgba(0, 0, 0, 0.15);\n",
              "      filter: drop-shadow(0px 1px 2px rgba(0, 0, 0, 0.3));\n",
              "      fill: #FFFFFF;\n",
              "    }\n",
              "  </style>\n",
              "\n",
              "      <script>\n",
              "        const buttonEl =\n",
              "          document.querySelector('#df-f50d1a9e-4ad6-447b-967c-74a696038615 button.colab-df-convert');\n",
              "        buttonEl.style.display =\n",
              "          google.colab.kernel.accessAllowed ? 'block' : 'none';\n",
              "\n",
              "        async function convertToInteractive(key) {\n",
              "          const element = document.querySelector('#df-f50d1a9e-4ad6-447b-967c-74a696038615');\n",
              "          const dataTable =\n",
              "            await google.colab.kernel.invokeFunction('convertToInteractive',\n",
              "                                                     [key], {});\n",
              "          if (!dataTable) return;\n",
              "\n",
              "          const docLinkHtml = 'Like what you see? Visit the ' +\n",
              "            '<a target=\"_blank\" href=https://colab.research.google.com/notebooks/data_table.ipynb>data table notebook</a>'\n",
              "            + ' to learn more about interactive tables.';\n",
              "          element.innerHTML = '';\n",
              "          dataTable['output_type'] = 'display_data';\n",
              "          await google.colab.output.renderOutput(dataTable, element);\n",
              "          const docLink = document.createElement('div');\n",
              "          docLink.innerHTML = docLinkHtml;\n",
              "          element.appendChild(docLink);\n",
              "        }\n",
              "      </script>\n",
              "    </div>\n",
              "  </div>\n",
              "  "
            ]
          },
          "metadata": {},
          "execution_count": 197
        }
      ],
      "source": [
        "df_Data.head(10)"
      ]
    },
    {
      "cell_type": "markdown",
      "metadata": {
        "id": "nO9bhJUjo2Kl"
      },
      "source": [
        "En vista que existen entre los datos, usuarios que no han visitados todos los restaurantes, se pondrá en 0 todas las columnas que tiene que ver con los puntajes de los lugares de comida, pero como la calificación actualmente se puntea entre 0 y 2 se reemplazara entre 1 a 3 para que exista una distinción entre los usuarios que califican el restaurante con la por calificación y los que no han visitado el lugar o no han le han asignado un valor."
      ]
    },
    {
      "cell_type": "code",
      "execution_count": null,
      "metadata": {
        "colab": {
          "base_uri": "https://localhost:8080/",
          "height": 823
        },
        "id": "8iL57npldiw-",
        "outputId": "5acd6d83-abf2-46ef-ab48-f58c95411f23",
        "vscode": {
          "languageId": "python"
        }
      },
      "outputs": [
        {
          "output_type": "execute_result",
          "data": {
            "text/plain": [
              "     userID  placeID  rating  food_rating  service_rating   latitude  \\\n",
              "0     U1077   135085       3            3               3  22.150802   \n",
              "1     U1108   135085       2            3               2  22.150802   \n",
              "2     U1081   135085       2            3               2  22.150802   \n",
              "3     U1056   135085       3            3               3  22.150802   \n",
              "4     U1134   135085       3            2               3  22.150802   \n",
              "...     ...      ...     ...          ...             ...        ...   \n",
              "1156  U1061   132958       3            3               3  22.144979   \n",
              "1157  U1025   132958       2            1               1  22.144979   \n",
              "1158  U1097   132958       3            2               2  22.144979   \n",
              "1159  U1096   132958       2            3               3  22.144979   \n",
              "1160  U1136   132958       3            3               3  22.144979   \n",
              "\n",
              "       longitude                                     the_geom_meter  \\\n",
              "0    -100.982680  0101000020957F00009F823DA6094858C18A2D4D37F9A4...   \n",
              "1    -100.982680  0101000020957F00009F823DA6094858C18A2D4D37F9A4...   \n",
              "2    -100.982680  0101000020957F00009F823DA6094858C18A2D4D37F9A4...   \n",
              "3    -100.982680  0101000020957F00009F823DA6094858C18A2D4D37F9A4...   \n",
              "4    -100.982680  0101000020957F00009F823DA6094858C18A2D4D37F9A4...   \n",
              "...          ...                                                ...   \n",
              "1156 -101.005683  0101000020957F000049095EB34A4858C15CB4BD1EE1AB...   \n",
              "1157 -101.005683  0101000020957F000049095EB34A4858C15CB4BD1EE1AB...   \n",
              "1158 -101.005683  0101000020957F000049095EB34A4858C15CB4BD1EE1AB...   \n",
              "1159 -101.005683  0101000020957F000049095EB34A4858C15CB4BD1EE1AB...   \n",
              "1160 -101.005683  0101000020957F000049095EB34A4858C15CB4BD1EE1AB...   \n",
              "\n",
              "                        name                         address  ...  \\\n",
              "0     Tortas Locas Hipocampo  Venustiano Carranza 719 Centro  ...   \n",
              "1     Tortas Locas Hipocampo  Venustiano Carranza 719 Centro  ...   \n",
              "2     Tortas Locas Hipocampo  Venustiano Carranza 719 Centro  ...   \n",
              "3     Tortas Locas Hipocampo  Venustiano Carranza 719 Centro  ...   \n",
              "4     Tortas Locas Hipocampo  Venustiano Carranza 719 Centro  ...   \n",
              "...                      ...                             ...  ...   \n",
              "1156      tacos los volcanes          avenida hivno nacional  ...   \n",
              "1157      tacos los volcanes          avenida hivno nacional  ...   \n",
              "1158      tacos los volcanes          avenida hivno nacional  ...   \n",
              "1159      tacos los volcanes          avenida hivno nacional  ...   \n",
              "1160      tacos los volcanes          avenida hivno nacional  ...   \n",
              "\n",
              "                alcohol   smoking_area dress_code     accessibility   price  \\\n",
              "0     No_Alcohol_Served  not permitted   informal  no_accessibility  medium   \n",
              "1     No_Alcohol_Served  not permitted   informal  no_accessibility  medium   \n",
              "2     No_Alcohol_Served  not permitted   informal  no_accessibility  medium   \n",
              "3     No_Alcohol_Served  not permitted   informal  no_accessibility  medium   \n",
              "4     No_Alcohol_Served  not permitted   informal  no_accessibility  medium   \n",
              "...                 ...            ...        ...               ...     ...   \n",
              "1156  No_Alcohol_Served           none   informal        completely     low   \n",
              "1157  No_Alcohol_Served           none   informal        completely     low   \n",
              "1158  No_Alcohol_Served           none   informal        completely     low   \n",
              "1159  No_Alcohol_Served           none   informal        completely     low   \n",
              "1160  No_Alcohol_Served           none   informal        completely     low   \n",
              "\n",
              "     url Rambience franchise    area other_services  \n",
              "0      ?  familiar         f  closed           none  \n",
              "1      ?  familiar         f  closed           none  \n",
              "2      ?  familiar         f  closed           none  \n",
              "3      ?  familiar         f  closed           none  \n",
              "4      ?  familiar         f  closed           none  \n",
              "...   ..       ...       ...     ...            ...  \n",
              "1156   ?     quiet         t  closed           none  \n",
              "1157   ?     quiet         t  closed           none  \n",
              "1158   ?     quiet         t  closed           none  \n",
              "1159   ?     quiet         t  closed           none  \n",
              "1160   ?     quiet         t  closed           none  \n",
              "\n",
              "[1161 rows x 25 columns]"
            ],
            "text/html": [
              "\n",
              "  <div id=\"df-8433a6e2-785e-4b3d-8671-2851b3a65bed\">\n",
              "    <div class=\"colab-df-container\">\n",
              "      <div>\n",
              "<style scoped>\n",
              "    .dataframe tbody tr th:only-of-type {\n",
              "        vertical-align: middle;\n",
              "    }\n",
              "\n",
              "    .dataframe tbody tr th {\n",
              "        vertical-align: top;\n",
              "    }\n",
              "\n",
              "    .dataframe thead th {\n",
              "        text-align: right;\n",
              "    }\n",
              "</style>\n",
              "<table border=\"1\" class=\"dataframe\">\n",
              "  <thead>\n",
              "    <tr style=\"text-align: right;\">\n",
              "      <th></th>\n",
              "      <th>userID</th>\n",
              "      <th>placeID</th>\n",
              "      <th>rating</th>\n",
              "      <th>food_rating</th>\n",
              "      <th>service_rating</th>\n",
              "      <th>latitude</th>\n",
              "      <th>longitude</th>\n",
              "      <th>the_geom_meter</th>\n",
              "      <th>name</th>\n",
              "      <th>address</th>\n",
              "      <th>...</th>\n",
              "      <th>alcohol</th>\n",
              "      <th>smoking_area</th>\n",
              "      <th>dress_code</th>\n",
              "      <th>accessibility</th>\n",
              "      <th>price</th>\n",
              "      <th>url</th>\n",
              "      <th>Rambience</th>\n",
              "      <th>franchise</th>\n",
              "      <th>area</th>\n",
              "      <th>other_services</th>\n",
              "    </tr>\n",
              "  </thead>\n",
              "  <tbody>\n",
              "    <tr>\n",
              "      <th>0</th>\n",
              "      <td>U1077</td>\n",
              "      <td>135085</td>\n",
              "      <td>3</td>\n",
              "      <td>3</td>\n",
              "      <td>3</td>\n",
              "      <td>22.150802</td>\n",
              "      <td>-100.982680</td>\n",
              "      <td>0101000020957F00009F823DA6094858C18A2D4D37F9A4...</td>\n",
              "      <td>Tortas Locas Hipocampo</td>\n",
              "      <td>Venustiano Carranza 719 Centro</td>\n",
              "      <td>...</td>\n",
              "      <td>No_Alcohol_Served</td>\n",
              "      <td>not permitted</td>\n",
              "      <td>informal</td>\n",
              "      <td>no_accessibility</td>\n",
              "      <td>medium</td>\n",
              "      <td>?</td>\n",
              "      <td>familiar</td>\n",
              "      <td>f</td>\n",
              "      <td>closed</td>\n",
              "      <td>none</td>\n",
              "    </tr>\n",
              "    <tr>\n",
              "      <th>1</th>\n",
              "      <td>U1108</td>\n",
              "      <td>135085</td>\n",
              "      <td>2</td>\n",
              "      <td>3</td>\n",
              "      <td>2</td>\n",
              "      <td>22.150802</td>\n",
              "      <td>-100.982680</td>\n",
              "      <td>0101000020957F00009F823DA6094858C18A2D4D37F9A4...</td>\n",
              "      <td>Tortas Locas Hipocampo</td>\n",
              "      <td>Venustiano Carranza 719 Centro</td>\n",
              "      <td>...</td>\n",
              "      <td>No_Alcohol_Served</td>\n",
              "      <td>not permitted</td>\n",
              "      <td>informal</td>\n",
              "      <td>no_accessibility</td>\n",
              "      <td>medium</td>\n",
              "      <td>?</td>\n",
              "      <td>familiar</td>\n",
              "      <td>f</td>\n",
              "      <td>closed</td>\n",
              "      <td>none</td>\n",
              "    </tr>\n",
              "    <tr>\n",
              "      <th>2</th>\n",
              "      <td>U1081</td>\n",
              "      <td>135085</td>\n",
              "      <td>2</td>\n",
              "      <td>3</td>\n",
              "      <td>2</td>\n",
              "      <td>22.150802</td>\n",
              "      <td>-100.982680</td>\n",
              "      <td>0101000020957F00009F823DA6094858C18A2D4D37F9A4...</td>\n",
              "      <td>Tortas Locas Hipocampo</td>\n",
              "      <td>Venustiano Carranza 719 Centro</td>\n",
              "      <td>...</td>\n",
              "      <td>No_Alcohol_Served</td>\n",
              "      <td>not permitted</td>\n",
              "      <td>informal</td>\n",
              "      <td>no_accessibility</td>\n",
              "      <td>medium</td>\n",
              "      <td>?</td>\n",
              "      <td>familiar</td>\n",
              "      <td>f</td>\n",
              "      <td>closed</td>\n",
              "      <td>none</td>\n",
              "    </tr>\n",
              "    <tr>\n",
              "      <th>3</th>\n",
              "      <td>U1056</td>\n",
              "      <td>135085</td>\n",
              "      <td>3</td>\n",
              "      <td>3</td>\n",
              "      <td>3</td>\n",
              "      <td>22.150802</td>\n",
              "      <td>-100.982680</td>\n",
              "      <td>0101000020957F00009F823DA6094858C18A2D4D37F9A4...</td>\n",
              "      <td>Tortas Locas Hipocampo</td>\n",
              "      <td>Venustiano Carranza 719 Centro</td>\n",
              "      <td>...</td>\n",
              "      <td>No_Alcohol_Served</td>\n",
              "      <td>not permitted</td>\n",
              "      <td>informal</td>\n",
              "      <td>no_accessibility</td>\n",
              "      <td>medium</td>\n",
              "      <td>?</td>\n",
              "      <td>familiar</td>\n",
              "      <td>f</td>\n",
              "      <td>closed</td>\n",
              "      <td>none</td>\n",
              "    </tr>\n",
              "    <tr>\n",
              "      <th>4</th>\n",
              "      <td>U1134</td>\n",
              "      <td>135085</td>\n",
              "      <td>3</td>\n",
              "      <td>2</td>\n",
              "      <td>3</td>\n",
              "      <td>22.150802</td>\n",
              "      <td>-100.982680</td>\n",
              "      <td>0101000020957F00009F823DA6094858C18A2D4D37F9A4...</td>\n",
              "      <td>Tortas Locas Hipocampo</td>\n",
              "      <td>Venustiano Carranza 719 Centro</td>\n",
              "      <td>...</td>\n",
              "      <td>No_Alcohol_Served</td>\n",
              "      <td>not permitted</td>\n",
              "      <td>informal</td>\n",
              "      <td>no_accessibility</td>\n",
              "      <td>medium</td>\n",
              "      <td>?</td>\n",
              "      <td>familiar</td>\n",
              "      <td>f</td>\n",
              "      <td>closed</td>\n",
              "      <td>none</td>\n",
              "    </tr>\n",
              "    <tr>\n",
              "      <th>...</th>\n",
              "      <td>...</td>\n",
              "      <td>...</td>\n",
              "      <td>...</td>\n",
              "      <td>...</td>\n",
              "      <td>...</td>\n",
              "      <td>...</td>\n",
              "      <td>...</td>\n",
              "      <td>...</td>\n",
              "      <td>...</td>\n",
              "      <td>...</td>\n",
              "      <td>...</td>\n",
              "      <td>...</td>\n",
              "      <td>...</td>\n",
              "      <td>...</td>\n",
              "      <td>...</td>\n",
              "      <td>...</td>\n",
              "      <td>...</td>\n",
              "      <td>...</td>\n",
              "      <td>...</td>\n",
              "      <td>...</td>\n",
              "      <td>...</td>\n",
              "    </tr>\n",
              "    <tr>\n",
              "      <th>1156</th>\n",
              "      <td>U1061</td>\n",
              "      <td>132958</td>\n",
              "      <td>3</td>\n",
              "      <td>3</td>\n",
              "      <td>3</td>\n",
              "      <td>22.144979</td>\n",
              "      <td>-101.005683</td>\n",
              "      <td>0101000020957F000049095EB34A4858C15CB4BD1EE1AB...</td>\n",
              "      <td>tacos los volcanes</td>\n",
              "      <td>avenida hivno nacional</td>\n",
              "      <td>...</td>\n",
              "      <td>No_Alcohol_Served</td>\n",
              "      <td>none</td>\n",
              "      <td>informal</td>\n",
              "      <td>completely</td>\n",
              "      <td>low</td>\n",
              "      <td>?</td>\n",
              "      <td>quiet</td>\n",
              "      <td>t</td>\n",
              "      <td>closed</td>\n",
              "      <td>none</td>\n",
              "    </tr>\n",
              "    <tr>\n",
              "      <th>1157</th>\n",
              "      <td>U1025</td>\n",
              "      <td>132958</td>\n",
              "      <td>2</td>\n",
              "      <td>1</td>\n",
              "      <td>1</td>\n",
              "      <td>22.144979</td>\n",
              "      <td>-101.005683</td>\n",
              "      <td>0101000020957F000049095EB34A4858C15CB4BD1EE1AB...</td>\n",
              "      <td>tacos los volcanes</td>\n",
              "      <td>avenida hivno nacional</td>\n",
              "      <td>...</td>\n",
              "      <td>No_Alcohol_Served</td>\n",
              "      <td>none</td>\n",
              "      <td>informal</td>\n",
              "      <td>completely</td>\n",
              "      <td>low</td>\n",
              "      <td>?</td>\n",
              "      <td>quiet</td>\n",
              "      <td>t</td>\n",
              "      <td>closed</td>\n",
              "      <td>none</td>\n",
              "    </tr>\n",
              "    <tr>\n",
              "      <th>1158</th>\n",
              "      <td>U1097</td>\n",
              "      <td>132958</td>\n",
              "      <td>3</td>\n",
              "      <td>2</td>\n",
              "      <td>2</td>\n",
              "      <td>22.144979</td>\n",
              "      <td>-101.005683</td>\n",
              "      <td>0101000020957F000049095EB34A4858C15CB4BD1EE1AB...</td>\n",
              "      <td>tacos los volcanes</td>\n",
              "      <td>avenida hivno nacional</td>\n",
              "      <td>...</td>\n",
              "      <td>No_Alcohol_Served</td>\n",
              "      <td>none</td>\n",
              "      <td>informal</td>\n",
              "      <td>completely</td>\n",
              "      <td>low</td>\n",
              "      <td>?</td>\n",
              "      <td>quiet</td>\n",
              "      <td>t</td>\n",
              "      <td>closed</td>\n",
              "      <td>none</td>\n",
              "    </tr>\n",
              "    <tr>\n",
              "      <th>1159</th>\n",
              "      <td>U1096</td>\n",
              "      <td>132958</td>\n",
              "      <td>2</td>\n",
              "      <td>3</td>\n",
              "      <td>3</td>\n",
              "      <td>22.144979</td>\n",
              "      <td>-101.005683</td>\n",
              "      <td>0101000020957F000049095EB34A4858C15CB4BD1EE1AB...</td>\n",
              "      <td>tacos los volcanes</td>\n",
              "      <td>avenida hivno nacional</td>\n",
              "      <td>...</td>\n",
              "      <td>No_Alcohol_Served</td>\n",
              "      <td>none</td>\n",
              "      <td>informal</td>\n",
              "      <td>completely</td>\n",
              "      <td>low</td>\n",
              "      <td>?</td>\n",
              "      <td>quiet</td>\n",
              "      <td>t</td>\n",
              "      <td>closed</td>\n",
              "      <td>none</td>\n",
              "    </tr>\n",
              "    <tr>\n",
              "      <th>1160</th>\n",
              "      <td>U1136</td>\n",
              "      <td>132958</td>\n",
              "      <td>3</td>\n",
              "      <td>3</td>\n",
              "      <td>3</td>\n",
              "      <td>22.144979</td>\n",
              "      <td>-101.005683</td>\n",
              "      <td>0101000020957F000049095EB34A4858C15CB4BD1EE1AB...</td>\n",
              "      <td>tacos los volcanes</td>\n",
              "      <td>avenida hivno nacional</td>\n",
              "      <td>...</td>\n",
              "      <td>No_Alcohol_Served</td>\n",
              "      <td>none</td>\n",
              "      <td>informal</td>\n",
              "      <td>completely</td>\n",
              "      <td>low</td>\n",
              "      <td>?</td>\n",
              "      <td>quiet</td>\n",
              "      <td>t</td>\n",
              "      <td>closed</td>\n",
              "      <td>none</td>\n",
              "    </tr>\n",
              "  </tbody>\n",
              "</table>\n",
              "<p>1161 rows × 25 columns</p>\n",
              "</div>\n",
              "      <button class=\"colab-df-convert\" onclick=\"convertToInteractive('df-8433a6e2-785e-4b3d-8671-2851b3a65bed')\"\n",
              "              title=\"Convert this dataframe to an interactive table.\"\n",
              "              style=\"display:none;\">\n",
              "        \n",
              "  <svg xmlns=\"http://www.w3.org/2000/svg\" height=\"24px\"viewBox=\"0 0 24 24\"\n",
              "       width=\"24px\">\n",
              "    <path d=\"M0 0h24v24H0V0z\" fill=\"none\"/>\n",
              "    <path d=\"M18.56 5.44l.94 2.06.94-2.06 2.06-.94-2.06-.94-.94-2.06-.94 2.06-2.06.94zm-11 1L8.5 8.5l.94-2.06 2.06-.94-2.06-.94L8.5 2.5l-.94 2.06-2.06.94zm10 10l.94 2.06.94-2.06 2.06-.94-2.06-.94-.94-2.06-.94 2.06-2.06.94z\"/><path d=\"M17.41 7.96l-1.37-1.37c-.4-.4-.92-.59-1.43-.59-.52 0-1.04.2-1.43.59L10.3 9.45l-7.72 7.72c-.78.78-.78 2.05 0 2.83L4 21.41c.39.39.9.59 1.41.59.51 0 1.02-.2 1.41-.59l7.78-7.78 2.81-2.81c.8-.78.8-2.07 0-2.86zM5.41 20L4 18.59l7.72-7.72 1.47 1.35L5.41 20z\"/>\n",
              "  </svg>\n",
              "      </button>\n",
              "      \n",
              "  <style>\n",
              "    .colab-df-container {\n",
              "      display:flex;\n",
              "      flex-wrap:wrap;\n",
              "      gap: 12px;\n",
              "    }\n",
              "\n",
              "    .colab-df-convert {\n",
              "      background-color: #E8F0FE;\n",
              "      border: none;\n",
              "      border-radius: 50%;\n",
              "      cursor: pointer;\n",
              "      display: none;\n",
              "      fill: #1967D2;\n",
              "      height: 32px;\n",
              "      padding: 0 0 0 0;\n",
              "      width: 32px;\n",
              "    }\n",
              "\n",
              "    .colab-df-convert:hover {\n",
              "      background-color: #E2EBFA;\n",
              "      box-shadow: 0px 1px 2px rgba(60, 64, 67, 0.3), 0px 1px 3px 1px rgba(60, 64, 67, 0.15);\n",
              "      fill: #174EA6;\n",
              "    }\n",
              "\n",
              "    [theme=dark] .colab-df-convert {\n",
              "      background-color: #3B4455;\n",
              "      fill: #D2E3FC;\n",
              "    }\n",
              "\n",
              "    [theme=dark] .colab-df-convert:hover {\n",
              "      background-color: #434B5C;\n",
              "      box-shadow: 0px 1px 3px 1px rgba(0, 0, 0, 0.15);\n",
              "      filter: drop-shadow(0px 1px 2px rgba(0, 0, 0, 0.3));\n",
              "      fill: #FFFFFF;\n",
              "    }\n",
              "  </style>\n",
              "\n",
              "      <script>\n",
              "        const buttonEl =\n",
              "          document.querySelector('#df-8433a6e2-785e-4b3d-8671-2851b3a65bed button.colab-df-convert');\n",
              "        buttonEl.style.display =\n",
              "          google.colab.kernel.accessAllowed ? 'block' : 'none';\n",
              "\n",
              "        async function convertToInteractive(key) {\n",
              "          const element = document.querySelector('#df-8433a6e2-785e-4b3d-8671-2851b3a65bed');\n",
              "          const dataTable =\n",
              "            await google.colab.kernel.invokeFunction('convertToInteractive',\n",
              "                                                     [key], {});\n",
              "          if (!dataTable) return;\n",
              "\n",
              "          const docLinkHtml = 'Like what you see? Visit the ' +\n",
              "            '<a target=\"_blank\" href=https://colab.research.google.com/notebooks/data_table.ipynb>data table notebook</a>'\n",
              "            + ' to learn more about interactive tables.';\n",
              "          element.innerHTML = '';\n",
              "          dataTable['output_type'] = 'display_data';\n",
              "          await google.colab.output.renderOutput(dataTable, element);\n",
              "          const docLink = document.createElement('div');\n",
              "          docLink.innerHTML = docLinkHtml;\n",
              "          element.appendChild(docLink);\n",
              "        }\n",
              "      </script>\n",
              "    </div>\n",
              "  </div>\n",
              "  "
            ]
          },
          "metadata": {},
          "execution_count": 198
        }
      ],
      "source": [
        "df_Data.rating = df_Data.rating + 1\n",
        "df_Data.food_rating = df_Data.food_rating + 1\n",
        "df_Data.service_rating = df_Data.service_rating + 1\n",
        "df_Data"
      ]
    },
    {
      "cell_type": "markdown",
      "metadata": {
        "id": "_dsEFxIYtKcP"
      },
      "source": [
        "El tamaño de dicha matriz combinada es de **1,161 renglones** (usarios) y **25** columnas (calificaciones y localización geográfica)"
      ]
    },
    {
      "cell_type": "markdown",
      "metadata": {
        "id": "xZhr2hkECzVv"
      },
      "source": [
        "# **Ejercicio-2.**"
      ]
    },
    {
      "cell_type": "markdown",
      "metadata": {
        "id": "A1LUg6JftnZJ"
      },
      "source": [
        "Con el objetivo de obtener la información con respecto a los vectores latentes (*eighenvectors*) de los restaurantes, \n",
        "obtener dicha factorización SVD utilizando todas las componentes posibles, es decir, usando todos \n",
        "sus valores singulares. En particular indica la cantidad de valores singulares obtenidos. "
      ]
    },
    {
      "cell_type": "code",
      "execution_count": null,
      "metadata": {
        "colab": {
          "base_uri": "https://localhost:8080/",
          "height": 551
        },
        "id": "kGfAoOPkC1PP",
        "outputId": "009da876-3266-4e5b-bb49-4e23be8abde8",
        "vscode": {
          "languageId": "python"
        }
      },
      "outputs": [
        {
          "output_type": "execute_result",
          "data": {
            "text/plain": [
              "name    Abondance Restaurante Bar  Arrachela Grill  Cabana Huasteca  \\\n",
              "userID                                                                \n",
              "U1001                         0.0              0.0              0.0   \n",
              "U1002                         0.0              0.0              0.0   \n",
              "U1003                         0.0              0.0              3.0   \n",
              "U1004                         0.0              0.0              0.0   \n",
              "U1005                         0.0              0.0              0.0   \n",
              "U1006                         0.0              0.0              0.0   \n",
              "U1007                         0.0              0.0              0.0   \n",
              "U1008                         2.0              0.0              0.0   \n",
              "U1009                         0.0              0.0              2.0   \n",
              "U1010                         0.0              0.0              0.0   \n",
              "\n",
              "name    Cafe Chaires  Cafeteria cenidet  Cafeteria y Restaurant El Pacifico  \\\n",
              "userID                                                                        \n",
              "U1001            0.0                0.0                                 0.0   \n",
              "U1002            0.0                0.0                                 0.0   \n",
              "U1003            0.0                0.0                                 0.0   \n",
              "U1004            0.0                0.0                                 3.0   \n",
              "U1005            0.0                0.0                                 3.0   \n",
              "U1006            2.0                0.0                                 0.0   \n",
              "U1007            2.0                0.0                                 2.0   \n",
              "U1008            0.0                0.0                                 0.0   \n",
              "U1009            0.0                0.0                                 0.0   \n",
              "U1010            0.0                0.0                                 0.0   \n",
              "\n",
              "name    Carls Jr  Carnitas Mata  Calle 16 de Septiembre  \\\n",
              "userID                                                    \n",
              "U1001        0.0                                    0.0   \n",
              "U1002        0.0                                    0.0   \n",
              "U1003        0.0                                    0.0   \n",
              "U1004        0.0                                    0.0   \n",
              "U1005        0.0                                    0.0   \n",
              "U1006        0.0                                    0.0   \n",
              "U1007        0.0                                    0.0   \n",
              "U1008        0.0                                    0.0   \n",
              "U1009        0.0                                    0.0   \n",
              "U1010        0.0                                    0.0   \n",
              "\n",
              "name    Carreton de Flautas y Migadas  Cenaduria El RincÃ³n de Tlaquepaque  \\\n",
              "userID                                                                       \n",
              "U1001                             0.0                                  0.0   \n",
              "U1002                             0.0                                  0.0   \n",
              "U1003                             0.0                                  0.0   \n",
              "U1004                             0.0                                  0.0   \n",
              "U1005                             0.0                                  0.0   \n",
              "U1006                             0.0                                  0.0   \n",
              "U1007                             0.0                                  0.0   \n",
              "U1008                             0.0                                  0.0   \n",
              "U1009                             0.0                                  0.0   \n",
              "U1010                             0.0                                  0.0   \n",
              "\n",
              "name    ...  puesto de tacos  rockabilly   shi ro ie  sirloin stockade  \\\n",
              "userID  ...                                                              \n",
              "U1001   ...              3.0          0.0        0.0               0.0   \n",
              "U1002   ...              3.0          0.0        0.0               0.0   \n",
              "U1003   ...              3.0          3.0        0.0               0.0   \n",
              "U1004   ...              0.0          0.0        0.0               0.0   \n",
              "U1005   ...              0.0          0.0        0.0               0.0   \n",
              "U1006   ...              2.0          0.0        3.0               0.0   \n",
              "U1007   ...              0.0          0.0        0.0               0.0   \n",
              "U1008   ...              0.0          0.0        0.0               0.0   \n",
              "U1009   ...              2.0          0.0        0.0               0.0   \n",
              "U1010   ...              0.0          0.0        0.0               0.0   \n",
              "\n",
              "name    tacos abi  tacos de barbacoa enfrente del Tec  tacos de la estacion  \\\n",
              "userID                                                                        \n",
              "U1001         0.0                                 0.0                   0.0   \n",
              "U1002         0.0                                 0.0                   0.0   \n",
              "U1003         0.0                                 0.0                   0.0   \n",
              "U1004         0.0                                 0.0                   0.0   \n",
              "U1005         0.0                                 0.0                   0.0   \n",
              "U1006         0.0                                 0.0                   0.0   \n",
              "U1007         0.0                                 0.0                   0.0   \n",
              "U1008         0.0                                 0.0                   0.0   \n",
              "U1009         0.0                                 0.0                   0.0   \n",
              "U1010         0.0                                 0.0                   0.0   \n",
              "\n",
              "name    tacos los volcanes  tortas hawai  vips  \n",
              "userID                                          \n",
              "U1001                  0.0           0.0   0.0  \n",
              "U1002                  0.0           0.0   0.0  \n",
              "U1003                  0.0           0.0   0.0  \n",
              "U1004                  3.0           0.0   0.0  \n",
              "U1005                  0.0           0.0   0.0  \n",
              "U1006                  0.0           0.0   0.0  \n",
              "U1007                  0.0           0.0   0.0  \n",
              "U1008                  0.0           0.0   0.0  \n",
              "U1009                  0.0           0.0   0.0  \n",
              "U1010                  0.0           0.0   0.0  \n",
              "\n",
              "[10 rows x 129 columns]"
            ],
            "text/html": [
              "\n",
              "  <div id=\"df-4fe16e59-dd0d-4820-add0-8c723d1f36f3\">\n",
              "    <div class=\"colab-df-container\">\n",
              "      <div>\n",
              "<style scoped>\n",
              "    .dataframe tbody tr th:only-of-type {\n",
              "        vertical-align: middle;\n",
              "    }\n",
              "\n",
              "    .dataframe tbody tr th {\n",
              "        vertical-align: top;\n",
              "    }\n",
              "\n",
              "    .dataframe thead th {\n",
              "        text-align: right;\n",
              "    }\n",
              "</style>\n",
              "<table border=\"1\" class=\"dataframe\">\n",
              "  <thead>\n",
              "    <tr style=\"text-align: right;\">\n",
              "      <th>name</th>\n",
              "      <th>Abondance Restaurante Bar</th>\n",
              "      <th>Arrachela Grill</th>\n",
              "      <th>Cabana Huasteca</th>\n",
              "      <th>Cafe Chaires</th>\n",
              "      <th>Cafeteria cenidet</th>\n",
              "      <th>Cafeteria y Restaurant El Pacifico</th>\n",
              "      <th>Carls Jr</th>\n",
              "      <th>Carnitas Mata  Calle 16 de Septiembre</th>\n",
              "      <th>Carreton de Flautas y Migadas</th>\n",
              "      <th>Cenaduria El RincÃ³n de Tlaquepaque</th>\n",
              "      <th>...</th>\n",
              "      <th>puesto de tacos</th>\n",
              "      <th>rockabilly</th>\n",
              "      <th>shi ro ie</th>\n",
              "      <th>sirloin stockade</th>\n",
              "      <th>tacos abi</th>\n",
              "      <th>tacos de barbacoa enfrente del Tec</th>\n",
              "      <th>tacos de la estacion</th>\n",
              "      <th>tacos los volcanes</th>\n",
              "      <th>tortas hawai</th>\n",
              "      <th>vips</th>\n",
              "    </tr>\n",
              "    <tr>\n",
              "      <th>userID</th>\n",
              "      <th></th>\n",
              "      <th></th>\n",
              "      <th></th>\n",
              "      <th></th>\n",
              "      <th></th>\n",
              "      <th></th>\n",
              "      <th></th>\n",
              "      <th></th>\n",
              "      <th></th>\n",
              "      <th></th>\n",
              "      <th></th>\n",
              "      <th></th>\n",
              "      <th></th>\n",
              "      <th></th>\n",
              "      <th></th>\n",
              "      <th></th>\n",
              "      <th></th>\n",
              "      <th></th>\n",
              "      <th></th>\n",
              "      <th></th>\n",
              "      <th></th>\n",
              "    </tr>\n",
              "  </thead>\n",
              "  <tbody>\n",
              "    <tr>\n",
              "      <th>U1001</th>\n",
              "      <td>0.0</td>\n",
              "      <td>0.0</td>\n",
              "      <td>0.0</td>\n",
              "      <td>0.0</td>\n",
              "      <td>0.0</td>\n",
              "      <td>0.0</td>\n",
              "      <td>0.0</td>\n",
              "      <td>0.0</td>\n",
              "      <td>0.0</td>\n",
              "      <td>0.0</td>\n",
              "      <td>...</td>\n",
              "      <td>3.0</td>\n",
              "      <td>0.0</td>\n",
              "      <td>0.0</td>\n",
              "      <td>0.0</td>\n",
              "      <td>0.0</td>\n",
              "      <td>0.0</td>\n",
              "      <td>0.0</td>\n",
              "      <td>0.0</td>\n",
              "      <td>0.0</td>\n",
              "      <td>0.0</td>\n",
              "    </tr>\n",
              "    <tr>\n",
              "      <th>U1002</th>\n",
              "      <td>0.0</td>\n",
              "      <td>0.0</td>\n",
              "      <td>0.0</td>\n",
              "      <td>0.0</td>\n",
              "      <td>0.0</td>\n",
              "      <td>0.0</td>\n",
              "      <td>0.0</td>\n",
              "      <td>0.0</td>\n",
              "      <td>0.0</td>\n",
              "      <td>0.0</td>\n",
              "      <td>...</td>\n",
              "      <td>3.0</td>\n",
              "      <td>0.0</td>\n",
              "      <td>0.0</td>\n",
              "      <td>0.0</td>\n",
              "      <td>0.0</td>\n",
              "      <td>0.0</td>\n",
              "      <td>0.0</td>\n",
              "      <td>0.0</td>\n",
              "      <td>0.0</td>\n",
              "      <td>0.0</td>\n",
              "    </tr>\n",
              "    <tr>\n",
              "      <th>U1003</th>\n",
              "      <td>0.0</td>\n",
              "      <td>0.0</td>\n",
              "      <td>3.0</td>\n",
              "      <td>0.0</td>\n",
              "      <td>0.0</td>\n",
              "      <td>0.0</td>\n",
              "      <td>0.0</td>\n",
              "      <td>0.0</td>\n",
              "      <td>0.0</td>\n",
              "      <td>0.0</td>\n",
              "      <td>...</td>\n",
              "      <td>3.0</td>\n",
              "      <td>3.0</td>\n",
              "      <td>0.0</td>\n",
              "      <td>0.0</td>\n",
              "      <td>0.0</td>\n",
              "      <td>0.0</td>\n",
              "      <td>0.0</td>\n",
              "      <td>0.0</td>\n",
              "      <td>0.0</td>\n",
              "      <td>0.0</td>\n",
              "    </tr>\n",
              "    <tr>\n",
              "      <th>U1004</th>\n",
              "      <td>0.0</td>\n",
              "      <td>0.0</td>\n",
              "      <td>0.0</td>\n",
              "      <td>0.0</td>\n",
              "      <td>0.0</td>\n",
              "      <td>3.0</td>\n",
              "      <td>0.0</td>\n",
              "      <td>0.0</td>\n",
              "      <td>0.0</td>\n",
              "      <td>0.0</td>\n",
              "      <td>...</td>\n",
              "      <td>0.0</td>\n",
              "      <td>0.0</td>\n",
              "      <td>0.0</td>\n",
              "      <td>0.0</td>\n",
              "      <td>0.0</td>\n",
              "      <td>0.0</td>\n",
              "      <td>0.0</td>\n",
              "      <td>3.0</td>\n",
              "      <td>0.0</td>\n",
              "      <td>0.0</td>\n",
              "    </tr>\n",
              "    <tr>\n",
              "      <th>U1005</th>\n",
              "      <td>0.0</td>\n",
              "      <td>0.0</td>\n",
              "      <td>0.0</td>\n",
              "      <td>0.0</td>\n",
              "      <td>0.0</td>\n",
              "      <td>3.0</td>\n",
              "      <td>0.0</td>\n",
              "      <td>0.0</td>\n",
              "      <td>0.0</td>\n",
              "      <td>0.0</td>\n",
              "      <td>...</td>\n",
              "      <td>0.0</td>\n",
              "      <td>0.0</td>\n",
              "      <td>0.0</td>\n",
              "      <td>0.0</td>\n",
              "      <td>0.0</td>\n",
              "      <td>0.0</td>\n",
              "      <td>0.0</td>\n",
              "      <td>0.0</td>\n",
              "      <td>0.0</td>\n",
              "      <td>0.0</td>\n",
              "    </tr>\n",
              "    <tr>\n",
              "      <th>U1006</th>\n",
              "      <td>0.0</td>\n",
              "      <td>0.0</td>\n",
              "      <td>0.0</td>\n",
              "      <td>2.0</td>\n",
              "      <td>0.0</td>\n",
              "      <td>0.0</td>\n",
              "      <td>0.0</td>\n",
              "      <td>0.0</td>\n",
              "      <td>0.0</td>\n",
              "      <td>0.0</td>\n",
              "      <td>...</td>\n",
              "      <td>2.0</td>\n",
              "      <td>0.0</td>\n",
              "      <td>3.0</td>\n",
              "      <td>0.0</td>\n",
              "      <td>0.0</td>\n",
              "      <td>0.0</td>\n",
              "      <td>0.0</td>\n",
              "      <td>0.0</td>\n",
              "      <td>0.0</td>\n",
              "      <td>0.0</td>\n",
              "    </tr>\n",
              "    <tr>\n",
              "      <th>U1007</th>\n",
              "      <td>0.0</td>\n",
              "      <td>0.0</td>\n",
              "      <td>0.0</td>\n",
              "      <td>2.0</td>\n",
              "      <td>0.0</td>\n",
              "      <td>2.0</td>\n",
              "      <td>0.0</td>\n",
              "      <td>0.0</td>\n",
              "      <td>0.0</td>\n",
              "      <td>0.0</td>\n",
              "      <td>...</td>\n",
              "      <td>0.0</td>\n",
              "      <td>0.0</td>\n",
              "      <td>0.0</td>\n",
              "      <td>0.0</td>\n",
              "      <td>0.0</td>\n",
              "      <td>0.0</td>\n",
              "      <td>0.0</td>\n",
              "      <td>0.0</td>\n",
              "      <td>0.0</td>\n",
              "      <td>0.0</td>\n",
              "    </tr>\n",
              "    <tr>\n",
              "      <th>U1008</th>\n",
              "      <td>2.0</td>\n",
              "      <td>0.0</td>\n",
              "      <td>0.0</td>\n",
              "      <td>0.0</td>\n",
              "      <td>0.0</td>\n",
              "      <td>0.0</td>\n",
              "      <td>0.0</td>\n",
              "      <td>0.0</td>\n",
              "      <td>0.0</td>\n",
              "      <td>0.0</td>\n",
              "      <td>...</td>\n",
              "      <td>0.0</td>\n",
              "      <td>0.0</td>\n",
              "      <td>0.0</td>\n",
              "      <td>0.0</td>\n",
              "      <td>0.0</td>\n",
              "      <td>0.0</td>\n",
              "      <td>0.0</td>\n",
              "      <td>0.0</td>\n",
              "      <td>0.0</td>\n",
              "      <td>0.0</td>\n",
              "    </tr>\n",
              "    <tr>\n",
              "      <th>U1009</th>\n",
              "      <td>0.0</td>\n",
              "      <td>0.0</td>\n",
              "      <td>2.0</td>\n",
              "      <td>0.0</td>\n",
              "      <td>0.0</td>\n",
              "      <td>0.0</td>\n",
              "      <td>0.0</td>\n",
              "      <td>0.0</td>\n",
              "      <td>0.0</td>\n",
              "      <td>0.0</td>\n",
              "      <td>...</td>\n",
              "      <td>2.0</td>\n",
              "      <td>0.0</td>\n",
              "      <td>0.0</td>\n",
              "      <td>0.0</td>\n",
              "      <td>0.0</td>\n",
              "      <td>0.0</td>\n",
              "      <td>0.0</td>\n",
              "      <td>0.0</td>\n",
              "      <td>0.0</td>\n",
              "      <td>0.0</td>\n",
              "    </tr>\n",
              "    <tr>\n",
              "      <th>U1010</th>\n",
              "      <td>0.0</td>\n",
              "      <td>0.0</td>\n",
              "      <td>0.0</td>\n",
              "      <td>0.0</td>\n",
              "      <td>0.0</td>\n",
              "      <td>0.0</td>\n",
              "      <td>0.0</td>\n",
              "      <td>0.0</td>\n",
              "      <td>0.0</td>\n",
              "      <td>0.0</td>\n",
              "      <td>...</td>\n",
              "      <td>0.0</td>\n",
              "      <td>0.0</td>\n",
              "      <td>0.0</td>\n",
              "      <td>0.0</td>\n",
              "      <td>0.0</td>\n",
              "      <td>0.0</td>\n",
              "      <td>0.0</td>\n",
              "      <td>0.0</td>\n",
              "      <td>0.0</td>\n",
              "      <td>0.0</td>\n",
              "    </tr>\n",
              "  </tbody>\n",
              "</table>\n",
              "<p>10 rows × 129 columns</p>\n",
              "</div>\n",
              "      <button class=\"colab-df-convert\" onclick=\"convertToInteractive('df-4fe16e59-dd0d-4820-add0-8c723d1f36f3')\"\n",
              "              title=\"Convert this dataframe to an interactive table.\"\n",
              "              style=\"display:none;\">\n",
              "        \n",
              "  <svg xmlns=\"http://www.w3.org/2000/svg\" height=\"24px\"viewBox=\"0 0 24 24\"\n",
              "       width=\"24px\">\n",
              "    <path d=\"M0 0h24v24H0V0z\" fill=\"none\"/>\n",
              "    <path d=\"M18.56 5.44l.94 2.06.94-2.06 2.06-.94-2.06-.94-.94-2.06-.94 2.06-2.06.94zm-11 1L8.5 8.5l.94-2.06 2.06-.94-2.06-.94L8.5 2.5l-.94 2.06-2.06.94zm10 10l.94 2.06.94-2.06 2.06-.94-2.06-.94-.94-2.06-.94 2.06-2.06.94z\"/><path d=\"M17.41 7.96l-1.37-1.37c-.4-.4-.92-.59-1.43-.59-.52 0-1.04.2-1.43.59L10.3 9.45l-7.72 7.72c-.78.78-.78 2.05 0 2.83L4 21.41c.39.39.9.59 1.41.59.51 0 1.02-.2 1.41-.59l7.78-7.78 2.81-2.81c.8-.78.8-2.07 0-2.86zM5.41 20L4 18.59l7.72-7.72 1.47 1.35L5.41 20z\"/>\n",
              "  </svg>\n",
              "      </button>\n",
              "      \n",
              "  <style>\n",
              "    .colab-df-container {\n",
              "      display:flex;\n",
              "      flex-wrap:wrap;\n",
              "      gap: 12px;\n",
              "    }\n",
              "\n",
              "    .colab-df-convert {\n",
              "      background-color: #E8F0FE;\n",
              "      border: none;\n",
              "      border-radius: 50%;\n",
              "      cursor: pointer;\n",
              "      display: none;\n",
              "      fill: #1967D2;\n",
              "      height: 32px;\n",
              "      padding: 0 0 0 0;\n",
              "      width: 32px;\n",
              "    }\n",
              "\n",
              "    .colab-df-convert:hover {\n",
              "      background-color: #E2EBFA;\n",
              "      box-shadow: 0px 1px 2px rgba(60, 64, 67, 0.3), 0px 1px 3px 1px rgba(60, 64, 67, 0.15);\n",
              "      fill: #174EA6;\n",
              "    }\n",
              "\n",
              "    [theme=dark] .colab-df-convert {\n",
              "      background-color: #3B4455;\n",
              "      fill: #D2E3FC;\n",
              "    }\n",
              "\n",
              "    [theme=dark] .colab-df-convert:hover {\n",
              "      background-color: #434B5C;\n",
              "      box-shadow: 0px 1px 3px 1px rgba(0, 0, 0, 0.15);\n",
              "      filter: drop-shadow(0px 1px 2px rgba(0, 0, 0, 0.3));\n",
              "      fill: #FFFFFF;\n",
              "    }\n",
              "  </style>\n",
              "\n",
              "      <script>\n",
              "        const buttonEl =\n",
              "          document.querySelector('#df-4fe16e59-dd0d-4820-add0-8c723d1f36f3 button.colab-df-convert');\n",
              "        buttonEl.style.display =\n",
              "          google.colab.kernel.accessAllowed ? 'block' : 'none';\n",
              "\n",
              "        async function convertToInteractive(key) {\n",
              "          const element = document.querySelector('#df-4fe16e59-dd0d-4820-add0-8c723d1f36f3');\n",
              "          const dataTable =\n",
              "            await google.colab.kernel.invokeFunction('convertToInteractive',\n",
              "                                                     [key], {});\n",
              "          if (!dataTable) return;\n",
              "\n",
              "          const docLinkHtml = 'Like what you see? Visit the ' +\n",
              "            '<a target=\"_blank\" href=https://colab.research.google.com/notebooks/data_table.ipynb>data table notebook</a>'\n",
              "            + ' to learn more about interactive tables.';\n",
              "          element.innerHTML = '';\n",
              "          dataTable['output_type'] = 'display_data';\n",
              "          await google.colab.output.renderOutput(dataTable, element);\n",
              "          const docLink = document.createElement('div');\n",
              "          docLink.innerHTML = docLinkHtml;\n",
              "          element.appendChild(docLink);\n",
              "        }\n",
              "      </script>\n",
              "    </div>\n",
              "  </div>\n",
              "  "
            ]
          },
          "metadata": {},
          "execution_count": 199
        }
      ],
      "source": [
        "# Matriz transpuesta\n",
        "# 0 significa no estuvo en ese restaurante\n",
        "df_transposed = df_Data.pivot_table(values='rating', index='userID', columns='name')\n",
        "df_transposed.fillna(0,inplace=True)\n",
        "df_transposed\n",
        "df_transposed.head(10)"
      ]
    },
    {
      "cell_type": "code",
      "execution_count": null,
      "metadata": {
        "id": "IKA1Zi7yv8ht",
        "vscode": {
          "languageId": "python"
        }
      },
      "outputs": [],
      "source": [
        "X_data = df_transposed.T"
      ]
    },
    {
      "cell_type": "code",
      "execution_count": null,
      "metadata": {
        "colab": {
          "base_uri": "https://localhost:8080/"
        },
        "id": "GOydw5OGC1MJ",
        "outputId": "5cdef79b-db82-4d4f-bc18-f5635d79b174",
        "vscode": {
          "languageId": "python"
        }
      },
      "outputs": [
        {
          "output_type": "execute_result",
          "data": {
            "text/plain": [
              "TruncatedSVD(n_components=137, random_state=1)"
            ]
          },
          "metadata": {},
          "execution_count": 201
        }
      ],
      "source": [
        "# Para confirmar: número de componentes debe ser menor que el número de características que en este problema son 138 (usuarios)\n",
        "SVD = TruncatedSVD(n_components=(X_data.shape[1]-1), random_state=1)  \n",
        "SVD.fit(X_data)"
      ]
    },
    {
      "cell_type": "markdown",
      "metadata": {
        "id": "DpeBcZcyx-YQ"
      },
      "source": [
        "La cantidad de valores singulares obtenidos son 137, menos a los 138 carcaterísiticas (138)"
      ]
    },
    {
      "cell_type": "code",
      "execution_count": null,
      "metadata": {
        "colab": {
          "base_uri": "https://localhost:8080/"
        },
        "id": "jPdf0Rfsymiw",
        "outputId": "ae10dd8c-c3c3-4311-9e48-3fd7f29e5c59",
        "vscode": {
          "languageId": "python"
        }
      },
      "outputs": [
        {
          "output_type": "stream",
          "name": "stdout",
          "text": [
            "La cantidad de valores singulares obtenidos es: 137\n",
            "0.0%\n"
          ]
        }
      ],
      "source": [
        "sv = 137   \n",
        "print('La cantidad de valores singulares obtenidos es: %d' % sv)\n",
        "print('%.1f%%' %  (100 * (1- (SVD.singular_values_[0:sv]).sum() / (SVD.singular_values_).sum())))"
      ]
    },
    {
      "cell_type": "markdown",
      "metadata": {
        "id": "NCunuooTC2W3"
      },
      "source": [
        "# **Ejercicio-3.**"
      ]
    },
    {
      "cell_type": "markdown",
      "metadata": {
        "id": "UcXektQa0Nfj"
      },
      "source": [
        "Usando la métrica de correlación de Pearson, obtener las 10 mejores recomendaciones de este \n",
        "modelo no supervisado con base a la información de alguien que evaluó bien de manera general al \n",
        "“Subway”. Despliega también el valor numérico de la correlación de Pearson de cada una de estas 10 \n",
        "recomendaciones. NOTA: No debe estar incluido “Subway” dentro de las recomendaciones. "
      ]
    },
    {
      "cell_type": "code",
      "execution_count": null,
      "metadata": {
        "colab": {
          "base_uri": "https://localhost:8080/"
        },
        "id": "YXlcSWA-C4Dj",
        "outputId": "5eaae572-0661-4d44-8560-34c34d34c00b",
        "vscode": {
          "languageId": "python"
        }
      },
      "outputs": [
        {
          "output_type": "execute_result",
          "data": {
            "text/plain": [
              "(129, 129)"
            ]
          },
          "metadata": {},
          "execution_count": 203
        }
      ],
      "source": [
        "Result_Matrix = SVD.fit_transform(X_data)\n",
        "Result_Matrix.shape"
      ]
    },
    {
      "cell_type": "code",
      "execution_count": null,
      "metadata": {
        "colab": {
          "base_uri": "https://localhost:8080/"
        },
        "id": "XnGKYGqjfOcJ",
        "outputId": "2dd85775-ffce-4922-b54e-fa6e99085380",
        "vscode": {
          "languageId": "python"
        }
      },
      "outputs": [
        {
          "output_type": "execute_result",
          "data": {
            "text/plain": [
              "(129, 129)"
            ]
          },
          "metadata": {},
          "execution_count": 204
        }
      ],
      "source": [
        "Pearson_Matrix = np.corrcoef(Result_Matrix, )\n",
        "Pearson_Matrix.shape"
      ]
    },
    {
      "cell_type": "code",
      "execution_count": null,
      "metadata": {
        "colab": {
          "base_uri": "https://localhost:8080/"
        },
        "id": "OWPokbZAfpSG",
        "outputId": "aae73bc3-b43b-4b66-ae70-cb3e24779d84",
        "vscode": {
          "languageId": "python"
        }
      },
      "outputs": [
        {
          "output_type": "execute_result",
          "data": {
            "text/plain": [
              "88"
            ]
          },
          "metadata": {},
          "execution_count": 205
        }
      ],
      "source": [
        "Subway = \"Subway\"\n",
        "\n",
        "names = df_transposed.columns\n",
        "names_list = list(names)\n",
        "Recommend_Subway = names_list.index(Subway)\n",
        "\n",
        "Recommend_Subway"
      ]
    },
    {
      "cell_type": "code",
      "execution_count": null,
      "metadata": {
        "colab": {
          "base_uri": "https://localhost:8080/"
        },
        "id": "Eww1lmR3gWsI",
        "outputId": "973a2ffd-1f9d-4dfc-f659-296c853edbe0",
        "vscode": {
          "languageId": "python"
        }
      },
      "outputs": [
        {
          "output_type": "stream",
          "name": "stdout",
          "text": [
            "[-0.001  0.004 -0.    -0.004 -0.002  0.002 -0.002 -0.003 -0.001 -0.002\n",
            " -0.004  0.36  -0.005 -0.     0.001 -0.002  0.003  0.001 -0.001 -0.004\n",
            "  0.004  0.142  0.002 -0.001 -0.005 -0.004 -0.003 -0.003 -0.002  0.203\n",
            " -0.003  0.001  0.005  0.001 -0.002 -0.005 -0.004  0.217 -0.007  0.005\n",
            " -0.004  0.476  0.188 -0.002  0.003  0.268  0.189 -0.001 -0.005 -0.001\n",
            " -0.004  0.199 -0.005 -0.001  0.28   0.284 -0.003 -0.003  0.7   -0.002\n",
            "  0.494  0.001 -0.004 -0.002  0.261  0.    -0.003 -0.002 -0.004 -0.006\n",
            " -0.002  0.    -0.003 -0.004  0.    -0.006 -0.004  0.003  0.002 -0.003\n",
            " -0.007 -0.004 -0.003 -0.002 -0.003  0.43   0.408 -0.002  1.    -0.001\n",
            " -0.001 -0.003 -0.001 -0.003 -0.004  0.    -0.001  0.603 -0.003  0.001\n",
            " -0.006  0.002  0.    -0.004 -0.002 -0.002 -0.003  0.003 -0.    -0.006\n",
            " -0.009  0.002  0.003  0.001  0.002  0.002 -0.001 -0.007 -0.001 -0.003\n",
            "  0.001 -0.005 -0.006  0.002 -0.001 -0.005 -0.002 -0.002 -0.   ]\n"
          ]
        }
      ],
      "source": [
        "# Las recomendaciones\n",
        "recommend = Pearson_Matrix[Recommend_Subway]\n",
        "print(recommend.round(3))"
      ]
    },
    {
      "cell_type": "code",
      "execution_count": null,
      "metadata": {
        "colab": {
          "base_uri": "https://localhost:8080/"
        },
        "id": "BKI80-YdC4HN",
        "outputId": "5b5612c5-4db6-446c-d765-85036f20b49a",
        "vscode": {
          "languageId": "python"
        }
      },
      "outputs": [
        {
          "output_type": "stream",
          "name": "stdout",
          "text": [
            "(129,)\n"
          ]
        }
      ],
      "source": [
        "print(recommend.shape)"
      ]
    },
    {
      "cell_type": "code",
      "execution_count": null,
      "metadata": {
        "colab": {
          "base_uri": "https://localhost:8080/"
        },
        "id": "tAL6_owti1qB",
        "outputId": "2e2446a7-8ad5-49b3-c413-4eba31b3b365",
        "vscode": {
          "languageId": "python"
        }
      },
      "outputs": [
        {
          "output_type": "execute_result",
          "data": {
            "text/plain": [
              "array([0.27956982, 0.28428837, 0.36018759, 0.40821708, 0.43000243,\n",
              "       0.47614952, 0.49442429, 0.60306731, 0.70004416, 1.        ])"
            ]
          },
          "metadata": {},
          "execution_count": 208
        }
      ],
      "source": [
        "Coef_recom = np.copy(recommend)\n",
        "Coef_recom.sort()\n",
        "Coef_recom[-10: ]"
      ]
    },
    {
      "cell_type": "code",
      "execution_count": null,
      "metadata": {
        "colab": {
          "base_uri": "https://localhost:8080/"
        },
        "id": "dwAYQ0seji5f",
        "outputId": "57ebe24c-2a38-4ced-fa6c-a92762770e29",
        "vscode": {
          "languageId": "python"
        }
      },
      "outputs": [
        {
          "output_type": "execute_result",
          "data": {
            "text/plain": [
              "[{'Restaurant Teely': 70.0},\n",
              " {'Vips': 60.31},\n",
              " {'Restaurant and Bar and Clothesline Carlos N Charlies': 49.44},\n",
              " {'Mariscos Tia Licha': 47.61},\n",
              " {'Rincon del Bife': 43.0},\n",
              " {'Sanborns Casa Piedra': 40.82},\n",
              " {'Chilis Cuernavaca': 36.02},\n",
              " {'Restaurant Las Mananitas': 28.43},\n",
              " {'Restaurant Familiar El Chino': 27.96},\n",
              " {'Mikasa': 26.76}]"
            ]
          },
          "metadata": {},
          "execution_count": 209
        }
      ],
      "source": [
        "name_list = list(names[(recommend >= Coef_recom[-11]) & (recommend < 1)])\n",
        "names_top = []\n",
        "total_name_top = []\n",
        "for restaurant in name_list:\n",
        "    index = np.where(names == restaurant)\n",
        "    total_name_top.append(restaurant)\n",
        "    names_top.append({restaurant: round(recommend[index[0]][0] * 100, 2)})\n",
        "sorted(names_top, key=lambda x: list(x.values())[0], reverse=True)"
      ]
    },
    {
      "cell_type": "markdown",
      "metadata": {
        "id": "chqk9jIDC5Pq"
      },
      "source": [
        "# **Ejercicio-4.**"
      ]
    },
    {
      "cell_type": "markdown",
      "metadata": {
        "id": "MWDA4SEB0Rwv"
      },
      "source": [
        "Disminuye ahora la dimensión de la factorización con un número de componentes tal, que las \n",
        "recomendaciones con esta menor cantidad de información coincidan en al menos 9 de las 10 \n",
        "recomendaciones dadas con todos los valores singulares. Indica la cantidad de valores singulares \n",
        "encontrado y la cantidad de información que contienen. "
      ]
    },
    {
      "cell_type": "code",
      "execution_count": null,
      "metadata": {
        "colab": {
          "base_uri": "https://localhost:8080/"
        },
        "id": "RBVSFwK4C6g9",
        "outputId": "1e52c885-1364-4042-e2fc-9f103d610dfa",
        "vscode": {
          "languageId": "python"
        }
      },
      "outputs": [
        {
          "output_type": "stream",
          "name": "stdout",
          "text": [
            "La cantidad de valores singulares obtenidos es: 53\n",
            "25.8%\n"
          ]
        }
      ],
      "source": [
        "sv = 53\n",
        "print('La cantidad de valores singulares obtenidos es: %d' % sv)\n",
        "print('%.1f%%' %  (100 * (1- (SVD.singular_values_[0:sv]).sum() / (SVD.singular_values_).sum())))\n"
      ]
    },
    {
      "cell_type": "code",
      "execution_count": null,
      "metadata": {
        "id": "h4NjDBQk_jJV",
        "vscode": {
          "languageId": "python"
        }
      },
      "outputs": [],
      "source": [
        "SVD2 = TruncatedSVD(n_components=sv, random_state=1)\n"
      ]
    },
    {
      "cell_type": "code",
      "execution_count": null,
      "metadata": {
        "colab": {
          "base_uri": "https://localhost:8080/"
        },
        "id": "4SxN_HvKuV_6",
        "outputId": "d0660ca0-4ec9-4d48-b422-57e9f58b2221",
        "vscode": {
          "languageId": "python"
        }
      },
      "outputs": [
        {
          "output_type": "execute_result",
          "data": {
            "text/plain": [
              "(129, 53)"
            ]
          },
          "metadata": {},
          "execution_count": 212
        }
      ],
      "source": [
        "Result_Matrix = SVD2.fit_transform(X_data)\n",
        "Result_Matrix.shape"
      ]
    },
    {
      "cell_type": "code",
      "execution_count": null,
      "metadata": {
        "colab": {
          "base_uri": "https://localhost:8080/"
        },
        "id": "0KyiPbwgubxA",
        "outputId": "fe961daf-12fe-4366-a67b-1be40343d65d",
        "vscode": {
          "languageId": "python"
        }
      },
      "outputs": [
        {
          "output_type": "execute_result",
          "data": {
            "text/plain": [
              "(129, 129)"
            ]
          },
          "metadata": {},
          "execution_count": 213
        }
      ],
      "source": [
        "Pearson_Matrix = np.corrcoef(Result_Matrix, )\n",
        "Pearson_Matrix.shape"
      ]
    },
    {
      "cell_type": "code",
      "execution_count": null,
      "metadata": {
        "colab": {
          "base_uri": "https://localhost:8080/"
        },
        "id": "WPa7atKauhLu",
        "outputId": "bce7d628-87ea-41dd-fe9a-555db9339916",
        "vscode": {
          "languageId": "python"
        }
      },
      "outputs": [
        {
          "output_type": "execute_result",
          "data": {
            "text/plain": [
              "88"
            ]
          },
          "metadata": {},
          "execution_count": 214
        }
      ],
      "source": [
        "Subway = \"Subway\"\n",
        "\n",
        "names = df_transposed.columns\n",
        "names_list = list(names)\n",
        "Recommend_Subway = names_list.index(Subway)\n",
        "\n",
        "Recommend_Subway"
      ]
    },
    {
      "cell_type": "code",
      "execution_count": null,
      "metadata": {
        "colab": {
          "base_uri": "https://localhost:8080/"
        },
        "id": "FzsoRAbjun2g",
        "outputId": "b6392329-b0cb-4528-b48f-37fe0523fcc6",
        "vscode": {
          "languageId": "python"
        }
      },
      "outputs": [
        {
          "output_type": "stream",
          "name": "stdout",
          "text": [
            "[ 0.003 -0.007 -0.004 -0.016 -0.035  0.006 -0.015 -0.008 -0.    -0.021\n",
            " -0.02   0.366 -0.021 -0.006 -0.002 -0.012 -0.037  0.002 -0.003 -0.023\n",
            "  0.086  0.181  0.011 -0.005 -0.022 -0.02  -0.006 -0.017 -0.021  0.202\n",
            " -0.008  0.003  0.022 -0.003 -0.011 -0.024 -0.016  0.208 -0.008  0.023\n",
            " -0.018  0.513  0.258 -0.009  0.016  0.416  0.211 -0.008 -0.014 -0.001\n",
            " -0.016  0.238 -0.021  0.014  0.26   0.277 -0.013 -0.008  0.833 -0.007\n",
            "  0.609  0.006 -0.02   0.004  0.3    0.008 -0.005 -0.006 -0.018 -0.016\n",
            " -0.015  0.007 -0.015 -0.017  0.001 -0.029 -0.014  0.011  0.004 -0.008\n",
            " -0.032 -0.014 -0.009 -0.002 -0.012  0.707  0.436 -0.011  1.    -0.008\n",
            " -0.004 -0.015  0.008 -0.012 -0.012  0.    -0.009  0.667 -0.006  0.001\n",
            " -0.029 -0.004 -0.014 -0.02  -0.016 -0.015 -0.011  0.01   0.001 -0.021\n",
            " -0.037  0.004  0.009 -0.004 -0.009  0.01   0.005 -0.037  0.007 -0.012\n",
            "  0.012 -0.016 -0.024  0.006  0.001 -0.014 -0.011 -0.004 -0.008]\n"
          ]
        }
      ],
      "source": [
        "# Las recomendaciones\n",
        "recommend = Pearson_Matrix[Recommend_Subway]\n",
        "print(recommend.round(3))"
      ]
    },
    {
      "cell_type": "code",
      "execution_count": null,
      "metadata": {
        "colab": {
          "base_uri": "https://localhost:8080/"
        },
        "id": "IBjF3bxDutPl",
        "outputId": "d49f5c24-e2fc-4c77-9464-75cfdde1c0b2",
        "vscode": {
          "languageId": "python"
        }
      },
      "outputs": [
        {
          "output_type": "stream",
          "name": "stdout",
          "text": [
            "(129,)\n"
          ]
        }
      ],
      "source": [
        "print(recommend.shape)"
      ]
    },
    {
      "cell_type": "code",
      "execution_count": null,
      "metadata": {
        "colab": {
          "base_uri": "https://localhost:8080/"
        },
        "id": "7KXnlNzAC69Y",
        "outputId": "81737dca-732c-45d0-9412-b80a76e64ab7",
        "vscode": {
          "languageId": "python"
        }
      },
      "outputs": [
        {
          "output_type": "execute_result",
          "data": {
            "text/plain": [
              "array([0.30009084, 0.3661688 , 0.41601986, 0.43643553, 0.51339436,\n",
              "       0.60922083, 0.6668834 , 0.70676943, 0.83287703, 1.        ])"
            ]
          },
          "metadata": {},
          "execution_count": 217
        }
      ],
      "source": [
        "Coef_recom = np.copy(recommend)\n",
        "Coef_recom.sort()\n",
        "Coef_recom[-10: ]"
      ]
    },
    {
      "cell_type": "code",
      "execution_count": null,
      "metadata": {
        "colab": {
          "base_uri": "https://localhost:8080/"
        },
        "id": "98TmISQYu9Ez",
        "outputId": "f7164a70-22b1-4eea-9c12-d0f5b0d4fda8",
        "vscode": {
          "languageId": "python"
        }
      },
      "outputs": [
        {
          "output_type": "execute_result",
          "data": {
            "text/plain": [
              "[{'Restaurant Teely': 83.29},\n",
              " {'Rincon del Bife': 70.68},\n",
              " {'Vips': 66.69},\n",
              " {'Restaurant and Bar and Clothesline Carlos N Charlies': 60.92},\n",
              " {'Mariscos Tia Licha': 51.34},\n",
              " {'Sanborns Casa Piedra': 43.64},\n",
              " {'Mikasa': 41.6},\n",
              " {'Chilis Cuernavaca': 36.62},\n",
              " {'Restaurant los Pinos': 30.01},\n",
              " {'Restaurant Las Mananitas': 27.73}]"
            ]
          },
          "metadata": {},
          "execution_count": 218
        }
      ],
      "source": [
        "name_list = list(names[(recommend >= Coef_recom[-11]) & (recommend < 1)])\n",
        "names_top = []\n",
        "coincidences = 0\n",
        "for restaurant in name_list:\n",
        "    index = np.where(names == restaurant)\n",
        "    if restaurant in total_name_top:\n",
        "        coincidences += 1\n",
        "    names_top.append({restaurant: round(recommend[index[0]][0] * 100, 2)})\n",
        "sorted(names_top, key=lambda x: list(x.values())[0], reverse=True)"
      ]
    },
    {
      "cell_type": "code",
      "execution_count": null,
      "metadata": {
        "colab": {
          "base_uri": "https://localhost:8080/"
        },
        "id": "14s4f_P6DOs1",
        "outputId": "25c046fc-3267-4934-d93d-9372634cf3b5",
        "vscode": {
          "languageId": "python"
        }
      },
      "outputs": [
        {
          "output_type": "stream",
          "name": "stdout",
          "text": [
            "Número de los restaurantes que coinciden:  9\n"
          ]
        }
      ],
      "source": [
        "print(\"Número de los restaurantes que coinciden: \", coincidences)"
      ]
    },
    {
      "cell_type": "markdown",
      "metadata": {
        "id": "Rv7KFq-mC7PS"
      },
      "source": [
        "# **Ejercicio-5.**"
      ]
    },
    {
      "cell_type": "markdown",
      "metadata": {
        "id": "PIDB5_tS0X3m"
      },
      "source": [
        "Repite el ejercicio con el restaurante \"tacos de barbacoa enfrente del Tec\". Incluye tus conclusiones."
      ]
    },
    {
      "cell_type": "code",
      "execution_count": null,
      "metadata": {
        "colab": {
          "base_uri": "https://localhost:8080/"
        },
        "id": "ktfKnFK8wKeC",
        "outputId": "df3a42ab-17cf-4239-eccc-58754aafa082",
        "vscode": {
          "languageId": "python"
        }
      },
      "outputs": [
        {
          "output_type": "execute_result",
          "data": {
            "text/plain": [
              "124"
            ]
          },
          "metadata": {},
          "execution_count": 220
        }
      ],
      "source": [
        "tacos_tec = \"tacos de barbacoa enfrente del Tec\"\n",
        "\n",
        "names = df_transposed.columns\n",
        "names_list = list(names)\n",
        "Recommend_tacos_tec = names_list.index(tacos_tec)\n",
        "\n",
        "Recommend_tacos_tec"
      ]
    },
    {
      "cell_type": "code",
      "execution_count": null,
      "metadata": {
        "colab": {
          "base_uri": "https://localhost:8080/"
        },
        "id": "FF9xXcYWwk1M",
        "outputId": "3c81baa3-da0a-4d8d-8c7f-0c745fcc9117",
        "vscode": {
          "languageId": "python"
        }
      },
      "outputs": [
        {
          "output_type": "stream",
          "name": "stdout",
          "text": [
            "[ 0.002  0.     0.001  0.001  0.003 -0.002 -0.001 -0.043  0.8    0.003\n",
            "  0.003  0.001  0.003  0.002  0.001  0.     0.001 -0.001 -0.     0.001\n",
            " -0.004  0.    -0.001 -0.     0.289  0.21   0.001  0.002  0.002  0.001\n",
            "  0.001 -0.001 -0.003  0.003  0.002  0.002  0.353  0.002  0.003 -0.002\n",
            "  0.002  0.001  0.001  0.    -0.003  0.001  0.002  0.001  0.252 -0.001\n",
            "  0.002  0.003  0.002 -0.004  0.003  0.     0.002  0.     0.001  0.\n",
            "  0.003  0.001  0.002 -0.    -0.002 -0.001  0.    -0.001  0.004  0.001\n",
            " -0.    -0.001  0.003  0.003  0.001  0.003  0.003 -0.002 -0.001  0.001\n",
            "  0.002  0.002  0.005 -0.     0.001 -0.    -0.001  0.     0.001  0.001\n",
            " -0.009  0.282  0.875  0.002  0.003 -0.    -0.001  0.004 -0.036 -0.\n",
            "  0.472  0.424 -0.026  0.002  0.004  0.002  0.002  0.    -0.001  0.003\n",
            "  0.005  0.001 -0.002 -0.024  0.928 -0.003  0.476  0.001  0.971  0.002\n",
            " -0.003  0.003  0.002  0.905  1.     0.191  0.002 -0.044  0.908]\n"
          ]
        }
      ],
      "source": [
        "# Las recomendaciones\n",
        "recommend = Pearson_Matrix[Recommend_tacos_tec]\n",
        "print(recommend.round(3))"
      ]
    },
    {
      "cell_type": "code",
      "execution_count": null,
      "metadata": {
        "colab": {
          "base_uri": "https://localhost:8080/"
        },
        "id": "4bgZZF8hwvPb",
        "outputId": "17b043e0-57a6-4c15-d48b-6ffaff8add0c",
        "vscode": {
          "languageId": "python"
        }
      },
      "outputs": [
        {
          "output_type": "stream",
          "name": "stdout",
          "text": [
            "(129,)\n"
          ]
        }
      ],
      "source": [
        "print(recommend.shape)"
      ]
    },
    {
      "cell_type": "code",
      "execution_count": null,
      "metadata": {
        "colab": {
          "base_uri": "https://localhost:8080/"
        },
        "id": "b6x6La7aw7NX",
        "outputId": "d02520f5-2cec-46d4-8f52-a7546bfced11",
        "vscode": {
          "languageId": "python"
        }
      },
      "outputs": [
        {
          "output_type": "execute_result",
          "data": {
            "text/plain": [
              "array([0.42410553, 0.4717125 , 0.47597381, 0.79973805, 0.87528124,\n",
              "       0.90483841, 0.90771732, 0.92805675, 0.97097611, 1.        ])"
            ]
          },
          "metadata": {},
          "execution_count": 223
        }
      ],
      "source": [
        "Coef_recom = np.copy(recommend)\n",
        "Coef_recom.sort()\n",
        "Coef_recom[-10: ]"
      ]
    },
    {
      "cell_type": "code",
      "execution_count": null,
      "metadata": {
        "colab": {
          "base_uri": "https://localhost:8080/"
        },
        "id": "y_444GEqxAlH",
        "outputId": "37b5aeff-82a3-4ac8-a908-2105c88bb27c",
        "vscode": {
          "languageId": "python"
        }
      },
      "outputs": [
        {
          "output_type": "execute_result",
          "data": {
            "text/plain": [
              "[{'puesto de gorditas': 97.1},\n",
              " {'little pizza Emilio Portes Gil': 92.81},\n",
              " {'vips': 90.77},\n",
              " {'tacos abi': 90.48},\n",
              " {'Taqueria EL amigo ': 87.53},\n",
              " {'Carreton de Flautas y Migadas': 79.97},\n",
              " {'palomo tec': 47.6},\n",
              " {'carnitas mata calle Emilio Portes Gil': 47.17},\n",
              " {'carnitas_mata': 42.41},\n",
              " {'Little Cesarz': 35.3}]"
            ]
          },
          "metadata": {},
          "execution_count": 224
        }
      ],
      "source": [
        "name_list = list(names[(recommend >= Coef_recom[-11]) & (recommend < 1)])\n",
        "names_top = []\n",
        "for restaurant in name_list:\n",
        "    index = np.where(names == restaurant)\n",
        "    names_top.append({restaurant: round(recommend[index[0]][0] * 100, 2)})\n",
        "sorted(names_top, key=lambda x: list(x.values())[0], reverse=True)"
      ]
    },
    {
      "cell_type": "markdown",
      "metadata": {
        "id": "W2S7LI0NC9wE"
      },
      "source": [
        "# **Ejercicio-6.**"
      ]
    },
    {
      "cell_type": "markdown",
      "metadata": {
        "id": "TwUeaqEe0dhE"
      },
      "source": [
        "Repite los ejercicios 1 a 4 generando."
      ]
    },
    {
      "cell_type": "markdown",
      "metadata": {
        "id": "77o2PH_TmCRB"
      },
      "source": [
        "### Ejercicio 6.a\n",
        "La matriz de utilidad en la cual los renglones son los \n",
        "usuarios (user_ID), las columnas los nombres de los restaurantes (name) y las entradas la \n",
        "evaluación dada a la comida (food_rating). Incluye tus conclusiones. "
      ]
    },
    {
      "cell_type": "code",
      "execution_count": null,
      "metadata": {
        "id": "m72cIrdW0bnn",
        "vscode": {
          "languageId": "python"
        },
        "colab": {
          "base_uri": "https://localhost:8080/"
        },
        "outputId": "c1a4ab0a-a330-4645-ba3b-75cba984e2a5"
      },
      "outputs": [
        {
          "output_type": "stream",
          "name": "stdout",
          "text": [
            "Tamaño de los datos:  (15207, 4)\n",
            "  userID  food_rating  placeID                    name\n",
            "0  U1077            3   135085  Tortas Locas Hipocampo\n",
            "1  U1077            3   135085  Tortas Locas Hipocampo\n",
            "2  U1077            3   135085  Tortas Locas Hipocampo\n",
            "3  U1077            3   135085  Tortas Locas Hipocampo\n",
            "4  U1077            3   135085  Tortas Locas Hipocampo\n"
          ]
        }
      ],
      "source": [
        "#Copia de los datos\n",
        "df6 = pd.merge(df_Data[[\"userID\", \"food_rating\", \"placeID\"]], df_Data[[\"name\", \"placeID\"]], on='placeID')\n",
        "print(\"Tamaño de los datos: \", df6.shape)\n",
        "print(df6.head())"
      ]
    },
    {
      "cell_type": "code",
      "execution_count": null,
      "metadata": {
        "vscode": {
          "languageId": "python"
        },
        "colab": {
          "base_uri": "https://localhost:8080/",
          "height": 551
        },
        "id": "mfarAKh-mCRC",
        "outputId": "61591961-be76-4fcd-afac-19d628fc5696"
      },
      "outputs": [
        {
          "output_type": "execute_result",
          "data": {
            "text/plain": [
              "name    Abondance Restaurante Bar  Arrachela Grill  Cabana Huasteca  \\\n",
              "userID                                                                \n",
              "U1001                         0.0              0.0              0.0   \n",
              "U1002                         0.0              0.0              0.0   \n",
              "U1003                         0.0              0.0              3.0   \n",
              "U1004                         0.0              0.0              0.0   \n",
              "U1005                         0.0              0.0              0.0   \n",
              "U1006                         0.0              0.0              0.0   \n",
              "U1007                         0.0              0.0              0.0   \n",
              "U1008                         2.0              0.0              0.0   \n",
              "U1009                         0.0              0.0              3.0   \n",
              "U1010                         0.0              0.0              0.0   \n",
              "\n",
              "name    Cafe Chaires  Cafeteria cenidet  Cafeteria y Restaurant El Pacifico  \\\n",
              "userID                                                                        \n",
              "U1001            0.0                0.0                                 0.0   \n",
              "U1002            0.0                0.0                                 0.0   \n",
              "U1003            0.0                0.0                                 0.0   \n",
              "U1004            0.0                0.0                                 3.0   \n",
              "U1005            0.0                0.0                                 2.0   \n",
              "U1006            1.0                0.0                                 0.0   \n",
              "U1007            2.0                0.0                                 2.0   \n",
              "U1008            0.0                0.0                                 0.0   \n",
              "U1009            0.0                0.0                                 0.0   \n",
              "U1010            0.0                0.0                                 0.0   \n",
              "\n",
              "name    Carls Jr  Carnitas Mata  Calle 16 de Septiembre  \\\n",
              "userID                                                    \n",
              "U1001        0.0                                    0.0   \n",
              "U1002        0.0                                    0.0   \n",
              "U1003        0.0                                    0.0   \n",
              "U1004        0.0                                    0.0   \n",
              "U1005        0.0                                    0.0   \n",
              "U1006        0.0                                    0.0   \n",
              "U1007        0.0                                    0.0   \n",
              "U1008        0.0                                    0.0   \n",
              "U1009        0.0                                    0.0   \n",
              "U1010        0.0                                    0.0   \n",
              "\n",
              "name    Carreton de Flautas y Migadas  Cenaduria El RincÃ³n de Tlaquepaque  \\\n",
              "userID                                                                       \n",
              "U1001                             0.0                                  0.0   \n",
              "U1002                             0.0                                  0.0   \n",
              "U1003                             0.0                                  0.0   \n",
              "U1004                             0.0                                  0.0   \n",
              "U1005                             0.0                                  0.0   \n",
              "U1006                             0.0                                  0.0   \n",
              "U1007                             0.0                                  0.0   \n",
              "U1008                             0.0                                  0.0   \n",
              "U1009                             0.0                                  0.0   \n",
              "U1010                             0.0                                  0.0   \n",
              "\n",
              "name    ...  puesto de tacos  rockabilly   shi ro ie  sirloin stockade  \\\n",
              "userID  ...                                                              \n",
              "U1001   ...              3.0          0.0        0.0               0.0   \n",
              "U1002   ...              3.0          0.0        0.0               0.0   \n",
              "U1003   ...              3.0          3.0        0.0               0.0   \n",
              "U1004   ...              0.0          0.0        0.0               0.0   \n",
              "U1005   ...              0.0          0.0        0.0               0.0   \n",
              "U1006   ...              2.0          0.0        3.0               0.0   \n",
              "U1007   ...              0.0          0.0        0.0               0.0   \n",
              "U1008   ...              0.0          0.0        0.0               0.0   \n",
              "U1009   ...              2.0          0.0        0.0               0.0   \n",
              "U1010   ...              0.0          0.0        0.0               0.0   \n",
              "\n",
              "name    tacos abi  tacos de barbacoa enfrente del Tec  tacos de la estacion  \\\n",
              "userID                                                                        \n",
              "U1001         0.0                                 0.0                   0.0   \n",
              "U1002         0.0                                 0.0                   0.0   \n",
              "U1003         0.0                                 0.0                   0.0   \n",
              "U1004         0.0                                 0.0                   0.0   \n",
              "U1005         0.0                                 0.0                   0.0   \n",
              "U1006         0.0                                 0.0                   0.0   \n",
              "U1007         0.0                                 0.0                   0.0   \n",
              "U1008         0.0                                 0.0                   0.0   \n",
              "U1009         0.0                                 0.0                   0.0   \n",
              "U1010         0.0                                 0.0                   0.0   \n",
              "\n",
              "name    tacos los volcanes  tortas hawai  vips  \n",
              "userID                                          \n",
              "U1001                  0.0           0.0   0.0  \n",
              "U1002                  0.0           0.0   0.0  \n",
              "U1003                  0.0           0.0   0.0  \n",
              "U1004                  3.0           0.0   0.0  \n",
              "U1005                  0.0           0.0   0.0  \n",
              "U1006                  0.0           0.0   0.0  \n",
              "U1007                  0.0           0.0   0.0  \n",
              "U1008                  0.0           0.0   0.0  \n",
              "U1009                  0.0           0.0   0.0  \n",
              "U1010                  0.0           0.0   0.0  \n",
              "\n",
              "[10 rows x 129 columns]"
            ],
            "text/html": [
              "\n",
              "  <div id=\"df-e11d6015-6887-4847-8ca8-8bcba6f94281\">\n",
              "    <div class=\"colab-df-container\">\n",
              "      <div>\n",
              "<style scoped>\n",
              "    .dataframe tbody tr th:only-of-type {\n",
              "        vertical-align: middle;\n",
              "    }\n",
              "\n",
              "    .dataframe tbody tr th {\n",
              "        vertical-align: top;\n",
              "    }\n",
              "\n",
              "    .dataframe thead th {\n",
              "        text-align: right;\n",
              "    }\n",
              "</style>\n",
              "<table border=\"1\" class=\"dataframe\">\n",
              "  <thead>\n",
              "    <tr style=\"text-align: right;\">\n",
              "      <th>name</th>\n",
              "      <th>Abondance Restaurante Bar</th>\n",
              "      <th>Arrachela Grill</th>\n",
              "      <th>Cabana Huasteca</th>\n",
              "      <th>Cafe Chaires</th>\n",
              "      <th>Cafeteria cenidet</th>\n",
              "      <th>Cafeteria y Restaurant El Pacifico</th>\n",
              "      <th>Carls Jr</th>\n",
              "      <th>Carnitas Mata  Calle 16 de Septiembre</th>\n",
              "      <th>Carreton de Flautas y Migadas</th>\n",
              "      <th>Cenaduria El RincÃ³n de Tlaquepaque</th>\n",
              "      <th>...</th>\n",
              "      <th>puesto de tacos</th>\n",
              "      <th>rockabilly</th>\n",
              "      <th>shi ro ie</th>\n",
              "      <th>sirloin stockade</th>\n",
              "      <th>tacos abi</th>\n",
              "      <th>tacos de barbacoa enfrente del Tec</th>\n",
              "      <th>tacos de la estacion</th>\n",
              "      <th>tacos los volcanes</th>\n",
              "      <th>tortas hawai</th>\n",
              "      <th>vips</th>\n",
              "    </tr>\n",
              "    <tr>\n",
              "      <th>userID</th>\n",
              "      <th></th>\n",
              "      <th></th>\n",
              "      <th></th>\n",
              "      <th></th>\n",
              "      <th></th>\n",
              "      <th></th>\n",
              "      <th></th>\n",
              "      <th></th>\n",
              "      <th></th>\n",
              "      <th></th>\n",
              "      <th></th>\n",
              "      <th></th>\n",
              "      <th></th>\n",
              "      <th></th>\n",
              "      <th></th>\n",
              "      <th></th>\n",
              "      <th></th>\n",
              "      <th></th>\n",
              "      <th></th>\n",
              "      <th></th>\n",
              "      <th></th>\n",
              "    </tr>\n",
              "  </thead>\n",
              "  <tbody>\n",
              "    <tr>\n",
              "      <th>U1001</th>\n",
              "      <td>0.0</td>\n",
              "      <td>0.0</td>\n",
              "      <td>0.0</td>\n",
              "      <td>0.0</td>\n",
              "      <td>0.0</td>\n",
              "      <td>0.0</td>\n",
              "      <td>0.0</td>\n",
              "      <td>0.0</td>\n",
              "      <td>0.0</td>\n",
              "      <td>0.0</td>\n",
              "      <td>...</td>\n",
              "      <td>3.0</td>\n",
              "      <td>0.0</td>\n",
              "      <td>0.0</td>\n",
              "      <td>0.0</td>\n",
              "      <td>0.0</td>\n",
              "      <td>0.0</td>\n",
              "      <td>0.0</td>\n",
              "      <td>0.0</td>\n",
              "      <td>0.0</td>\n",
              "      <td>0.0</td>\n",
              "    </tr>\n",
              "    <tr>\n",
              "      <th>U1002</th>\n",
              "      <td>0.0</td>\n",
              "      <td>0.0</td>\n",
              "      <td>0.0</td>\n",
              "      <td>0.0</td>\n",
              "      <td>0.0</td>\n",
              "      <td>0.0</td>\n",
              "      <td>0.0</td>\n",
              "      <td>0.0</td>\n",
              "      <td>0.0</td>\n",
              "      <td>0.0</td>\n",
              "      <td>...</td>\n",
              "      <td>3.0</td>\n",
              "      <td>0.0</td>\n",
              "      <td>0.0</td>\n",
              "      <td>0.0</td>\n",
              "      <td>0.0</td>\n",
              "      <td>0.0</td>\n",
              "      <td>0.0</td>\n",
              "      <td>0.0</td>\n",
              "      <td>0.0</td>\n",
              "      <td>0.0</td>\n",
              "    </tr>\n",
              "    <tr>\n",
              "      <th>U1003</th>\n",
              "      <td>0.0</td>\n",
              "      <td>0.0</td>\n",
              "      <td>3.0</td>\n",
              "      <td>0.0</td>\n",
              "      <td>0.0</td>\n",
              "      <td>0.0</td>\n",
              "      <td>0.0</td>\n",
              "      <td>0.0</td>\n",
              "      <td>0.0</td>\n",
              "      <td>0.0</td>\n",
              "      <td>...</td>\n",
              "      <td>3.0</td>\n",
              "      <td>3.0</td>\n",
              "      <td>0.0</td>\n",
              "      <td>0.0</td>\n",
              "      <td>0.0</td>\n",
              "      <td>0.0</td>\n",
              "      <td>0.0</td>\n",
              "      <td>0.0</td>\n",
              "      <td>0.0</td>\n",
              "      <td>0.0</td>\n",
              "    </tr>\n",
              "    <tr>\n",
              "      <th>U1004</th>\n",
              "      <td>0.0</td>\n",
              "      <td>0.0</td>\n",
              "      <td>0.0</td>\n",
              "      <td>0.0</td>\n",
              "      <td>0.0</td>\n",
              "      <td>3.0</td>\n",
              "      <td>0.0</td>\n",
              "      <td>0.0</td>\n",
              "      <td>0.0</td>\n",
              "      <td>0.0</td>\n",
              "      <td>...</td>\n",
              "      <td>0.0</td>\n",
              "      <td>0.0</td>\n",
              "      <td>0.0</td>\n",
              "      <td>0.0</td>\n",
              "      <td>0.0</td>\n",
              "      <td>0.0</td>\n",
              "      <td>0.0</td>\n",
              "      <td>3.0</td>\n",
              "      <td>0.0</td>\n",
              "      <td>0.0</td>\n",
              "    </tr>\n",
              "    <tr>\n",
              "      <th>U1005</th>\n",
              "      <td>0.0</td>\n",
              "      <td>0.0</td>\n",
              "      <td>0.0</td>\n",
              "      <td>0.0</td>\n",
              "      <td>0.0</td>\n",
              "      <td>2.0</td>\n",
              "      <td>0.0</td>\n",
              "      <td>0.0</td>\n",
              "      <td>0.0</td>\n",
              "      <td>0.0</td>\n",
              "      <td>...</td>\n",
              "      <td>0.0</td>\n",
              "      <td>0.0</td>\n",
              "      <td>0.0</td>\n",
              "      <td>0.0</td>\n",
              "      <td>0.0</td>\n",
              "      <td>0.0</td>\n",
              "      <td>0.0</td>\n",
              "      <td>0.0</td>\n",
              "      <td>0.0</td>\n",
              "      <td>0.0</td>\n",
              "    </tr>\n",
              "    <tr>\n",
              "      <th>U1006</th>\n",
              "      <td>0.0</td>\n",
              "      <td>0.0</td>\n",
              "      <td>0.0</td>\n",
              "      <td>1.0</td>\n",
              "      <td>0.0</td>\n",
              "      <td>0.0</td>\n",
              "      <td>0.0</td>\n",
              "      <td>0.0</td>\n",
              "      <td>0.0</td>\n",
              "      <td>0.0</td>\n",
              "      <td>...</td>\n",
              "      <td>2.0</td>\n",
              "      <td>0.0</td>\n",
              "      <td>3.0</td>\n",
              "      <td>0.0</td>\n",
              "      <td>0.0</td>\n",
              "      <td>0.0</td>\n",
              "      <td>0.0</td>\n",
              "      <td>0.0</td>\n",
              "      <td>0.0</td>\n",
              "      <td>0.0</td>\n",
              "    </tr>\n",
              "    <tr>\n",
              "      <th>U1007</th>\n",
              "      <td>0.0</td>\n",
              "      <td>0.0</td>\n",
              "      <td>0.0</td>\n",
              "      <td>2.0</td>\n",
              "      <td>0.0</td>\n",
              "      <td>2.0</td>\n",
              "      <td>0.0</td>\n",
              "      <td>0.0</td>\n",
              "      <td>0.0</td>\n",
              "      <td>0.0</td>\n",
              "      <td>...</td>\n",
              "      <td>0.0</td>\n",
              "      <td>0.0</td>\n",
              "      <td>0.0</td>\n",
              "      <td>0.0</td>\n",
              "      <td>0.0</td>\n",
              "      <td>0.0</td>\n",
              "      <td>0.0</td>\n",
              "      <td>0.0</td>\n",
              "      <td>0.0</td>\n",
              "      <td>0.0</td>\n",
              "    </tr>\n",
              "    <tr>\n",
              "      <th>U1008</th>\n",
              "      <td>2.0</td>\n",
              "      <td>0.0</td>\n",
              "      <td>0.0</td>\n",
              "      <td>0.0</td>\n",
              "      <td>0.0</td>\n",
              "      <td>0.0</td>\n",
              "      <td>0.0</td>\n",
              "      <td>0.0</td>\n",
              "      <td>0.0</td>\n",
              "      <td>0.0</td>\n",
              "      <td>...</td>\n",
              "      <td>0.0</td>\n",
              "      <td>0.0</td>\n",
              "      <td>0.0</td>\n",
              "      <td>0.0</td>\n",
              "      <td>0.0</td>\n",
              "      <td>0.0</td>\n",
              "      <td>0.0</td>\n",
              "      <td>0.0</td>\n",
              "      <td>0.0</td>\n",
              "      <td>0.0</td>\n",
              "    </tr>\n",
              "    <tr>\n",
              "      <th>U1009</th>\n",
              "      <td>0.0</td>\n",
              "      <td>0.0</td>\n",
              "      <td>3.0</td>\n",
              "      <td>0.0</td>\n",
              "      <td>0.0</td>\n",
              "      <td>0.0</td>\n",
              "      <td>0.0</td>\n",
              "      <td>0.0</td>\n",
              "      <td>0.0</td>\n",
              "      <td>0.0</td>\n",
              "      <td>...</td>\n",
              "      <td>2.0</td>\n",
              "      <td>0.0</td>\n",
              "      <td>0.0</td>\n",
              "      <td>0.0</td>\n",
              "      <td>0.0</td>\n",
              "      <td>0.0</td>\n",
              "      <td>0.0</td>\n",
              "      <td>0.0</td>\n",
              "      <td>0.0</td>\n",
              "      <td>0.0</td>\n",
              "    </tr>\n",
              "    <tr>\n",
              "      <th>U1010</th>\n",
              "      <td>0.0</td>\n",
              "      <td>0.0</td>\n",
              "      <td>0.0</td>\n",
              "      <td>0.0</td>\n",
              "      <td>0.0</td>\n",
              "      <td>0.0</td>\n",
              "      <td>0.0</td>\n",
              "      <td>0.0</td>\n",
              "      <td>0.0</td>\n",
              "      <td>0.0</td>\n",
              "      <td>...</td>\n",
              "      <td>0.0</td>\n",
              "      <td>0.0</td>\n",
              "      <td>0.0</td>\n",
              "      <td>0.0</td>\n",
              "      <td>0.0</td>\n",
              "      <td>0.0</td>\n",
              "      <td>0.0</td>\n",
              "      <td>0.0</td>\n",
              "      <td>0.0</td>\n",
              "      <td>0.0</td>\n",
              "    </tr>\n",
              "  </tbody>\n",
              "</table>\n",
              "<p>10 rows × 129 columns</p>\n",
              "</div>\n",
              "      <button class=\"colab-df-convert\" onclick=\"convertToInteractive('df-e11d6015-6887-4847-8ca8-8bcba6f94281')\"\n",
              "              title=\"Convert this dataframe to an interactive table.\"\n",
              "              style=\"display:none;\">\n",
              "        \n",
              "  <svg xmlns=\"http://www.w3.org/2000/svg\" height=\"24px\"viewBox=\"0 0 24 24\"\n",
              "       width=\"24px\">\n",
              "    <path d=\"M0 0h24v24H0V0z\" fill=\"none\"/>\n",
              "    <path d=\"M18.56 5.44l.94 2.06.94-2.06 2.06-.94-2.06-.94-.94-2.06-.94 2.06-2.06.94zm-11 1L8.5 8.5l.94-2.06 2.06-.94-2.06-.94L8.5 2.5l-.94 2.06-2.06.94zm10 10l.94 2.06.94-2.06 2.06-.94-2.06-.94-.94-2.06-.94 2.06-2.06.94z\"/><path d=\"M17.41 7.96l-1.37-1.37c-.4-.4-.92-.59-1.43-.59-.52 0-1.04.2-1.43.59L10.3 9.45l-7.72 7.72c-.78.78-.78 2.05 0 2.83L4 21.41c.39.39.9.59 1.41.59.51 0 1.02-.2 1.41-.59l7.78-7.78 2.81-2.81c.8-.78.8-2.07 0-2.86zM5.41 20L4 18.59l7.72-7.72 1.47 1.35L5.41 20z\"/>\n",
              "  </svg>\n",
              "      </button>\n",
              "      \n",
              "  <style>\n",
              "    .colab-df-container {\n",
              "      display:flex;\n",
              "      flex-wrap:wrap;\n",
              "      gap: 12px;\n",
              "    }\n",
              "\n",
              "    .colab-df-convert {\n",
              "      background-color: #E8F0FE;\n",
              "      border: none;\n",
              "      border-radius: 50%;\n",
              "      cursor: pointer;\n",
              "      display: none;\n",
              "      fill: #1967D2;\n",
              "      height: 32px;\n",
              "      padding: 0 0 0 0;\n",
              "      width: 32px;\n",
              "    }\n",
              "\n",
              "    .colab-df-convert:hover {\n",
              "      background-color: #E2EBFA;\n",
              "      box-shadow: 0px 1px 2px rgba(60, 64, 67, 0.3), 0px 1px 3px 1px rgba(60, 64, 67, 0.15);\n",
              "      fill: #174EA6;\n",
              "    }\n",
              "\n",
              "    [theme=dark] .colab-df-convert {\n",
              "      background-color: #3B4455;\n",
              "      fill: #D2E3FC;\n",
              "    }\n",
              "\n",
              "    [theme=dark] .colab-df-convert:hover {\n",
              "      background-color: #434B5C;\n",
              "      box-shadow: 0px 1px 3px 1px rgba(0, 0, 0, 0.15);\n",
              "      filter: drop-shadow(0px 1px 2px rgba(0, 0, 0, 0.3));\n",
              "      fill: #FFFFFF;\n",
              "    }\n",
              "  </style>\n",
              "\n",
              "      <script>\n",
              "        const buttonEl =\n",
              "          document.querySelector('#df-e11d6015-6887-4847-8ca8-8bcba6f94281 button.colab-df-convert');\n",
              "        buttonEl.style.display =\n",
              "          google.colab.kernel.accessAllowed ? 'block' : 'none';\n",
              "\n",
              "        async function convertToInteractive(key) {\n",
              "          const element = document.querySelector('#df-e11d6015-6887-4847-8ca8-8bcba6f94281');\n",
              "          const dataTable =\n",
              "            await google.colab.kernel.invokeFunction('convertToInteractive',\n",
              "                                                     [key], {});\n",
              "          if (!dataTable) return;\n",
              "\n",
              "          const docLinkHtml = 'Like what you see? Visit the ' +\n",
              "            '<a target=\"_blank\" href=https://colab.research.google.com/notebooks/data_table.ipynb>data table notebook</a>'\n",
              "            + ' to learn more about interactive tables.';\n",
              "          element.innerHTML = '';\n",
              "          dataTable['output_type'] = 'display_data';\n",
              "          await google.colab.output.renderOutput(dataTable, element);\n",
              "          const docLink = document.createElement('div');\n",
              "          docLink.innerHTML = docLinkHtml;\n",
              "          element.appendChild(docLink);\n",
              "        }\n",
              "      </script>\n",
              "    </div>\n",
              "  </div>\n",
              "  "
            ]
          },
          "metadata": {},
          "execution_count": 226
        }
      ],
      "source": [
        "# Matriz Traspuesta de los datos\n",
        "df_transposed6 = df6.pivot_table(values='food_rating', index='userID', columns='name')\n",
        "df_transposed6.fillna(0,inplace=True)\n",
        "df_transposed6\n",
        "df_transposed6.head(10)"
      ]
    },
    {
      "cell_type": "markdown",
      "metadata": {
        "id": "tl-Jc28nmCRD"
      },
      "source": [
        "### Ejercicio 6.b\n",
        "Con el objetivo de obtener la información con respecto a los vectores latentes (*eighenvectors*) de los restaurantes, \n",
        "obtener dicha factorización SVD utilizando todas las componentes posibles, es decir, usando todos \n",
        "sus valores singulares. En particular indica la cantidad de valores singulares obtenidos."
      ]
    },
    {
      "cell_type": "code",
      "execution_count": null,
      "metadata": {
        "id": "x6uBleJUC_AU",
        "vscode": {
          "languageId": "python"
        },
        "colab": {
          "base_uri": "https://localhost:8080/"
        },
        "outputId": "6df76f02-9549-4dbd-8da9-8ad3b3f298e7"
      },
      "outputs": [
        {
          "output_type": "execute_result",
          "data": {
            "text/plain": [
              "TruncatedSVD(n_components=137, random_state=1)"
            ]
          },
          "metadata": {},
          "execution_count": 227
        }
      ],
      "source": [
        "#Entrenamiento de los datos\n",
        "X6 = df_transposed6.T\n",
        "SVD6 = TruncatedSVD(n_components=(X6.shape[1] - 1), random_state=1)  \n",
        "SVD6.fit(X6)"
      ]
    },
    {
      "cell_type": "code",
      "execution_count": null,
      "metadata": {
        "id": "n0P_AcyjC_Dh",
        "vscode": {
          "languageId": "python"
        },
        "colab": {
          "base_uri": "https://localhost:8080/"
        },
        "outputId": "4f0ace25-dcaf-4014-e9f6-82c18a95aa49"
      },
      "outputs": [
        {
          "output_type": "stream",
          "name": "stdout",
          "text": [
            "La cantidad de valores singulares obtenidos es: 137\n",
            "0.0%\n"
          ]
        }
      ],
      "source": [
        "sv = 137   \n",
        "\n",
        "print('La cantidad de valores singulares obtenidos es: %d' % sv)\n",
        "print('%.1f%%' %  (100 * (1- (SVD6.singular_values_[0:sv]).sum() / (SVD6.singular_values_).sum())))"
      ]
    },
    {
      "cell_type": "markdown",
      "metadata": {
        "id": "qFs9QJjomCRF"
      },
      "source": [
        "### Ejercicio 6.c\n",
        "Usando la métrica de correlación de Pearson, obtener las 10 mejores recomendaciones de este \n",
        "modelo no supervisado con base a la información de alguien que evaluó bien de manera general al \n",
        "“Subway”. Despliega también el valor numérico de la correlación de Pearson de cada una de estas 10 \n",
        "recomendaciones. NOTA: No debe estar incluido “Subway” dentro de las recomendaciones. "
      ]
    },
    {
      "cell_type": "code",
      "execution_count": null,
      "metadata": {
        "vscode": {
          "languageId": "python"
        },
        "colab": {
          "base_uri": "https://localhost:8080/"
        },
        "id": "fFdYevR8mCRF",
        "outputId": "0e001a63-9bd2-46d9-f339-acad9f189841"
      },
      "outputs": [
        {
          "output_type": "stream",
          "name": "stdout",
          "text": [
            "Tamaño de la matriz de pearson:  (129, 129)\n"
          ]
        }
      ],
      "source": [
        "#Calculo de la matriz de correlación\n",
        "Result_Matrix6 = SVD6.fit_transform(X_data)\n",
        "Result_Matrix6.shape\n",
        "Pearson_Matrix6 = np.corrcoef(Result_Matrix6, )\n",
        "print(\"Tamaño de la matriz de pearson: \", Pearson_Matrix6.shape)"
      ]
    },
    {
      "cell_type": "code",
      "execution_count": null,
      "metadata": {
        "vscode": {
          "languageId": "python"
        },
        "colab": {
          "base_uri": "https://localhost:8080/"
        },
        "id": "0FdFI6tAmCRF",
        "outputId": "7bea5d46-bdc3-48fe-c402-6dee77d4f2c5"
      },
      "outputs": [
        {
          "output_type": "stream",
          "name": "stdout",
          "text": [
            "Número de recomendaciones:  88\n",
            "Coeficiente necesario para 10 restaurantes:  0.2675944448116524\n"
          ]
        },
        {
          "output_type": "execute_result",
          "data": {
            "text/plain": [
              "[{'Restaurant Teely': 70.0},\n",
              " {'Vips': 60.31},\n",
              " {'Restaurant and Bar and Clothesline Carlos N Charlies': 49.44},\n",
              " {'Mariscos Tia Licha': 47.61},\n",
              " {'Rincon del Bife': 43.0},\n",
              " {'Sanborns Casa Piedra': 40.82},\n",
              " {'Chilis Cuernavaca': 36.02},\n",
              " {'Restaurant Las Mananitas': 28.43},\n",
              " {'Restaurant Familiar El Chino': 27.96},\n",
              " {'Mikasa': 26.76}]"
            ]
          },
          "metadata": {},
          "execution_count": 230
        }
      ],
      "source": [
        "Subway = \"Subway\"\n",
        "\n",
        "names6 = df_transposed6.columns\n",
        "names_list6 = list(names6)\n",
        "Recommend_Subway6 = names_list6.index(Subway)\n",
        "\n",
        "print(\"Número de recomendaciones: \", Recommend_Subway6)\n",
        "\n",
        "# Las recomendaciones\n",
        "recommend6 = Pearson_Matrix6[Recommend_Subway6]\n",
        "\n",
        "recom_coef6 = np.copy(recommend6)\n",
        "recom_coef6.sort()\n",
        "print(\"Coeficiente necesario para 10 restaurantes: \", recom_coef6[-11])\n",
        "\n",
        "name_list6 = list(names6[(recommend6 >= recom_coef6[-11]) & (recommend6 < 0.99)])\n",
        "names_top6 = []\n",
        "total_name_top6 = []\n",
        "for restaurant in name_list6:\n",
        "    index = np.where(names6 == restaurant)\n",
        "    total_name_top6.append(restaurant)\n",
        "    names_top6.append({restaurant: round(recommend6[index[0]][0] * 100, 2)})\n",
        "sorted(names_top6, key=lambda x: list(x.values())[0], reverse=True)"
      ]
    },
    {
      "cell_type": "markdown",
      "metadata": {
        "id": "NZbB-tjGmCRG"
      },
      "source": [
        "### Ejercicio 6.d\n",
        "Disminuye ahora la dimensión de la factorización con un número de componentes tal, que las \n",
        "recomendaciones con esta menor cantidad de información coincidan en al menos 9 de las 10 \n",
        "recomendaciones dadas con todos los valores singulares. Indica la cantidad de valores singulares \n",
        "encontrado y la cantidad de información que contienen. "
      ]
    },
    {
      "cell_type": "code",
      "execution_count": null,
      "metadata": {
        "vscode": {
          "languageId": "python"
        },
        "colab": {
          "base_uri": "https://localhost:8080/"
        },
        "id": "2iEbnFi-mCRH",
        "outputId": "04fa3553-305c-40e3-dfde-2c717045c80a"
      },
      "outputs": [
        {
          "output_type": "stream",
          "name": "stdout",
          "text": [
            "La cantidad de valores singulares obtenidos es: 53\n",
            "25.8%\n"
          ]
        }
      ],
      "source": [
        "sv = 53\n",
        "\n",
        "print('La cantidad de valores singulares obtenidos es: %d' % sv)\n",
        "print('%.1f%%' %  (100 * (1- (SVD6.singular_values_[0:sv]).sum() / (SVD6.singular_values_).sum())))"
      ]
    },
    {
      "cell_type": "code",
      "execution_count": null,
      "metadata": {
        "vscode": {
          "languageId": "python"
        },
        "colab": {
          "base_uri": "https://localhost:8080/"
        },
        "id": "YmyZfe_GmCRH",
        "outputId": "ac3145f8-4aec-466f-cc77-bec43f51198e"
      },
      "outputs": [
        {
          "output_type": "stream",
          "name": "stdout",
          "text": [
            "Tamaño de la matriz de pearson:  (129, 129)\n"
          ]
        }
      ],
      "source": [
        "SVD62 = TruncatedSVD(n_components=sv, random_state=1)\n",
        "#Calculo de la matriz de correlación\n",
        "Result_Matrix62 = SVD62.fit_transform(X_data)\n",
        "Result_Matrix62.shape\n",
        "Pearson_Matrix62 = np.corrcoef(Result_Matrix62, )\n",
        "print(\"Tamaño de la matriz de pearson: \", Pearson_Matrix62.shape)"
      ]
    },
    {
      "cell_type": "code",
      "execution_count": null,
      "metadata": {
        "vscode": {
          "languageId": "python"
        },
        "colab": {
          "base_uri": "https://localhost:8080/"
        },
        "id": "BKqU2de6mCRI",
        "outputId": "47f16cfc-ea8b-44bc-8e9c-809e6d6567c2"
      },
      "outputs": [
        {
          "output_type": "stream",
          "name": "stdout",
          "text": [
            "Número de recomendaciones:  88\n",
            "Coeficiente necesario para 10 restaurantes:  0.2772854589447623\n"
          ]
        },
        {
          "output_type": "execute_result",
          "data": {
            "text/plain": [
              "[{'Restaurant Teely': 83.29},\n",
              " {'Rincon del Bife': 70.68},\n",
              " {'Vips': 66.69},\n",
              " {'Restaurant and Bar and Clothesline Carlos N Charlies': 60.92},\n",
              " {'Mariscos Tia Licha': 51.34},\n",
              " {'Sanborns Casa Piedra': 43.64},\n",
              " {'Mikasa': 41.6},\n",
              " {'Chilis Cuernavaca': 36.62},\n",
              " {'Restaurant los Pinos': 30.01},\n",
              " {'Restaurant Las Mananitas': 27.73}]"
            ]
          },
          "metadata": {},
          "execution_count": 233
        }
      ],
      "source": [
        "Subway = \"Subway\"\n",
        "\n",
        "names62 = df_transposed6.columns\n",
        "names_list62 = list(names62)\n",
        "Recommend_Subway62 = names_list62.index(Subway)\n",
        "\n",
        "print(\"Número de recomendaciones: \", Recommend_Subway62)\n",
        "\n",
        "# Las recomendaciones\n",
        "recommend62 = Pearson_Matrix62[Recommend_Subway62]\n",
        "\n",
        "recom_coef62 = np.copy(recommend62)\n",
        "recom_coef62.sort()\n",
        "print(\"Coeficiente necesario para 10 restaurantes: \", recom_coef62[-11])\n",
        "\n",
        "name_list62 = list(names62[(recommend62 >= recom_coef62[-11]) & (recommend62 < 0.99)])\n",
        "names_top62 = []\n",
        "coincidences6 = 0\n",
        "for restaurant in name_list62:\n",
        "    index = np.where(names62 == restaurant)\n",
        "    if restaurant in total_name_top6:\n",
        "        coincidences6 += 1\n",
        "    names_top62.append({restaurant: round(recommend62[index[0]][0] * 100, 2)})\n",
        "sorted(names_top62, key=lambda x: list(x.values())[0], reverse=True)"
      ]
    },
    {
      "cell_type": "code",
      "execution_count": null,
      "metadata": {
        "vscode": {
          "languageId": "python"
        },
        "colab": {
          "base_uri": "https://localhost:8080/"
        },
        "id": "J-KShLymmCRJ",
        "outputId": "e11416f5-7ced-48e4-f107-21058e03a8ff"
      },
      "outputs": [
        {
          "output_type": "stream",
          "name": "stdout",
          "text": [
            "Número de los restaurantes que coinciden:  9\n"
          ]
        }
      ],
      "source": [
        "print(\"Número de los restaurantes que coinciden: \", coincidences6)"
      ]
    },
    {
      "cell_type": "markdown",
      "metadata": {
        "id": "lUvqUSV5cd-Z"
      },
      "source": [
        "# **Ejercicio-7.**"
      ]
    },
    {
      "cell_type": "markdown",
      "metadata": {
        "id": "BQ0DPIY70j7p"
      },
      "source": [
        "Repite los ejercicios 1 a 4 generando ahora. "
      ]
    },
    {
      "cell_type": "markdown",
      "metadata": {
        "id": "MhmmpsTqmCRM"
      },
      "source": [
        "### Ejercicio 7.a\n",
        "La matriz de utilidad en la cual los renglones son los \n",
        "usuarios (user_ID), las columnas los nombres de los restaurantes (name) y las entradas la \n",
        "evaluación dada al servicio (service_rating). Incluye tus conclusiones."
      ]
    },
    {
      "cell_type": "code",
      "execution_count": null,
      "metadata": {
        "vscode": {
          "languageId": "python"
        },
        "colab": {
          "base_uri": "https://localhost:8080/"
        },
        "id": "5t2CdFKemCRM",
        "outputId": "225ba124-5f2b-4c79-b2c1-f7272b6d0f92"
      },
      "outputs": [
        {
          "output_type": "stream",
          "name": "stdout",
          "text": [
            "Tamaño de los datos:  (15207, 4)\n",
            "  userID  service_rating  placeID                    name\n",
            "0  U1077               3   135085  Tortas Locas Hipocampo\n",
            "1  U1077               3   135085  Tortas Locas Hipocampo\n",
            "2  U1077               3   135085  Tortas Locas Hipocampo\n",
            "3  U1077               3   135085  Tortas Locas Hipocampo\n",
            "4  U1077               3   135085  Tortas Locas Hipocampo\n"
          ]
        }
      ],
      "source": [
        "#Copia de los datos\n",
        "df7 = pd.merge(df_Data[[\"userID\", \"service_rating\", \"placeID\"]], df_Data[[\"name\", \"placeID\"]], on='placeID')\n",
        "print(\"Tamaño de los datos: \", df7.shape)\n",
        "print(df7.head())"
      ]
    },
    {
      "cell_type": "code",
      "execution_count": null,
      "metadata": {
        "vscode": {
          "languageId": "python"
        },
        "colab": {
          "base_uri": "https://localhost:8080/",
          "height": 551
        },
        "id": "gKZ7JBq-mCRN",
        "outputId": "924c42a8-9ea5-42d0-a45d-5e04636aff4c"
      },
      "outputs": [
        {
          "output_type": "execute_result",
          "data": {
            "text/plain": [
              "name    Abondance Restaurante Bar  Arrachela Grill  Cabana Huasteca  \\\n",
              "userID                                                                \n",
              "U1001                         0.0              0.0              0.0   \n",
              "U1002                         0.0              0.0              0.0   \n",
              "U1003                         0.0              0.0              3.0   \n",
              "U1004                         0.0              0.0              0.0   \n",
              "U1005                         0.0              0.0              0.0   \n",
              "U1006                         0.0              0.0              0.0   \n",
              "U1007                         0.0              0.0              0.0   \n",
              "U1008                         2.0              0.0              0.0   \n",
              "U1009                         0.0              0.0              2.0   \n",
              "U1010                         0.0              0.0              0.0   \n",
              "\n",
              "name    Cafe Chaires  Cafeteria cenidet  Cafeteria y Restaurant El Pacifico  \\\n",
              "userID                                                                        \n",
              "U1001            0.0                0.0                                 0.0   \n",
              "U1002            0.0                0.0                                 0.0   \n",
              "U1003            0.0                0.0                                 0.0   \n",
              "U1004            0.0                0.0                                 3.0   \n",
              "U1005            0.0                0.0                                 3.0   \n",
              "U1006            2.0                0.0                                 0.0   \n",
              "U1007            2.0                0.0                                 1.0   \n",
              "U1008            0.0                0.0                                 0.0   \n",
              "U1009            0.0                0.0                                 0.0   \n",
              "U1010            0.0                0.0                                 0.0   \n",
              "\n",
              "name    Carls Jr  Carnitas Mata  Calle 16 de Septiembre  \\\n",
              "userID                                                    \n",
              "U1001        0.0                                    0.0   \n",
              "U1002        0.0                                    0.0   \n",
              "U1003        0.0                                    0.0   \n",
              "U1004        0.0                                    0.0   \n",
              "U1005        0.0                                    0.0   \n",
              "U1006        0.0                                    0.0   \n",
              "U1007        0.0                                    0.0   \n",
              "U1008        0.0                                    0.0   \n",
              "U1009        0.0                                    0.0   \n",
              "U1010        0.0                                    0.0   \n",
              "\n",
              "name    Carreton de Flautas y Migadas  Cenaduria El RincÃ³n de Tlaquepaque  \\\n",
              "userID                                                                       \n",
              "U1001                             0.0                                  0.0   \n",
              "U1002                             0.0                                  0.0   \n",
              "U1003                             0.0                                  0.0   \n",
              "U1004                             0.0                                  0.0   \n",
              "U1005                             0.0                                  0.0   \n",
              "U1006                             0.0                                  0.0   \n",
              "U1007                             0.0                                  0.0   \n",
              "U1008                             0.0                                  0.0   \n",
              "U1009                             0.0                                  0.0   \n",
              "U1010                             0.0                                  0.0   \n",
              "\n",
              "name    ...  puesto de tacos  rockabilly   shi ro ie  sirloin stockade  \\\n",
              "userID  ...                                                              \n",
              "U1001   ...              2.0          0.0        0.0               0.0   \n",
              "U1002   ...              1.0          0.0        0.0               0.0   \n",
              "U1003   ...              2.0          2.0        0.0               0.0   \n",
              "U1004   ...              0.0          0.0        0.0               0.0   \n",
              "U1005   ...              0.0          0.0        0.0               0.0   \n",
              "U1006   ...              2.0          0.0        3.0               0.0   \n",
              "U1007   ...              0.0          0.0        0.0               0.0   \n",
              "U1008   ...              0.0          0.0        0.0               0.0   \n",
              "U1009   ...              1.0          0.0        0.0               0.0   \n",
              "U1010   ...              0.0          0.0        0.0               0.0   \n",
              "\n",
              "name    tacos abi  tacos de barbacoa enfrente del Tec  tacos de la estacion  \\\n",
              "userID                                                                        \n",
              "U1001         0.0                                 0.0                   0.0   \n",
              "U1002         0.0                                 0.0                   0.0   \n",
              "U1003         0.0                                 0.0                   0.0   \n",
              "U1004         0.0                                 0.0                   0.0   \n",
              "U1005         0.0                                 0.0                   0.0   \n",
              "U1006         0.0                                 0.0                   0.0   \n",
              "U1007         0.0                                 0.0                   0.0   \n",
              "U1008         0.0                                 0.0                   0.0   \n",
              "U1009         0.0                                 0.0                   0.0   \n",
              "U1010         0.0                                 0.0                   0.0   \n",
              "\n",
              "name    tacos los volcanes  tortas hawai  vips  \n",
              "userID                                          \n",
              "U1001                  0.0           0.0   0.0  \n",
              "U1002                  0.0           0.0   0.0  \n",
              "U1003                  0.0           0.0   0.0  \n",
              "U1004                  3.0           0.0   0.0  \n",
              "U1005                  0.0           0.0   0.0  \n",
              "U1006                  0.0           0.0   0.0  \n",
              "U1007                  0.0           0.0   0.0  \n",
              "U1008                  0.0           0.0   0.0  \n",
              "U1009                  0.0           0.0   0.0  \n",
              "U1010                  0.0           0.0   0.0  \n",
              "\n",
              "[10 rows x 129 columns]"
            ],
            "text/html": [
              "\n",
              "  <div id=\"df-e12e1820-6ef4-4f16-ab1c-ddfa1362c891\">\n",
              "    <div class=\"colab-df-container\">\n",
              "      <div>\n",
              "<style scoped>\n",
              "    .dataframe tbody tr th:only-of-type {\n",
              "        vertical-align: middle;\n",
              "    }\n",
              "\n",
              "    .dataframe tbody tr th {\n",
              "        vertical-align: top;\n",
              "    }\n",
              "\n",
              "    .dataframe thead th {\n",
              "        text-align: right;\n",
              "    }\n",
              "</style>\n",
              "<table border=\"1\" class=\"dataframe\">\n",
              "  <thead>\n",
              "    <tr style=\"text-align: right;\">\n",
              "      <th>name</th>\n",
              "      <th>Abondance Restaurante Bar</th>\n",
              "      <th>Arrachela Grill</th>\n",
              "      <th>Cabana Huasteca</th>\n",
              "      <th>Cafe Chaires</th>\n",
              "      <th>Cafeteria cenidet</th>\n",
              "      <th>Cafeteria y Restaurant El Pacifico</th>\n",
              "      <th>Carls Jr</th>\n",
              "      <th>Carnitas Mata  Calle 16 de Septiembre</th>\n",
              "      <th>Carreton de Flautas y Migadas</th>\n",
              "      <th>Cenaduria El RincÃ³n de Tlaquepaque</th>\n",
              "      <th>...</th>\n",
              "      <th>puesto de tacos</th>\n",
              "      <th>rockabilly</th>\n",
              "      <th>shi ro ie</th>\n",
              "      <th>sirloin stockade</th>\n",
              "      <th>tacos abi</th>\n",
              "      <th>tacos de barbacoa enfrente del Tec</th>\n",
              "      <th>tacos de la estacion</th>\n",
              "      <th>tacos los volcanes</th>\n",
              "      <th>tortas hawai</th>\n",
              "      <th>vips</th>\n",
              "    </tr>\n",
              "    <tr>\n",
              "      <th>userID</th>\n",
              "      <th></th>\n",
              "      <th></th>\n",
              "      <th></th>\n",
              "      <th></th>\n",
              "      <th></th>\n",
              "      <th></th>\n",
              "      <th></th>\n",
              "      <th></th>\n",
              "      <th></th>\n",
              "      <th></th>\n",
              "      <th></th>\n",
              "      <th></th>\n",
              "      <th></th>\n",
              "      <th></th>\n",
              "      <th></th>\n",
              "      <th></th>\n",
              "      <th></th>\n",
              "      <th></th>\n",
              "      <th></th>\n",
              "      <th></th>\n",
              "      <th></th>\n",
              "    </tr>\n",
              "  </thead>\n",
              "  <tbody>\n",
              "    <tr>\n",
              "      <th>U1001</th>\n",
              "      <td>0.0</td>\n",
              "      <td>0.0</td>\n",
              "      <td>0.0</td>\n",
              "      <td>0.0</td>\n",
              "      <td>0.0</td>\n",
              "      <td>0.0</td>\n",
              "      <td>0.0</td>\n",
              "      <td>0.0</td>\n",
              "      <td>0.0</td>\n",
              "      <td>0.0</td>\n",
              "      <td>...</td>\n",
              "      <td>2.0</td>\n",
              "      <td>0.0</td>\n",
              "      <td>0.0</td>\n",
              "      <td>0.0</td>\n",
              "      <td>0.0</td>\n",
              "      <td>0.0</td>\n",
              "      <td>0.0</td>\n",
              "      <td>0.0</td>\n",
              "      <td>0.0</td>\n",
              "      <td>0.0</td>\n",
              "    </tr>\n",
              "    <tr>\n",
              "      <th>U1002</th>\n",
              "      <td>0.0</td>\n",
              "      <td>0.0</td>\n",
              "      <td>0.0</td>\n",
              "      <td>0.0</td>\n",
              "      <td>0.0</td>\n",
              "      <td>0.0</td>\n",
              "      <td>0.0</td>\n",
              "      <td>0.0</td>\n",
              "      <td>0.0</td>\n",
              "      <td>0.0</td>\n",
              "      <td>...</td>\n",
              "      <td>1.0</td>\n",
              "      <td>0.0</td>\n",
              "      <td>0.0</td>\n",
              "      <td>0.0</td>\n",
              "      <td>0.0</td>\n",
              "      <td>0.0</td>\n",
              "      <td>0.0</td>\n",
              "      <td>0.0</td>\n",
              "      <td>0.0</td>\n",
              "      <td>0.0</td>\n",
              "    </tr>\n",
              "    <tr>\n",
              "      <th>U1003</th>\n",
              "      <td>0.0</td>\n",
              "      <td>0.0</td>\n",
              "      <td>3.0</td>\n",
              "      <td>0.0</td>\n",
              "      <td>0.0</td>\n",
              "      <td>0.0</td>\n",
              "      <td>0.0</td>\n",
              "      <td>0.0</td>\n",
              "      <td>0.0</td>\n",
              "      <td>0.0</td>\n",
              "      <td>...</td>\n",
              "      <td>2.0</td>\n",
              "      <td>2.0</td>\n",
              "      <td>0.0</td>\n",
              "      <td>0.0</td>\n",
              "      <td>0.0</td>\n",
              "      <td>0.0</td>\n",
              "      <td>0.0</td>\n",
              "      <td>0.0</td>\n",
              "      <td>0.0</td>\n",
              "      <td>0.0</td>\n",
              "    </tr>\n",
              "    <tr>\n",
              "      <th>U1004</th>\n",
              "      <td>0.0</td>\n",
              "      <td>0.0</td>\n",
              "      <td>0.0</td>\n",
              "      <td>0.0</td>\n",
              "      <td>0.0</td>\n",
              "      <td>3.0</td>\n",
              "      <td>0.0</td>\n",
              "      <td>0.0</td>\n",
              "      <td>0.0</td>\n",
              "      <td>0.0</td>\n",
              "      <td>...</td>\n",
              "      <td>0.0</td>\n",
              "      <td>0.0</td>\n",
              "      <td>0.0</td>\n",
              "      <td>0.0</td>\n",
              "      <td>0.0</td>\n",
              "      <td>0.0</td>\n",
              "      <td>0.0</td>\n",
              "      <td>3.0</td>\n",
              "      <td>0.0</td>\n",
              "      <td>0.0</td>\n",
              "    </tr>\n",
              "    <tr>\n",
              "      <th>U1005</th>\n",
              "      <td>0.0</td>\n",
              "      <td>0.0</td>\n",
              "      <td>0.0</td>\n",
              "      <td>0.0</td>\n",
              "      <td>0.0</td>\n",
              "      <td>3.0</td>\n",
              "      <td>0.0</td>\n",
              "      <td>0.0</td>\n",
              "      <td>0.0</td>\n",
              "      <td>0.0</td>\n",
              "      <td>...</td>\n",
              "      <td>0.0</td>\n",
              "      <td>0.0</td>\n",
              "      <td>0.0</td>\n",
              "      <td>0.0</td>\n",
              "      <td>0.0</td>\n",
              "      <td>0.0</td>\n",
              "      <td>0.0</td>\n",
              "      <td>0.0</td>\n",
              "      <td>0.0</td>\n",
              "      <td>0.0</td>\n",
              "    </tr>\n",
              "    <tr>\n",
              "      <th>U1006</th>\n",
              "      <td>0.0</td>\n",
              "      <td>0.0</td>\n",
              "      <td>0.0</td>\n",
              "      <td>2.0</td>\n",
              "      <td>0.0</td>\n",
              "      <td>0.0</td>\n",
              "      <td>0.0</td>\n",
              "      <td>0.0</td>\n",
              "      <td>0.0</td>\n",
              "      <td>0.0</td>\n",
              "      <td>...</td>\n",
              "      <td>2.0</td>\n",
              "      <td>0.0</td>\n",
              "      <td>3.0</td>\n",
              "      <td>0.0</td>\n",
              "      <td>0.0</td>\n",
              "      <td>0.0</td>\n",
              "      <td>0.0</td>\n",
              "      <td>0.0</td>\n",
              "      <td>0.0</td>\n",
              "      <td>0.0</td>\n",
              "    </tr>\n",
              "    <tr>\n",
              "      <th>U1007</th>\n",
              "      <td>0.0</td>\n",
              "      <td>0.0</td>\n",
              "      <td>0.0</td>\n",
              "      <td>2.0</td>\n",
              "      <td>0.0</td>\n",
              "      <td>1.0</td>\n",
              "      <td>0.0</td>\n",
              "      <td>0.0</td>\n",
              "      <td>0.0</td>\n",
              "      <td>0.0</td>\n",
              "      <td>...</td>\n",
              "      <td>0.0</td>\n",
              "      <td>0.0</td>\n",
              "      <td>0.0</td>\n",
              "      <td>0.0</td>\n",
              "      <td>0.0</td>\n",
              "      <td>0.0</td>\n",
              "      <td>0.0</td>\n",
              "      <td>0.0</td>\n",
              "      <td>0.0</td>\n",
              "      <td>0.0</td>\n",
              "    </tr>\n",
              "    <tr>\n",
              "      <th>U1008</th>\n",
              "      <td>2.0</td>\n",
              "      <td>0.0</td>\n",
              "      <td>0.0</td>\n",
              "      <td>0.0</td>\n",
              "      <td>0.0</td>\n",
              "      <td>0.0</td>\n",
              "      <td>0.0</td>\n",
              "      <td>0.0</td>\n",
              "      <td>0.0</td>\n",
              "      <td>0.0</td>\n",
              "      <td>...</td>\n",
              "      <td>0.0</td>\n",
              "      <td>0.0</td>\n",
              "      <td>0.0</td>\n",
              "      <td>0.0</td>\n",
              "      <td>0.0</td>\n",
              "      <td>0.0</td>\n",
              "      <td>0.0</td>\n",
              "      <td>0.0</td>\n",
              "      <td>0.0</td>\n",
              "      <td>0.0</td>\n",
              "    </tr>\n",
              "    <tr>\n",
              "      <th>U1009</th>\n",
              "      <td>0.0</td>\n",
              "      <td>0.0</td>\n",
              "      <td>2.0</td>\n",
              "      <td>0.0</td>\n",
              "      <td>0.0</td>\n",
              "      <td>0.0</td>\n",
              "      <td>0.0</td>\n",
              "      <td>0.0</td>\n",
              "      <td>0.0</td>\n",
              "      <td>0.0</td>\n",
              "      <td>...</td>\n",
              "      <td>1.0</td>\n",
              "      <td>0.0</td>\n",
              "      <td>0.0</td>\n",
              "      <td>0.0</td>\n",
              "      <td>0.0</td>\n",
              "      <td>0.0</td>\n",
              "      <td>0.0</td>\n",
              "      <td>0.0</td>\n",
              "      <td>0.0</td>\n",
              "      <td>0.0</td>\n",
              "    </tr>\n",
              "    <tr>\n",
              "      <th>U1010</th>\n",
              "      <td>0.0</td>\n",
              "      <td>0.0</td>\n",
              "      <td>0.0</td>\n",
              "      <td>0.0</td>\n",
              "      <td>0.0</td>\n",
              "      <td>0.0</td>\n",
              "      <td>0.0</td>\n",
              "      <td>0.0</td>\n",
              "      <td>0.0</td>\n",
              "      <td>0.0</td>\n",
              "      <td>...</td>\n",
              "      <td>0.0</td>\n",
              "      <td>0.0</td>\n",
              "      <td>0.0</td>\n",
              "      <td>0.0</td>\n",
              "      <td>0.0</td>\n",
              "      <td>0.0</td>\n",
              "      <td>0.0</td>\n",
              "      <td>0.0</td>\n",
              "      <td>0.0</td>\n",
              "      <td>0.0</td>\n",
              "    </tr>\n",
              "  </tbody>\n",
              "</table>\n",
              "<p>10 rows × 129 columns</p>\n",
              "</div>\n",
              "      <button class=\"colab-df-convert\" onclick=\"convertToInteractive('df-e12e1820-6ef4-4f16-ab1c-ddfa1362c891')\"\n",
              "              title=\"Convert this dataframe to an interactive table.\"\n",
              "              style=\"display:none;\">\n",
              "        \n",
              "  <svg xmlns=\"http://www.w3.org/2000/svg\" height=\"24px\"viewBox=\"0 0 24 24\"\n",
              "       width=\"24px\">\n",
              "    <path d=\"M0 0h24v24H0V0z\" fill=\"none\"/>\n",
              "    <path d=\"M18.56 5.44l.94 2.06.94-2.06 2.06-.94-2.06-.94-.94-2.06-.94 2.06-2.06.94zm-11 1L8.5 8.5l.94-2.06 2.06-.94-2.06-.94L8.5 2.5l-.94 2.06-2.06.94zm10 10l.94 2.06.94-2.06 2.06-.94-2.06-.94-.94-2.06-.94 2.06-2.06.94z\"/><path d=\"M17.41 7.96l-1.37-1.37c-.4-.4-.92-.59-1.43-.59-.52 0-1.04.2-1.43.59L10.3 9.45l-7.72 7.72c-.78.78-.78 2.05 0 2.83L4 21.41c.39.39.9.59 1.41.59.51 0 1.02-.2 1.41-.59l7.78-7.78 2.81-2.81c.8-.78.8-2.07 0-2.86zM5.41 20L4 18.59l7.72-7.72 1.47 1.35L5.41 20z\"/>\n",
              "  </svg>\n",
              "      </button>\n",
              "      \n",
              "  <style>\n",
              "    .colab-df-container {\n",
              "      display:flex;\n",
              "      flex-wrap:wrap;\n",
              "      gap: 12px;\n",
              "    }\n",
              "\n",
              "    .colab-df-convert {\n",
              "      background-color: #E8F0FE;\n",
              "      border: none;\n",
              "      border-radius: 50%;\n",
              "      cursor: pointer;\n",
              "      display: none;\n",
              "      fill: #1967D2;\n",
              "      height: 32px;\n",
              "      padding: 0 0 0 0;\n",
              "      width: 32px;\n",
              "    }\n",
              "\n",
              "    .colab-df-convert:hover {\n",
              "      background-color: #E2EBFA;\n",
              "      box-shadow: 0px 1px 2px rgba(60, 64, 67, 0.3), 0px 1px 3px 1px rgba(60, 64, 67, 0.15);\n",
              "      fill: #174EA6;\n",
              "    }\n",
              "\n",
              "    [theme=dark] .colab-df-convert {\n",
              "      background-color: #3B4455;\n",
              "      fill: #D2E3FC;\n",
              "    }\n",
              "\n",
              "    [theme=dark] .colab-df-convert:hover {\n",
              "      background-color: #434B5C;\n",
              "      box-shadow: 0px 1px 3px 1px rgba(0, 0, 0, 0.15);\n",
              "      filter: drop-shadow(0px 1px 2px rgba(0, 0, 0, 0.3));\n",
              "      fill: #FFFFFF;\n",
              "    }\n",
              "  </style>\n",
              "\n",
              "      <script>\n",
              "        const buttonEl =\n",
              "          document.querySelector('#df-e12e1820-6ef4-4f16-ab1c-ddfa1362c891 button.colab-df-convert');\n",
              "        buttonEl.style.display =\n",
              "          google.colab.kernel.accessAllowed ? 'block' : 'none';\n",
              "\n",
              "        async function convertToInteractive(key) {\n",
              "          const element = document.querySelector('#df-e12e1820-6ef4-4f16-ab1c-ddfa1362c891');\n",
              "          const dataTable =\n",
              "            await google.colab.kernel.invokeFunction('convertToInteractive',\n",
              "                                                     [key], {});\n",
              "          if (!dataTable) return;\n",
              "\n",
              "          const docLinkHtml = 'Like what you see? Visit the ' +\n",
              "            '<a target=\"_blank\" href=https://colab.research.google.com/notebooks/data_table.ipynb>data table notebook</a>'\n",
              "            + ' to learn more about interactive tables.';\n",
              "          element.innerHTML = '';\n",
              "          dataTable['output_type'] = 'display_data';\n",
              "          await google.colab.output.renderOutput(dataTable, element);\n",
              "          const docLink = document.createElement('div');\n",
              "          docLink.innerHTML = docLinkHtml;\n",
              "          element.appendChild(docLink);\n",
              "        }\n",
              "      </script>\n",
              "    </div>\n",
              "  </div>\n",
              "  "
            ]
          },
          "metadata": {},
          "execution_count": 236
        }
      ],
      "source": [
        "#Matriz Traspuesta de los datos\n",
        "df_transposed7 = df7.pivot_table(values='service_rating', index='userID', columns='name')\n",
        "df_transposed7.fillna(0,inplace=True)\n",
        "df_transposed7\n",
        "df_transposed7.head(10)"
      ]
    },
    {
      "cell_type": "markdown",
      "metadata": {
        "id": "24zoFg0zmCRO"
      },
      "source": [
        "### Ejercicio 7.b\n",
        "Con el objetivo de obtener la información con respecto a los vectores latentes (*eighenvectors*) de los restaurantes, \n",
        "obtener dicha factorización SVD utilizando todas las componentes posibles, es decir, usando todos \n",
        "sus valores singulares. En particular indica la cantidad de valores singulares obtenidos."
      ]
    },
    {
      "cell_type": "code",
      "execution_count": null,
      "metadata": {
        "vscode": {
          "languageId": "python"
        },
        "colab": {
          "base_uri": "https://localhost:8080/"
        },
        "id": "O8tycwFrmCRO",
        "outputId": "bb44d27b-8125-46fa-a25e-ef45e6c22647"
      },
      "outputs": [
        {
          "output_type": "execute_result",
          "data": {
            "text/plain": [
              "TruncatedSVD(n_components=137, random_state=1)"
            ]
          },
          "metadata": {},
          "execution_count": 237
        }
      ],
      "source": [
        "#Entrenamiento de los datos\n",
        "X7 = df_transposed7.T\n",
        "SVD7 = TruncatedSVD(n_components=(X7.shape[1] - 1), random_state=1)  \n",
        "SVD7.fit(X7)"
      ]
    },
    {
      "cell_type": "code",
      "execution_count": null,
      "metadata": {
        "vscode": {
          "languageId": "python"
        },
        "colab": {
          "base_uri": "https://localhost:8080/"
        },
        "id": "m7FwvpL-mCRO",
        "outputId": "5a7b1b33-8ebf-41db-abcc-2b3b373abbd2"
      },
      "outputs": [
        {
          "output_type": "stream",
          "name": "stdout",
          "text": [
            "La cantidad de valores singulares obtenidos es: 137\n",
            "0.0%\n"
          ]
        }
      ],
      "source": [
        "sv = 137   \n",
        "\n",
        "print('La cantidad de valores singulares obtenidos es: %d' % sv)\n",
        "print('%.1f%%' %  (100 * (1- (SVD7.singular_values_[0:sv]).sum() / (SVD7.singular_values_).sum())))"
      ]
    },
    {
      "cell_type": "markdown",
      "metadata": {
        "id": "bhwW64q1mCRP"
      },
      "source": [
        "### Ejercicio 7.c\n",
        "Usando la métrica de correlación de Pearson, obtener las 10 mejores recomendaciones de este \n",
        "modelo no supervisado con base a la información de alguien que evaluó bien de manera general al \n",
        "“Subway”. Despliega también el valor numérico de la correlación de Pearson de cada una de estas 10 \n",
        "recomendaciones. NOTA: No debe estar incluido “Subway” dentro de las recomendaciones. "
      ]
    },
    {
      "cell_type": "code",
      "execution_count": null,
      "metadata": {
        "vscode": {
          "languageId": "python"
        },
        "colab": {
          "base_uri": "https://localhost:8080/"
        },
        "id": "GaBFRfXGmCRP",
        "outputId": "e571834a-a72b-4eb8-fb7c-07caf9941e7e"
      },
      "outputs": [
        {
          "output_type": "stream",
          "name": "stdout",
          "text": [
            "Tamaño de la matriz de pearson:  (129, 129)\n"
          ]
        }
      ],
      "source": [
        "#Calculo de la matriz de correlación\n",
        "Result_Matrix7 = SVD7.fit_transform(X_data)\n",
        "Result_Matrix7.shape\n",
        "Pearson_Matrix7 = np.corrcoef(Result_Matrix7, )\n",
        "print(\"Tamaño de la matriz de pearson: \", Pearson_Matrix7.shape)"
      ]
    },
    {
      "cell_type": "code",
      "execution_count": null,
      "metadata": {
        "vscode": {
          "languageId": "python"
        },
        "colab": {
          "base_uri": "https://localhost:8080/"
        },
        "id": "G-B43PmgmCRP",
        "outputId": "68f5a199-93d3-4436-817a-958f9e7b58ce"
      },
      "outputs": [
        {
          "output_type": "stream",
          "name": "stdout",
          "text": [
            "Número de recomendaciones:  88\n",
            "Coeficiente necesario para 10 restaurantes:  0.2675944448116524\n"
          ]
        },
        {
          "output_type": "execute_result",
          "data": {
            "text/plain": [
              "[{'Restaurant Teely': 70.0},\n",
              " {'Vips': 60.31},\n",
              " {'Restaurant and Bar and Clothesline Carlos N Charlies': 49.44},\n",
              " {'Mariscos Tia Licha': 47.61},\n",
              " {'Rincon del Bife': 43.0},\n",
              " {'Sanborns Casa Piedra': 40.82},\n",
              " {'Chilis Cuernavaca': 36.02},\n",
              " {'Restaurant Las Mananitas': 28.43},\n",
              " {'Restaurant Familiar El Chino': 27.96},\n",
              " {'Mikasa': 26.76}]"
            ]
          },
          "metadata": {},
          "execution_count": 240
        }
      ],
      "source": [
        "Subway = \"Subway\"\n",
        "\n",
        "names7 = df_transposed7.columns\n",
        "names_list7 = list(names7)\n",
        "Recommend_Subway7 = names_list7.index(Subway)\n",
        "\n",
        "print(\"Número de recomendaciones: \", Recommend_Subway7)\n",
        "\n",
        "# Las recomendaciones\n",
        "recommend7 = Pearson_Matrix7[Recommend_Subway7]\n",
        "\n",
        "recom_coef7 = np.copy(recommend7)\n",
        "recom_coef7.sort()\n",
        "print(\"Coeficiente necesario para 10 restaurantes: \", recom_coef7[-11])\n",
        "\n",
        "name_list7 = list(names7[(recommend7 >= recom_coef7[-11]) & (recommend7 < 0.99)])\n",
        "names_top7 = []\n",
        "total_name_top7 = []\n",
        "for restaurant in name_list7:\n",
        "    index = np.where(names7 == restaurant)\n",
        "    total_name_top7.append(restaurant)\n",
        "    names_top7.append({restaurant: round(recommend7[index[0]][0] * 100, 2)})\n",
        "sorted(names_top7, key=lambda x: list(x.values())[0], reverse=True)"
      ]
    },
    {
      "cell_type": "markdown",
      "metadata": {
        "id": "E5R20jaUmCRQ"
      },
      "source": [
        "### Ejercicio 7.d\n",
        "Disminuye ahora la dimensión de la factorización con un número de componentes tal, que las \n",
        "recomendaciones con esta menor cantidad de información coincidan en al menos 9 de las 10 \n",
        "recomendaciones dadas con todos los valores singulares. Indica la cantidad de valores singulares \n",
        "encontrado y la cantidad de información que contienen."
      ]
    },
    {
      "cell_type": "code",
      "execution_count": null,
      "metadata": {
        "id": "taQvyxTc0iMa",
        "vscode": {
          "languageId": "python"
        },
        "colab": {
          "base_uri": "https://localhost:8080/"
        },
        "outputId": "f650d78a-7080-461b-d9c1-51b2575268a5"
      },
      "outputs": [
        {
          "output_type": "stream",
          "name": "stdout",
          "text": [
            "La cantidad de valores singulares obtenidos es: 53\n",
            "25.8%\n"
          ]
        }
      ],
      "source": [
        "sv = 53\n",
        "\n",
        "print('La cantidad de valores singulares obtenidos es: %d' % sv)\n",
        "print('%.1f%%' %  (100 * (1- (SVD7.singular_values_[0:sv]).sum() / (SVD7.singular_values_).sum())))"
      ]
    },
    {
      "cell_type": "code",
      "execution_count": null,
      "metadata": {
        "id": "TmXidIqtci7D",
        "vscode": {
          "languageId": "python"
        },
        "colab": {
          "base_uri": "https://localhost:8080/"
        },
        "outputId": "e2f17ddf-8c5b-431d-fa18-5b863bc2346c"
      },
      "outputs": [
        {
          "output_type": "stream",
          "name": "stdout",
          "text": [
            "Tamaño de la matriz de pearson:  (129, 129)\n"
          ]
        }
      ],
      "source": [
        "SVD72 = TruncatedSVD(n_components=sv, random_state=1)\n",
        "\n",
        "#Calculo de la matriz de correlación\n",
        "Result_Matrix72 = SVD72.fit_transform(X_data)\n",
        "Result_Matrix72.shape\n",
        "Pearson_Matrix72 = np.corrcoef(Result_Matrix72, )\n",
        "print(\"Tamaño de la matriz de pearson: \", Pearson_Matrix72.shape)"
      ]
    },
    {
      "cell_type": "code",
      "execution_count": null,
      "metadata": {
        "vscode": {
          "languageId": "python"
        },
        "colab": {
          "base_uri": "https://localhost:8080/"
        },
        "id": "aA9-gZu1mCRR",
        "outputId": "4af1c319-6dfc-455d-aee5-0d1333b5cbbe"
      },
      "outputs": [
        {
          "output_type": "stream",
          "name": "stdout",
          "text": [
            "Número de recomendaciones:  88\n",
            "Coeficiente necesario para 10 restaurantes:  0.2772854589447623\n"
          ]
        },
        {
          "output_type": "execute_result",
          "data": {
            "text/plain": [
              "[{'Restaurant Teely': 83.29},\n",
              " {'Rincon del Bife': 70.68},\n",
              " {'Vips': 66.69},\n",
              " {'Restaurant and Bar and Clothesline Carlos N Charlies': 60.92},\n",
              " {'Mariscos Tia Licha': 51.34},\n",
              " {'Sanborns Casa Piedra': 43.64},\n",
              " {'Mikasa': 41.6},\n",
              " {'Chilis Cuernavaca': 36.62},\n",
              " {'Restaurant los Pinos': 30.01},\n",
              " {'Restaurant Las Mananitas': 27.73}]"
            ]
          },
          "metadata": {},
          "execution_count": 243
        }
      ],
      "source": [
        "Subway = \"Subway\"\n",
        "\n",
        "names72 = df_transposed7.columns\n",
        "names_list72 = list(names72)\n",
        "Recommend_Subway72 = names_list72.index(Subway)\n",
        "\n",
        "print(\"Número de recomendaciones: \", Recommend_Subway72)\n",
        "\n",
        "# Las recomendaciones\n",
        "recommend72 = Pearson_Matrix72[Recommend_Subway72]\n",
        "\n",
        "recom_coef72 = np.copy(recommend72)\n",
        "recom_coef72.sort()\n",
        "print(\"Coeficiente necesario para 10 restaurantes: \", recom_coef72[-11])\n",
        "\n",
        "name_list72 = list(names72[(recommend72 >= recom_coef72[-11]) & (recommend72 < 0.99)])\n",
        "names_top72 = []\n",
        "coincidences7 = 0\n",
        "for restaurant in name_list72:\n",
        "    index = np.where(names72 == restaurant)\n",
        "    if restaurant in total_name_top7:\n",
        "        coincidences7 += 1\n",
        "    names_top72.append({restaurant: round(recommend72[index[0]][0] * 100, 2)})\n",
        "sorted(names_top72, key=lambda x: list(x.values())[0], reverse=True)"
      ]
    },
    {
      "cell_type": "code",
      "execution_count": null,
      "metadata": {
        "id": "gtaf5rUfcjgX",
        "vscode": {
          "languageId": "python"
        },
        "colab": {
          "base_uri": "https://localhost:8080/"
        },
        "outputId": "e44cea81-f5fc-4a06-d1de-fa361533721f"
      },
      "outputs": [
        {
          "output_type": "stream",
          "name": "stdout",
          "text": [
            "Número de los restaurantes que coinciden:  9\n"
          ]
        }
      ],
      "source": [
        "print(\"Número de los restaurantes que coinciden: \", coincidences7)"
      ]
    },
    {
      "cell_type": "markdown",
      "metadata": {
        "id": "9h9eDt6fcmBN"
      },
      "source": [
        "# **Ejercicio-8.**"
      ]
    },
    {
      "cell_type": "markdown",
      "source": [
        "# **Conclusiones**\n",
        "\n",
        "Para este ejercicio, cosnsite en la descomposición en valores singulares o SVD aplicado a la reducción de dimensionalidad, permitiendo reducir los componentes para simplificar los cálculos deseados, en este caso, identificar la correlación entre restaurantes.\n",
        "\n",
        "En este caso de aprendizaje no supervisado, a diferencia de los métodos supervisados, aprendimos que no se tiene una etiqueta o anotación sobre la clase a la cual pertenece cada registro que conforma la base de datos, por lo que no se puede aplicar una función de costo para evaluar y supervisar el proceso de entrenamiento del modelo, no hay una y que sea función de las Xi; por lo que la forma de proceder deberá ser: identificar una característica común que sirva de “pivote” o “punto de referencia”  entre los objetos o registros, que sea el objeto de búsqueda, permita agruparlos por algún criterio de similitud y con alguna métrica predeterminada.\n",
        "\n",
        "Así mismo, al hacer este tipo de análisis de Reducción de Dimensionalidad - Descomposición en Valores Singulares (SVD) y Sistemas de Recomendación en métodos no supervisados, al igual que otros casos de análisis de datos y de predicciones, la clave es, como primer paso reconocer la conformación de la base de datos, analizarla y prepararla para los trabajos de investigación o desarrollo que se van a elaborar.\n",
        "\n",
        "En este ejemplo de la evaluación de la calidad de los servicios en restaurantes, lo primero que se realizó fue conformar una matriz (merge) que no solo califique los servicios, sino que los asocie con los lugares dónde se recibieron tales servicios. En seguida observar cómo los usuarios calificaron los servicios, a pesar de no tener una descripción de las variables, se observó que las calificaciones eran 0: mal servicio, 1: servicios regular 2: buen servicio. Además se observó, como es lógico para este tipo de estudios, que los usuarios asistieron a algún que otro lugar, pero nunca a todos los lugares bajos estudio (25); así que la base de datos muestra muchos datos faltantes, justo porque cada usuario no visito todos los restaurantes. Así el primer paso fue renumerar las calificaciones para tener el cero disponible para los datos nulos presentados en la matriz base de de análisis, así las calificaciones de los servicios se movieron a: 1: mal servicio, 2: servicios regular 3: buen servicio.\n",
        "\n",
        "Con un modelo de este tipo la teoría menciona que seleccionado 10 vectores se elimina más del 80% de las características que no son utilizadas. Eliminando el 80%, no logra predecir los mimos resultados, que se obtenían cuando se usando los 137 vectores iniciales; con 10 vectores se alcanzaban solo 7 recomendaciones similares. En este caso se necesitaron 55 vectores que equivalen al 75% del total, para obtener los resultados similares de al menos 9 de las 10 recomendaciones obtenidas al usar los 137 vectores que componen toda las base de datos.\n",
        "\n",
        "Cuando se hace el ejercicio 5 con el restaurante “**tacos de barbacoa enfrente del Tec**”, usando la misma matriz entrenada, se observa que ahora las recomendaciones se mueven hacia restaurantes similares, cómo si esto fuera un clúster de este tipo de alimentos. Entonces el modelo se entrena para poder hacer las recomendaciones en relación a restaurantes similares entre sí, tomando como base un restaurante seleccionado como base o “pivote”.\n",
        "\n",
        "Al comparar los datos de correlación entre los ejercicios 4, 6 y 7 podemos observar que la calificación que los usuarios dan para el servicio, la comida y el negocio en general son similares, es decir califican casi de la misma manera la comida, el servicio y en general; esto se nota al hacer el análisis con todas las características; pero si la evaluación de esto se hace con menos, para poder tener una coincidencia de al menos 9 restaurantes, en los resultados arrojados con el análisis con todas las características, los porcentajes de correlación bajan e incluso muestran un restaurante diferente al que se recomendaría inicialmente. Algo que se denota es que el valor para llegar al menos a los 9 restaurantes iguales ronda los 55, para poder obtener esto en los tres tipos de calificación que se evalúan.\n",
        "\n",
        "El restaurante que presenta el mejor índice de correlación lo encontramos en Restaurante Teely, entre 70.48%, 83.11% y 83.29%, utilizando los diferentes variables (\"Food Rating\", \"Service Rating\", y \"Rating\"). El restaurante Las Mananitas, se encuentra con índices de correlación entre: 27.73%, 27.65% y 27.73%, utilizando las variables (\"Food Rating\", \"Service Rating\", y \"Rating\"). De esto podemos comentar que los 3 diferentes sistemas de recomendación propuestos, nos indican que el mejor restaurante o al menos el más recomendado es el \"Restaurante Teely\", miestras que el \"Restaurante \"Las Mananitas\" no es tan recomendado, sin embargo, está entre los 10 primeros que arrojan los sistemas de recomendación. \n",
        "\n",
        "**Por lo tanto la próxima vez que nos encontremos por esos rumbos seria buena idea visitarlo.**"
      ],
      "metadata": {
        "id": "Vc3LmAVEy9Ep"
      }
    },
    {
      "cell_type": "markdown",
      "source": [
        "**Fin de la Actividad de la semana 10 - Sistemas de Recomendación y Reducción de Dimensionalidad con SVD**"
      ],
      "metadata": {
        "id": "zXZfuhziXWfy"
      }
    }
  ],
  "metadata": {
    "colab": {
      "provenance": [],
      "include_colab_link": true
    },
    "kernelspec": {
      "display_name": "Python 3",
      "name": "python3"
    }
  },
  "nbformat": 4,
  "nbformat_minor": 0
}